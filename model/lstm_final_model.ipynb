{
 "cells": [
  {
   "cell_type": "code",
   "execution_count": 1,
   "metadata": {},
   "outputs": [],
   "source": [
    "import torch\n",
    "import torch.nn as nn\n",
    "import torch.nn.functional as F\n",
    "import torch.optim as optim\n",
    "from sklearn.model_selection import train_test_split\n",
    "from torch.nn.utils.rnn import pack_padded_sequence, pad_packed_sequence\n",
    "from torch.utils.data import Dataset, DataLoader\n",
    "from collections import Counter\n",
    "\n",
    "import numpy as np\n",
    "import pandas as pd\n",
    "import pickle\n",
    "import random\n",
    "import os\n",
    "\n",
    "torch.manual_seed(10)\n",
    "# device = 'cuda' if torch.cuda.is_available() else 'cpu'\n",
    "device = \"cpu\""
   ]
  },
  {
   "cell_type": "code",
   "execution_count": 5,
   "metadata": {},
   "outputs": [],
   "source": [
    "model = BiLSTM(20)\n",
    "#model.to(device)\n",
    "#model = BiLSTM(17)\n",
    "\n",
    "\n",
    "# Class weights (1, 2, 3, 4, 5, 6, 7, 8, 9, 10)\n",
    "#weights = torch.tensor([0.69,2.95,0.08,0.02,0.77,0.017,18.59,0 ,0.007,76.83], dtype=torch.float32)\n",
    "#weights = weights / weights.sum()\n",
    "#weights = 1.0 / weights\n",
    "#weights = weights / weights.sum()\n",
    "\n",
    "\n",
    "#loss_function = nn.NLLLoss()\n",
    "#loss_function = nn.CrossEntropyLoss(weight=weights.to(device))\n",
    "loss_function = nn.CrossEntropyLoss()\n",
    "#loss_function = nn.BCEWithLogitsLoss(reduction='sum')\n",
    "optimizer = optim.Adam(model.parameters(), lr = 0.003)"
   ]
  },
  {
   "cell_type": "code",
   "execution_count": 4,
   "metadata": {},
   "outputs": [],
   "source": [
    "# A common headache in this competition is the lack of determinism in the results due to cudnn, the following solves the issue\n",
    "def seed_everything(seed=10):\n",
    "    random.seed(seed)\n",
    "    os.environ['PYTHONHASHSEED'] = str(seed)\n",
    "    np.random.seed(seed)\n",
    "    torch.manual_seed(seed)\n",
    "    torch.cuda.manual_seed(seed)\n",
    "    torch.backends.cudnn.deterministic = True\n",
    "seed_everything()"
   ]
  },
  {
   "cell_type": "markdown",
   "metadata": {},
   "source": [
    "# Do not run this block"
   ]
  },
  {
   "cell_type": "code",
   "execution_count": 6,
   "metadata": {},
   "outputs": [],
   "source": [
    "def process_vision_output():\n",
    "    i = 1\n",
    "    for file in os.scandir('./vision_output'):\n",
    "        if (os.path.isfile('./nlp_output/{0}'.format(file.name))):\n",
    "            vision_out = []\n",
    "            with open(file, \"rb\") as openfile:\n",
    "                while True:\n",
    "                    try:\n",
    "                        vision_out.append(pickle.load(openfile))\n",
    "                    except EOFError:\n",
    "                        break\n",
    "\n",
    "            processed_out = []\n",
    "\n",
    "            for idk in vision_out:\n",
    "                for segment in idk:\n",
    "                    vector = segment[1]\n",
    "                    for word in segment[0].split(' '):\n",
    "                        processed_out.append([word, vector])\n",
    "\n",
    "            processed_out = processed_out\n",
    "            with open(\"./processed_vision_output/{0}\".format(file.name), 'wb') as f:\n",
    "                pickle.dump(processed_out, f)\n",
    "            print(\"File {0}\".format(i), end='\\r')\n",
    "            i+=1"
   ]
  },
  {
   "cell_type": "markdown",
   "metadata": {},
   "source": [
    "# Do not run this block"
   ]
  },
  {
   "cell_type": "code",
   "execution_count": 7,
   "metadata": {},
   "outputs": [
    {
     "name": "stdout",
     "output_type": "stream",
     "text": [
      "File 8817\r"
     ]
    }
   ],
   "source": [
    "process_vision_output()"
   ]
  },
  {
   "cell_type": "markdown",
   "metadata": {},
   "source": [
    "# Do not run this block"
   ]
  },
  {
   "cell_type": "code",
   "execution_count": 24,
   "metadata": {},
   "outputs": [],
   "source": [
    "def process_input():\n",
    "    i=1\n",
    "    for nlp_file in os.scandir('./nlp_output'):\n",
    "        if not os.path.isfile(\"./processed_vision_output/{0}\".format(nlp_file.name)):\n",
    "            continue\n",
    "        with open(nlp_file, \"rb\") as f:\n",
    "            nlp_out = pickle.load(f)\n",
    "\n",
    "        with open(\"./processed_vision_output/{0}\".format(nlp_file.name), \"rb\") as f:\n",
    "            vision_out = pickle.load(f)\n",
    "        nlp_out = np.reshape(nlp_out, (int(nlp_out.shape[0]/2), -1))\n",
    "        \n",
    "\n",
    "        combined_out = []\n",
    "        clone_nlp_out = np.copy(nlp_out)\n",
    "        for word in vision_out:\n",
    "            if word[0] != '':\n",
    "                match_indexes = np.where(clone_nlp_out == word[0])\n",
    "                if len(match_indexes[0]) == 0:\n",
    "                    continue\n",
    "                match_words = clone_nlp_out[match_indexes[0][0]]\n",
    "                if match_words.shape[0] > 0:\n",
    "                    word_string = match_words[0]\n",
    "                    word_vector = match_words[1]\n",
    "\n",
    "                    combined_out.append([word_string, word_vector, word[1]])\n",
    "                    print(combined_out)\n",
    "                    break\n",
    "                    clone_nlp_out = np.delete(clone_nlp_out, match_indexes[0][0], axis=0)\n",
    "        \n",
    "        break\n",
    "        #with open(\"./input/{0}\".format(nlp_file.name), 'wb') as f:\n",
    "            #pickle.dump(combined_out, f)\n",
    "            #i+=1\n",
    "            #print(i, end='\\r')\n",
    "    print(\"finished {0} files\".format(i))"
   ]
  },
  {
   "cell_type": "markdown",
   "metadata": {},
   "source": [
    "# Do not run this block"
   ]
  },
  {
   "cell_type": "code",
   "execution_count": 25,
   "metadata": {},
   "outputs": [
    {
     "name": "stdout",
     "output_type": "stream",
     "text": [
      "[['LILOG-DB:', array([0., 1., 0., 0., 0., 0., 0., 0., 0., 0.]), tensor([1.0121e-05, 1.3362e-05, 1.6208e-05, 3.9565e-05, 2.9993e-05, 9.6917e-06,\n",
      "        1.5591e-05, 7.7356e-05, 9.9926e-01, 5.3165e-04], device='cuda:0')]]\n",
      "finished 1 files\n"
     ]
    },
    {
     "name": "stderr",
     "output_type": "stream",
     "text": [
      "<ipython-input-24-df703234343e>:18: FutureWarning: elementwise comparison failed; returning scalar instead, but in the future will perform elementwise comparison\n",
      "  match_indexes = np.where(clone_nlp_out == word[0])\n"
     ]
    }
   ],
   "source": [
    "process_input()"
   ]
  },
  {
   "cell_type": "code",
   "execution_count": 28,
   "metadata": {},
   "outputs": [
    {
     "name": "stdout",
     "output_type": "stream",
     "text": [
      "[['Racial', array([0., 0., 0., 0., 1., 0., 0., 0., 0., 0.]), tensor([2.0732e-05, 1.5546e-04, 3.6291e-05, 6.5662e-05, 9.9903e-01, 3.6597e-05,\n",
      "        1.9442e-05, 6.5046e-05, 1.5049e-04, 4.1674e-04], device='cuda:0')], ['Enhanced', array([0., 1., 0., 0., 0., 0., 0., 0., 0., 0.]), tensor([1.7972e-04, 6.9671e-05, 2.3943e-04, 4.3705e-04, 2.2131e-04, 4.9830e-05,\n",
      "        6.1091e-05, 1.7892e-04, 9.9815e-01, 4.1133e-04], device='cuda:0')], ['plant', array([0., 1., 0., 0., 0., 0., 0., 0., 0., 0.]), tensor([1.7972e-04, 6.9671e-05, 2.3943e-04, 4.3705e-04, 2.2131e-04, 4.9830e-05,\n",
      "        6.1091e-05, 1.7892e-04, 9.9815e-01, 4.1133e-04], device='cuda:0')], ['fault', array([0., 1., 0., 0., 0., 0., 0., 0., 0., 0.]), tensor([1.7972e-04, 6.9671e-05, 2.3943e-04, 4.3705e-04, 2.2131e-04, 4.9830e-05,\n",
      "        6.1091e-05, 1.7892e-04, 9.9815e-01, 4.1133e-04], device='cuda:0')], ['diagnosis', array([0., 1., 0., 0., 0., 0., 0., 0., 0., 0.]), tensor([1.7972e-04, 6.9671e-05, 2.3943e-04, 4.3705e-04, 2.2131e-04, 4.9830e-05,\n",
      "        6.1091e-05, 1.7892e-04, 9.9815e-01, 4.1133e-04], device='cuda:0')], ['based', array([0., 1., 0., 0., 0., 0., 0., 0., 0., 0.]), tensor([1.7972e-04, 6.9671e-05, 2.3943e-04, 4.3705e-04, 2.2131e-04, 4.9830e-05,\n",
      "        6.1091e-05, 1.7892e-04, 9.9815e-01, 4.1133e-04], device='cuda:0')], ['on', array([0., 1., 0., 0., 0., 0., 0., 0., 0., 0.]), tensor([1.7972e-04, 6.9671e-05, 2.3943e-04, 4.3705e-04, 2.2131e-04, 4.9830e-05,\n",
      "        6.1091e-05, 1.7892e-04, 9.9815e-01, 4.1133e-04], device='cuda:0')], ['of', array([0., 1., 0., 0., 0., 0., 0., 0., 0., 0.]), tensor([1.7972e-04, 6.9671e-05, 2.3943e-04, 4.3705e-04, 2.2131e-04, 4.9830e-05,\n",
      "        6.1091e-05, 1.7892e-04, 9.9815e-01, 4.1133e-04], device='cuda:0')], ['transient', array([0., 1., 0., 0., 0., 0., 0., 0., 0., 0.]), tensor([1.7972e-04, 6.9671e-05, 2.3943e-04, 4.3705e-04, 2.2131e-04, 4.9830e-05,\n",
      "        6.1091e-05, 1.7892e-04, 9.9815e-01, 4.1133e-04], device='cuda:0')], ['stages.', array([0., 1., 0., 0., 0., 0., 0., 0., 0., 0.]), tensor([1.7972e-04, 6.9671e-05, 2.3943e-04, 4.3705e-04, 2.2131e-04, 4.9830e-05,\n",
      "        6.1091e-05, 1.7892e-04, 9.9815e-01, 4.1133e-04], device='cuda:0')], ['Isaac', array([1., 0., 0., 0., 0., 0., 0., 0., 0., 0.]), tensor([3.0564e-04, 1.0721e-03, 2.2984e-04, 9.9682e-01, 2.1688e-04, 4.7626e-05,\n",
      "        9.1904e-05, 1.5589e-04, 7.2150e-04, 3.3961e-04], device='cuda:0')], ['Monroy,', array([1., 0., 0., 0., 0., 0., 0., 0., 0., 0.]), tensor([3.0564e-04, 1.0721e-03, 2.2984e-04, 9.9682e-01, 2.1688e-04, 4.7626e-05,\n",
      "        9.1904e-05, 1.5589e-04, 7.2150e-04, 3.3961e-04], device='cuda:0')], ['Ethnic', array([0., 0., 0., 0., 1., 0., 0., 0., 0., 0.]), tensor([1.0286e-04, 1.7300e-04, 4.2152e-04, 5.4416e-04, 2.9929e-04, 1.2524e-04,\n",
      "        1.1383e-04, 9.9524e-01, 8.5586e-04, 2.1214e-03], device='cuda:0')], ['and', array([0., 0., 0., 0., 1., 0., 0., 0., 0., 0.]), tensor([1.0286e-04, 1.7300e-04, 4.2152e-04, 5.4416e-04, 2.9929e-04, 1.2524e-04,\n",
      "        1.1383e-04, 9.9524e-01, 8.5586e-04, 2.1214e-03], device='cuda:0')], ['Studies', array([0., 0., 0., 0., 1., 0., 0., 0., 0., 0.]), tensor([1.0286e-04, 1.7300e-04, 4.2152e-04, 5.4416e-04, 2.9929e-04, 1.2524e-04,\n",
      "        1.1383e-04, 9.9524e-01, 8.5586e-04, 2.1214e-03], device='cuda:0')], ['Mediadesign', array([0., 0., 1., 0., 0., 0., 0., 0., 0., 0.]), tensor([9.2415e-05, 9.9076e-01, 3.3863e-04, 6.1355e-03, 3.3585e-04, 4.2044e-04,\n",
      "        7.7328e-04, 1.9496e-04, 1.8287e-04, 7.6354e-04], device='cuda:0')], ['Hochschule', array([0., 0., 1., 0., 0., 0., 0., 0., 0., 0.]), tensor([9.2415e-05, 9.9076e-01, 3.3863e-04, 6.1355e-03, 3.3585e-04, 4.2044e-04,\n",
      "        7.7328e-04, 1.9496e-04, 1.8287e-04, 7.6354e-04], device='cuda:0')]]\n"
     ]
    }
   ],
   "source": [
    "with open(\"./input/11258_1341.pickle\", \"rb\") as f:\n",
    "    vision_out = pickle.load(f)\n",
    "    print(vision_out)"
   ]
  },
  {
   "cell_type": "code",
   "execution_count": 40,
   "metadata": {},
   "outputs": [],
   "source": [
    "vectors = []\n",
    "labels = []\n",
    "words = []\n",
    "\n",
    "for file in os.scandir('./input'):\n",
    "    with open(file, 'rb') as f:\n",
    "        vs = pickle.load(f)\n",
    "    \n",
    "    for w in vs:\n",
    "        \n",
    "        words.append(w[0])\n",
    "        temp_w = w[2].cpu()\n",
    "        temp_t = temp_w.numpy()\n",
    "        vectors.append(np.concatenate((temp_t, w[1])))\n",
    "        labels.append(np.argmax(w[1]))\n",
    "    \n",
    "vectors = np.array(vectors)\n",
    "labels = np.array(labels)"
   ]
  },
  {
   "cell_type": "code",
   "execution_count": 42,
   "metadata": {},
   "outputs": [
    {
     "data": {
      "text/plain": [
       "(610439, 20)"
      ]
     },
     "execution_count": 42,
     "metadata": {},
     "output_type": "execute_result"
    }
   ],
   "source": [
    "vectors.shape"
   ]
  },
  {
   "cell_type": "code",
   "execution_count": 43,
   "metadata": {},
   "outputs": [
    {
     "data": {
      "text/plain": [
       "array([7.82922943e-05, 6.14503442e-05, 1.55886766e-04, 1.45714599e-04,\n",
       "       2.01831383e-04, 3.60690901e-05, 4.54061919e-05, 1.10021567e-04,\n",
       "       9.98981655e-01, 1.83759941e-04, 0.00000000e+00, 1.00000000e+00,\n",
       "       0.00000000e+00, 0.00000000e+00, 0.00000000e+00, 0.00000000e+00,\n",
       "       0.00000000e+00, 0.00000000e+00, 0.00000000e+00, 0.00000000e+00])"
      ]
     },
     "execution_count": 43,
     "metadata": {},
     "output_type": "execute_result"
    }
   ],
   "source": [
    "vectors[1]"
   ]
  },
  {
   "cell_type": "code",
   "execution_count": 44,
   "metadata": {},
   "outputs": [
    {
     "data": {
      "text/plain": [
       "(610439,)"
      ]
     },
     "execution_count": 44,
     "metadata": {},
     "output_type": "execute_result"
    }
   ],
   "source": [
    "labels.shape"
   ]
  },
  {
   "cell_type": "code",
   "execution_count": 45,
   "metadata": {},
   "outputs": [],
   "source": [
    "x_train, x_test, y_train, y_test = train_test_split(vectors, labels, test_size=0.2, random_state=42,stratify=labels)"
   ]
  },
  {
   "cell_type": "code",
   "execution_count": 46,
   "metadata": {},
   "outputs": [
    {
     "data": {
      "text/plain": [
       "(488351, 20)"
      ]
     },
     "execution_count": 46,
     "metadata": {},
     "output_type": "execute_result"
    }
   ],
   "source": [
    "x_train.shape"
   ]
  },
  {
   "cell_type": "code",
   "execution_count": 47,
   "metadata": {},
   "outputs": [
    {
     "data": {
      "text/plain": [
       "(488351,)"
      ]
     },
     "execution_count": 47,
     "metadata": {},
     "output_type": "execute_result"
    }
   ],
   "source": [
    "y_train.shape"
   ]
  },
  {
   "cell_type": "code",
   "execution_count": 48,
   "metadata": {},
   "outputs": [
    {
     "data": {
      "text/plain": [
       "(122088, 20)"
      ]
     },
     "execution_count": 48,
     "metadata": {},
     "output_type": "execute_result"
    }
   ],
   "source": [
    "x_test.shape"
   ]
  },
  {
   "cell_type": "code",
   "execution_count": 49,
   "metadata": {},
   "outputs": [
    {
     "name": "stdout",
     "output_type": "stream",
     "text": [
      "torch.Size([488351, 1, 20])\n",
      "torch.Size([488351])\n"
     ]
    }
   ],
   "source": [
    "labels = torch.from_numpy(np.array(y_train, dtype=np.int64)).to(device)\n",
    "v = torch.from_numpy(np.array(x_train, dtype=np.float64)).view(-1, 1, 20).float().to(device)\n",
    "print(v.shape)\n",
    "print(labels.shape)"
   ]
  },
  {
   "cell_type": "code",
   "execution_count": 50,
   "metadata": {},
   "outputs": [
    {
     "name": "stdout",
     "output_type": "stream",
     "text": [
      "torch.Size([122088, 1, 20])\n",
      "torch.Size([122088])\n"
     ]
    }
   ],
   "source": [
    "labels_2 = torch.from_numpy(np.array(y_test, dtype=np.int64)).to(device)\n",
    "v2 = torch.from_numpy(np.array(x_test, dtype=np.float64)).view(-1, 1, 20).float().to(device)\n",
    "print(v2.shape)\n",
    "print(labels_2.shape)"
   ]
  },
  {
   "cell_type": "code",
   "execution_count": 55,
   "metadata": {},
   "outputs": [
    {
     "data": {
      "text/plain": [
       "tensor(6)"
      ]
     },
     "execution_count": 55,
     "metadata": {},
     "output_type": "execute_result"
    }
   ],
   "source": [
    "labels_2[1]"
   ]
  },
  {
   "cell_type": "code",
   "execution_count": 56,
   "metadata": {},
   "outputs": [
    {
     "data": {
      "text/plain": [
       "array([9.94781554e-01, 1.85067183e-04, 5.69579948e-04, 1.04696129e-03,\n",
       "       1.74202723e-04, 3.27866292e-04, 1.80693227e-04, 1.15335826e-03,\n",
       "       9.47981840e-04, 6.32654235e-04, 0.00000000e+00, 0.00000000e+00,\n",
       "       0.00000000e+00, 0.00000000e+00, 0.00000000e+00, 0.00000000e+00,\n",
       "       1.00000000e+00, 0.00000000e+00, 0.00000000e+00, 0.00000000e+00])"
      ]
     },
     "execution_count": 56,
     "metadata": {},
     "output_type": "execute_result"
    }
   ],
   "source": [
    "x_train[1]"
   ]
  },
  {
   "cell_type": "code",
   "execution_count": 57,
   "metadata": {},
   "outputs": [],
   "source": [
    "class MyDataset(Dataset):\n",
    "    def __init__(self,dataset):\n",
    "        self.dataset = dataset\n",
    "    def __getitem__(self,index):\n",
    "        data,target = self.dataset[index]\n",
    "        return data,target,index\n",
    "    def __len__(self):\n",
    "        return len(self.dataset)"
   ]
  },
  {
   "cell_type": "code",
   "execution_count": 66,
   "metadata": {},
   "outputs": [],
   "source": [
    "train = MyDataset(torch.utils.data.TensorDataset(v, labels))\n",
    "train_loader = torch.utils.data.DataLoader(train, batch_size = 128, shuffle=True)\n",
    "\n",
    "test = MyDataset(torch.utils.data.TensorDataset(v2, labels_2))\n",
    "test_loader = torch.utils.data.DataLoader(test, batch_size = 128, shuffle=True)"
   ]
  },
  {
   "cell_type": "code",
   "execution_count": 71,
   "metadata": {},
   "outputs": [
    {
     "data": {
      "text/plain": [
       "954"
      ]
     },
     "execution_count": 71,
     "metadata": {},
     "output_type": "execute_result"
    }
   ],
   "source": [
    "len(test_loader)"
   ]
  },
  {
   "cell_type": "code",
   "execution_count": 80,
   "metadata": {},
   "outputs": [],
   "source": [
    "class BiLSTM(nn.Module): \n",
    "    # This NLP part Will consist of two bidirectional lstm layers and it's output is \n",
    "    # determined by the LSTM's last hidden states or output vectors.\n",
    "\n",
    "    # This will take as an input a sequence of words and output the last hidden layer\n",
    "    # the last hidden states of 2-layer bidirectional LSTM will be the input of the last multimodel network \n",
    "\n",
    "    def __init__(self, embedding_dim, hidden_dim = 256, layer_dim =2, output_dim = 10):\n",
    "        super(BiLSTM, self).__init__()\n",
    "        \n",
    "        \n",
    "        # Replace this when using GPU\n",
    "        #self.device = 'cuda' if torch.cuda.is_available() else 'cpu'\n",
    "        self.device = 'cpu'\n",
    "        \n",
    "        self.embedding_dim = embedding_dim\n",
    "        \n",
    "        #Hidden dimensions\n",
    "        self.hidden_dim = hidden_dim # maybe set this to 256\n",
    "\n",
    "        # Number of hidden layers\n",
    "        self.layer_dim = layer_dim\n",
    "\n",
    "        # Building the LSTM \n",
    "        # batch_first = True causes the input/output to be of shape 3D (batch_dim, seq_dim, feature_dim) \n",
    "        # output will be the same dim as the hidden dim\n",
    "        self.lstm1 = nn.LSTM(embedding_dim, hidden_dim, layer_dim, batch_first=True, bidirectional=True)\n",
    "        \n",
    "        self.dropout = nn.Dropout(p=0.2)\n",
    "        \n",
    "        self.fc = nn.Linear(hidden_dim * 2, output_dim)\n",
    "        \n",
    "    def forward(self, x):\n",
    "                \n",
    "        # Initialize hidden state with zeros\n",
    "        # self.layer_dim * 2. because we have one going forwards and another going backwards\n",
    "        #h0 = torch.randn(self.layer_dim * 2, x.size(0), self.hidden_dim, device=self.device)\n",
    "        h0 = torch.randn(self.layer_dim * 2, x.size(0), self.hidden_dim)\n",
    "        \n",
    "        \n",
    "        \n",
    "        # Initialize cell state\n",
    "        #c0 =  torch.randn(self.layer_dim * 2, x.size(0), self.hidden_dim, device=self.device)\n",
    "        c0 =  torch.randn(self.layer_dim * 2, x.size(0), self.hidden_dim)\n",
    "        \n",
    "        # We suppose we are conducting a 28 time steps In case of using \n",
    "        # We need to detach as we are doing truncated backpropagation through time (BPTT)\n",
    "        # If we don't, we'll backprop all the way to the start even after going through another batch\n",
    "        out, (hn, cn) = self.lstm1(x, (h0.detach(), c0.detach()))\n",
    "        # out = self.fc(out.view(out.size(0), -1))\n",
    "          \n",
    "        # Without the activation function, out will contain the last hidden layer.\n",
    "        # This could be obtianed from hn[-1] as well.\n",
    "        out = out[:, -1, :]\n",
    "        \n",
    "        out = self.dropout(out)\n",
    "        \n",
    "        out = self.fc(out)\n",
    "        \n",
    "        \n",
    "        return out\n",
    "        \n",
    "        # Index hidden state of last time step\n",
    "        # out.size() --> 256, 100, 256 if we have (input dim = 100 and hidden dim = 100)\n",
    "        # out[:, -1, :] => 256, 256 --> because we just want the last time step hidden states\n",
    "        #out = out[:, -1, :] # without an activation function\n",
    "\n",
    "        # now our: out.size() --> 256, 10 (if output dimension is equal to 10)\n",
    "        #return out"
   ]
  },
  {
   "cell_type": "code",
   "execution_count": 84,
   "metadata": {},
   "outputs": [
    {
     "name": "stdout",
     "output_type": "stream",
     "text": [
      "Epoch: 0 | Training loss: 0.026181706111704367 | Validation loss: 0.0023265608950266085 | Accuracy: \t1.00\n",
      "Loss decreased: inf ==> 0.0023265608950266085\n",
      "Epoch: 1 | Training loss: 0.0014177623502812104 | Validation loss: 0.0008734723909996461 | Accuracy: \t1.00\n",
      "Loss decreased: 0.0023265608950266085 ==> 0.0008734723909996461\n",
      "Epoch: 2 | Training loss: 0.0012325049343457652 | Validation loss: 0.0009271577457463253 | Accuracy: \t1.00\n",
      "Epoch: 3 | Training loss: 0.0011611079196989554 | Validation loss: 0.0007603225659541713 | Accuracy: \t1.00\n",
      "Loss decreased: 0.0008734723909996461 ==> 0.0007603225659541713\n",
      "Epoch: 4 | Training loss: 0.0013527928674159882 | Validation loss: 0.0006295835991884246 | Accuracy: \t1.00\n",
      "Loss decreased: 0.0007603225659541713 ==> 0.0006295835991884246\n",
      "Epoch: 5 | Training loss: 0.0010729187503587278 | Validation loss: 0.0010386237547610107 | Accuracy: \t1.00\n",
      "Epoch: 6 | Training loss: 0.0012260115481817215 | Validation loss: 0.0012125206643060404 | Accuracy: \t1.00\n",
      "Epoch: 7 | Training loss: 0.0012659218518428104 | Validation loss: 0.001183000106805106 | Accuracy: \t1.00\n",
      "Epoch: 8 | Training loss: 0.0013360363343181913 | Validation loss: 0.0015559813442263268 | Accuracy: \t1.00\n",
      "Epoch: 9 | Training loss: 0.001253533125648198 | Validation loss: 0.0006980189511666356 | Accuracy: \t1.00\n",
      "Epoch: 10 | Training loss: 0.0013533682624243938 | Validation loss: 0.0012060821498796426 | Accuracy: \t1.00\n",
      "Epoch: 11 | Training loss: 0.0013857309564999265 | Validation loss: 0.0007052892989427067 | Accuracy: \t1.00\n",
      "Epoch: 12 | Training loss: 0.0011135415771146263 | Validation loss: 0.00042999106178903316 | Accuracy: \t1.00\n",
      "Loss decreased: 0.0006295835991884246 ==> 0.00042999106178903316\n",
      "Epoch: 13 | Training loss: 0.0012957102178069815 | Validation loss: 0.0007966486371280422 | Accuracy: \t1.00\n",
      "Epoch: 14 | Training loss: 0.001539549165016548 | Validation loss: 0.0005575380607268742 | Accuracy: \t1.00\n",
      "Epoch: 15 | Training loss: 0.0014622306410871579 | Validation loss: 0.000602654075370215 | Accuracy: \t1.00\n",
      "Epoch: 16 | Training loss: 0.0010369204187881177 | Validation loss: 0.0008820695846894548 | Accuracy: \t1.00\n",
      "Epoch: 17 | Training loss: 0.001435035658780111 | Validation loss: 0.0013217007881253585 | Accuracy: \t1.00\n",
      "Epoch: 18 | Training loss: 0.001281973179121097 | Validation loss: 0.0007012814152541876 | Accuracy: \t1.00\n",
      "Epoch: 19 | Training loss: 0.0009214437520954651 | Validation loss: 0.0009032067032146891 | Accuracy: \t1.00\n",
      "Epoch: 20 | Training loss: 0.0012303942812345145 | Validation loss: 0.0004475589650162924 | Accuracy: \t1.00\n",
      "Epoch: 21 | Training loss: 0.001016906917569029 | Validation loss: 0.0004649006413846663 | Accuracy: \t1.00\n",
      "Epoch: 22 | Training loss: 0.001166252974329582 | Validation loss: 0.0008641980181426095 | Accuracy: \t1.00\n",
      "Epoch: 23 | Training loss: 0.0009640223967994253 | Validation loss: 0.00048145029321758863 | Accuracy: \t1.00\n",
      "Epoch: 24 | Training loss: 0.0011266934783249868 | Validation loss: 0.001326348308746112 | Accuracy: \t1.00\n",
      "Epoch: 25 | Training loss: 0.0015199984443400088 | Validation loss: 0.0009610674344760733 | Accuracy: \t1.00\n",
      "Epoch: 26 | Training loss: 0.0013543665547838942 | Validation loss: 0.0007223811757950415 | Accuracy: \t1.00\n",
      "Epoch: 27 | Training loss: 0.0009935166556569656 | Validation loss: 0.000866508542601759 | Accuracy: \t1.00\n",
      "Epoch: 28 | Training loss: 0.0013935874818864927 | Validation loss: 0.0006183758405690679 | Accuracy: \t1.00\n",
      "Epoch: 29 | Training loss: 0.0013040901988246683 | Validation loss: 0.0004257764678426328 | Accuracy: \t1.00\n",
      "Loss decreased: 0.00042999106178903316 ==> 0.0004257764678426328\n",
      "Epoch: 30 | Training loss: 0.0009344209390954175 | Validation loss: 0.0007943494704420186 | Accuracy: \t1.00\n",
      "Epoch: 31 | Training loss: 0.0010425470121746291 | Validation loss: 0.0007090448709795132 | Accuracy: \t1.00\n",
      "Epoch: 32 | Training loss: 0.0009560381895463471 | Validation loss: 0.0008744691968909946 | Accuracy: \t1.00\n",
      "Epoch: 33 | Training loss: 0.0011648448922779236 | Validation loss: 0.00065253877130175 | Accuracy: \t1.00\n",
      "Epoch: 34 | Training loss: 0.0012496518053514473 | Validation loss: 0.0009733971261575154 | Accuracy: \t1.00\n",
      "Epoch: 35 | Training loss: 0.0011452592183873833 | Validation loss: 0.000685388620339576 | Accuracy: \t1.00\n",
      "Epoch: 36 | Training loss: 0.0014134466064462158 | Validation loss: 0.000970482960791721 | Accuracy: \t1.00\n",
      "Epoch: 37 | Training loss: 0.0012944165902768479 | Validation loss: 0.00020723291306254163 | Accuracy: \t1.00\n",
      "Loss decreased: 0.0004257764678426328 ==> 0.00020723291306254163\n",
      "Epoch: 38 | Training loss: 0.0013197650473556978 | Validation loss: 0.0005027404119143538 | Accuracy: \t1.00\n",
      "Epoch: 39 | Training loss: 0.0010577770491178896 | Validation loss: 0.0004915454544305688 | Accuracy: \t1.00\n",
      "Epoch: 40 | Training loss: 0.0010795948078426026 | Validation loss: 0.00045526672984258173 | Accuracy: \t1.00\n",
      "Epoch: 41 | Training loss: 0.0011343833374246935 | Validation loss: 0.0006529636211285363 | Accuracy: \t1.00\n",
      "Epoch: 42 | Training loss: 0.0010734161563149024 | Validation loss: 0.00072353237643048 | Accuracy: \t1.00\n",
      "Epoch: 43 | Training loss: 0.0010663918053003922 | Validation loss: 0.000746689027748997 | Accuracy: \t1.00\n",
      "Epoch: 44 | Training loss: 0.0009795515829327808 | Validation loss: 0.0005826608798637023 | Accuracy: \t1.00\n",
      "Epoch: 45 | Training loss: 0.0008316598816439135 | Validation loss: 0.0011145330940340475 | Accuracy: \t1.00\n",
      "Epoch: 46 | Training loss: 0.0010154769913678515 | Validation loss: 0.0005691120544523434 | Accuracy: \t1.00\n",
      "Epoch: 47 | Training loss: 0.0013909262359686693 | Validation loss: 0.0004532521037988755 | Accuracy: \t1.00\n",
      "Epoch: 48 | Training loss: 0.0009297024978168547 | Validation loss: 0.00042111770304947664 | Accuracy: \t1.00\n",
      "Epoch: 49 | Training loss: 0.0008457276558250023 | Validation loss: 0.00040031719983965743 | Accuracy: \t1.00\n",
      "Epoch: 50 | Training loss: 0.0007775178964531847 | Validation loss: 0.0009378882905438031 | Accuracy: \t1.00\n",
      "Epoch: 51 | Training loss: 0.0011995750075694761 | Validation loss: 0.0011478218061832847 | Accuracy: \t1.00\n",
      "Epoch: 52 | Training loss: 0.0009021662402052396 | Validation loss: 0.001309538259568837 | Accuracy: \t1.00\n",
      "Epoch: 53 | Training loss: 0.0008763773448558148 | Validation loss: 0.0013053242705117647 | Accuracy: \t1.00\n",
      "Epoch: 54 | Training loss: 0.0008413589737395294 | Validation loss: 0.0005816819612479523 | Accuracy: \t1.00\n",
      "Epoch: 55 | Training loss: 0.0009096290707658403 | Validation loss: 0.0007607932576784081 | Accuracy: \t1.00\n",
      "Epoch: 56 | Training loss: 0.0013234518320076904 | Validation loss: 0.0006587036912772203 | Accuracy: \t1.00\n",
      "Epoch: 57 | Training loss: 0.0008640312915684997 | Validation loss: 0.0005990101641306838 | Accuracy: \t1.00\n",
      "Epoch: 58 | Training loss: 0.0011110919721695344 | Validation loss: 0.0008034482852906944 | Accuracy: \t1.00\n",
      "Epoch: 59 | Training loss: 0.0009802514665407168 | Validation loss: 0.0011537819638546842 | Accuracy: \t1.00\n",
      "Epoch: 60 | Training loss: 0.001097170124364296 | Validation loss: 0.00043403444254477516 | Accuracy: \t1.00\n",
      "Epoch: 61 | Training loss: 0.0008226600384940047 | Validation loss: 0.0002472699914546962 | Accuracy: \t1.00\n",
      "Epoch: 62 | Training loss: 0.0007759489918416759 | Validation loss: 0.000792342796059727 | Accuracy: \t1.00\n",
      "Epoch: 63 | Training loss: 0.0009297934587580044 | Validation loss: 0.0008941908468595917 | Accuracy: \t1.00\n",
      "Epoch: 64 | Training loss: 0.0009464215867208322 | Validation loss: 0.0008296484541612209 | Accuracy: \t1.00\n",
      "Epoch: 65 | Training loss: 0.0011705118258321556 | Validation loss: 0.0012156724821594579 | Accuracy: \t1.00\n",
      "Epoch: 66 | Training loss: 0.0009942007098320486 | Validation loss: 0.0007060663688668686 | Accuracy: \t1.00\n",
      "Epoch: 67 | Training loss: 0.0011040961339398676 | Validation loss: 0.0009525577961754488 | Accuracy: \t1.00\n",
      "Epoch: 68 | Training loss: 0.0011461059624708438 | Validation loss: 0.000607179000824201 | Accuracy: \t1.00\n",
      "Epoch: 69 | Training loss: 0.0011276681382464896 | Validation loss: 0.000730979677497638 | Accuracy: \t1.00\n",
      "Epoch: 70 | Training loss: 0.0011116841883072454 | Validation loss: 0.0006414724216109825 | Accuracy: \t1.00\n",
      "Epoch: 71 | Training loss: 0.0008784394145866474 | Validation loss: 0.0006151302008024777 | Accuracy: \t1.00\n",
      "Epoch: 72 | Training loss: 0.0008161583055693739 | Validation loss: 0.0005628365796464274 | Accuracy: \t1.00\n"
     ]
    },
    {
     "name": "stdout",
     "output_type": "stream",
     "text": [
      "Epoch: 73 | Training loss: 0.0011239066900261942 | Validation loss: 0.00017161035257002113 | Accuracy: \t1.00\n",
      "Loss decreased: 0.00020723291306254163 ==> 0.00017161035257002113\n",
      "Epoch: 74 | Training loss: 0.0009780213689529335 | Validation loss: 0.0002735201206322085 | Accuracy: \t1.00\n",
      "Epoch: 75 | Training loss: 0.0010437553369975101 | Validation loss: 0.0007498090972361447 | Accuracy: \t1.00\n",
      "Epoch: 76 | Training loss: 0.0011295732956889534 | Validation loss: 0.0005200856886175248 | Accuracy: \t1.00\n",
      "Epoch: 77 | Training loss: 0.0010049681002744118 | Validation loss: 0.0005379448357618973 | Accuracy: \t1.00\n",
      "Epoch: 78 | Training loss: 0.0008826214021777965 | Validation loss: 0.0005658819214304766 | Accuracy: \t1.00\n",
      "Epoch: 79 | Training loss: 0.0008552117953983181 | Validation loss: 0.0006589638375090363 | Accuracy: \t1.00\n",
      "Epoch: 80 | Training loss: 0.0007645260116135712 | Validation loss: 0.00024232503597708128 | Accuracy: \t1.00\n",
      "Epoch: 81 | Training loss: 0.0005323662215165068 | Validation loss: 0.00019777786932506552 | Accuracy: \t1.00\n",
      "Epoch: 82 | Training loss: 0.0010314062175931155 | Validation loss: 0.0007263324809620561 | Accuracy: \t1.00\n",
      "Epoch: 83 | Training loss: 0.001048154027668698 | Validation loss: 0.000282187031081433 | Accuracy: \t1.00\n",
      "Epoch: 84 | Training loss: 0.0008222011732456559 | Validation loss: 0.00014503217596298977 | Accuracy: \t1.00\n",
      "Loss decreased: 0.00017161035257002113 ==> 0.00014503217596298977\n",
      "Epoch: 85 | Training loss: 0.0008671561420993898 | Validation loss: 0.0001368948200025585 | Accuracy: \t1.00\n",
      "Loss decreased: 0.00014503217596298977 ==> 0.0001368948200025585\n",
      "Epoch: 86 | Training loss: 0.0009914342146774148 | Validation loss: 0.00022766291679723508 | Accuracy: \t1.00\n",
      "Epoch: 87 | Training loss: 0.0008317618835863662 | Validation loss: 0.0003757883940125403 | Accuracy: \t1.00\n",
      "Epoch: 88 | Training loss: 0.0006479616567027156 | Validation loss: 0.0007240046481149197 | Accuracy: \t1.00\n",
      "Epoch: 89 | Training loss: 0.001023499638572378 | Validation loss: 0.0006175517863587697 | Accuracy: \t1.00\n",
      "Epoch: 90 | Training loss: 0.0010577848649730307 | Validation loss: 0.0005043728442776461 | Accuracy: \t1.00\n",
      "Epoch: 91 | Training loss: 0.0008399800512542575 | Validation loss: 0.0004048807201524643 | Accuracy: \t1.00\n",
      "Epoch: 92 | Training loss: 0.0009254885325822796 | Validation loss: 0.001171478529456837 | Accuracy: \t1.00\n",
      "Epoch: 93 | Training loss: 0.0008612759940170905 | Validation loss: 0.0010325432983074546 | Accuracy: \t1.00\n",
      "Epoch: 94 | Training loss: 0.0010296937343431437 | Validation loss: 0.0003107517748031316 | Accuracy: \t1.00\n",
      "Epoch: 95 | Training loss: 0.0006242972715806563 | Validation loss: 0.00041202935901394987 | Accuracy: \t1.00\n",
      "Epoch: 96 | Training loss: 0.0007547263373324253 | Validation loss: 0.0006760928818207373 | Accuracy: \t1.00\n",
      "Epoch: 97 | Training loss: 0.0010288471587140242 | Validation loss: 0.0008521261797948599 | Accuracy: \t1.00\n",
      "Epoch: 98 | Training loss: 0.0008038443894694718 | Validation loss: 0.0005853388890099292 | Accuracy: \t1.00\n",
      "Epoch: 99 | Training loss: 0.0006203655947410113 | Validation loss: 0.001224297620235189 | Accuracy: \t1.00\n",
      "Epoch: 100 | Training loss: 0.000741231440696394 | Validation loss: 0.0003963904440801513 | Accuracy: \t1.00\n",
      "Epoch: 101 | Training loss: 0.0008920111151068218 | Validation loss: 0.00013565925957200112 | Accuracy: \t1.00\n",
      "Loss decreased: 0.0001368948200025585 ==> 0.00013565925957200112\n",
      "Epoch: 102 | Training loss: 0.0007986126780783877 | Validation loss: 0.0004918261740752198 | Accuracy: \t1.00\n",
      "Epoch: 103 | Training loss: 0.0007532315177245429 | Validation loss: 0.0005623297666688617 | Accuracy: \t1.00\n",
      "Epoch: 104 | Training loss: 0.0006945018167097818 | Validation loss: 0.0005116176712451444 | Accuracy: \t1.00\n",
      "Epoch: 105 | Training loss: 0.0008452591457516908 | Validation loss: 0.0004271618614536936 | Accuracy: \t1.00\n",
      "Epoch: 106 | Training loss: 0.0006464923764737824 | Validation loss: 0.00027415543934830057 | Accuracy: \t1.00\n",
      "Epoch: 107 | Training loss: 0.000942023568534643 | Validation loss: 0.0006740767287777314 | Accuracy: \t1.00\n",
      "Epoch: 108 | Training loss: 0.0006536052525890404 | Validation loss: 0.0007717320391746295 | Accuracy: \t1.00\n",
      "Epoch: 109 | Training loss: 0.0005711921312964862 | Validation loss: 0.0007005250138018186 | Accuracy: \t1.00\n",
      "Epoch: 110 | Training loss: 0.0006803358700703147 | Validation loss: 0.00014671601601575488 | Accuracy: \t1.00\n",
      "Epoch: 111 | Training loss: 0.0009180061019510998 | Validation loss: 0.00012101815111443572 | Accuracy: \t1.00\n",
      "Loss decreased: 0.00013565925957200112 ==> 0.00012101815111443572\n",
      "Epoch: 112 | Training loss: 0.0009036250475912433 | Validation loss: 0.0008705825816456589 | Accuracy: \t1.00\n",
      "Epoch: 113 | Training loss: 0.0006660664202524182 | Validation loss: 0.0004394200471684833 | Accuracy: \t1.00\n",
      "Epoch: 114 | Training loss: 0.0008552457288690346 | Validation loss: 0.0005600470086652737 | Accuracy: \t1.00\n",
      "Epoch: 115 | Training loss: 0.0007156981659282439 | Validation loss: 0.0005597553464268342 | Accuracy: \t1.00\n",
      "Epoch: 116 | Training loss: 0.0008623240016239043 | Validation loss: 0.0007663414970316692 | Accuracy: \t1.00\n",
      "Epoch: 117 | Training loss: 0.0008854959098057529 | Validation loss: 0.0004650680993380718 | Accuracy: \t1.00\n",
      "Epoch: 118 | Training loss: 0.0006489027061599543 | Validation loss: 0.000340457208593768 | Accuracy: \t1.00\n",
      "Epoch: 119 | Training loss: 0.0008295606192066363 | Validation loss: 0.0006182161566213015 | Accuracy: \t1.00\n",
      "Epoch: 120 | Training loss: 0.0005725016848090326 | Validation loss: 0.0004721043113131468 | Accuracy: \t1.00\n",
      "Epoch: 121 | Training loss: 0.0009651759456778464 | Validation loss: 0.0005468715263280221 | Accuracy: \t1.00\n",
      "Epoch: 122 | Training loss: 0.0007808202052675004 | Validation loss: 0.0002892947431690493 | Accuracy: \t1.00\n",
      "Epoch: 123 | Training loss: 0.0011037260788739952 | Validation loss: 0.0007936789491734998 | Accuracy: \t1.00\n",
      "Epoch: 124 | Training loss: 0.0007260690255176598 | Validation loss: 0.0007234205452401622 | Accuracy: \t1.00\n",
      "Epoch: 125 | Training loss: 0.0005306925086396735 | Validation loss: 0.00027809147751884386 | Accuracy: \t1.00\n",
      "Epoch: 126 | Training loss: 0.0007423265059431375 | Validation loss: 0.000540920146044004 | Accuracy: \t1.00\n",
      "Epoch: 127 | Training loss: 0.0005977694800269072 | Validation loss: 0.0005322490645848328 | Accuracy: \t1.00\n",
      "Epoch: 128 | Training loss: 0.0008648534849666238 | Validation loss: 0.0003575575179546663 | Accuracy: \t1.00\n",
      "Epoch: 129 | Training loss: 0.0005101754428105558 | Validation loss: 0.00027024881040323584 | Accuracy: \t1.00\n",
      "Epoch: 130 | Training loss: 0.0006842959270360338 | Validation loss: 0.0005911736256989826 | Accuracy: \t1.00\n",
      "Epoch: 131 | Training loss: 0.0008012298301856617 | Validation loss: 0.0005359198948962772 | Accuracy: \t1.00\n",
      "Epoch: 132 | Training loss: 0.0006028291323811282 | Validation loss: 0.00032835636923682614 | Accuracy: \t1.00\n",
      "Epoch: 133 | Training loss: 0.0007195706772244952 | Validation loss: 0.0003813338374216435 | Accuracy: \t1.00\n",
      "Epoch: 134 | Training loss: 0.0012773102104814036 | Validation loss: 0.0002343541386832236 | Accuracy: \t1.00\n",
      "Epoch: 135 | Training loss: 0.0006884343638473196 | Validation loss: 0.0007031559519406322 | Accuracy: \t1.00\n",
      "Epoch: 136 | Training loss: 0.0006600616661618645 | Validation loss: 0.00020858735717756586 | Accuracy: \t1.00\n",
      "Epoch: 137 | Training loss: 0.0009475282051309467 | Validation loss: 0.0008971360869605741 | Accuracy: \t1.00\n"
     ]
    },
    {
     "ename": "KeyboardInterrupt",
     "evalue": "",
     "output_type": "error",
     "traceback": [
      "\u001b[0;31m---------------------------------------------------------------------------\u001b[0m",
      "\u001b[0;31mKeyboardInterrupt\u001b[0m                         Traceback (most recent call last)",
      "\u001b[0;32m<ipython-input-84-33ea3cc84908>\u001b[0m in \u001b[0;36m<module>\u001b[0;34m\u001b[0m\n\u001b[1;32m     20\u001b[0m         \u001b[0moptimizer\u001b[0m\u001b[0;34m.\u001b[0m\u001b[0mzero_grad\u001b[0m\u001b[0;34m(\u001b[0m\u001b[0;34m)\u001b[0m\u001b[0;34m\u001b[0m\u001b[0;34m\u001b[0m\u001b[0m\n\u001b[1;32m     21\u001b[0m \u001b[0;34m\u001b[0m\u001b[0m\n\u001b[0;32m---> 22\u001b[0;31m         \u001b[0mlabel_scores\u001b[0m \u001b[0;34m=\u001b[0m \u001b[0mmodel\u001b[0m\u001b[0;34m(\u001b[0m\u001b[0mx_batch\u001b[0m\u001b[0;34m)\u001b[0m\u001b[0;34m\u001b[0m\u001b[0;34m\u001b[0m\u001b[0m\n\u001b[0m\u001b[1;32m     23\u001b[0m         \u001b[0;31m# Calculate loss, backpropagate, and update weights/parameters by calling opt.step()\u001b[0m\u001b[0;34m\u001b[0m\u001b[0;34m\u001b[0m\u001b[0;34m\u001b[0m\u001b[0m\n\u001b[1;32m     24\u001b[0m         \u001b[0mloss\u001b[0m \u001b[0;34m=\u001b[0m \u001b[0mcriterion\u001b[0m\u001b[0;34m(\u001b[0m\u001b[0mlabel_scores\u001b[0m\u001b[0;34m,\u001b[0m \u001b[0my_batch\u001b[0m\u001b[0;34m)\u001b[0m\u001b[0;34m\u001b[0m\u001b[0;34m\u001b[0m\u001b[0m\n",
      "\u001b[0;32m/usr/local/lib/python3.8/dist-packages/torch/nn/modules/module.py\u001b[0m in \u001b[0;36m_call_impl\u001b[0;34m(self, *input, **kwargs)\u001b[0m\n\u001b[1;32m    887\u001b[0m             \u001b[0mresult\u001b[0m \u001b[0;34m=\u001b[0m \u001b[0mself\u001b[0m\u001b[0;34m.\u001b[0m\u001b[0m_slow_forward\u001b[0m\u001b[0;34m(\u001b[0m\u001b[0;34m*\u001b[0m\u001b[0minput\u001b[0m\u001b[0;34m,\u001b[0m \u001b[0;34m**\u001b[0m\u001b[0mkwargs\u001b[0m\u001b[0;34m)\u001b[0m\u001b[0;34m\u001b[0m\u001b[0;34m\u001b[0m\u001b[0m\n\u001b[1;32m    888\u001b[0m         \u001b[0;32melse\u001b[0m\u001b[0;34m:\u001b[0m\u001b[0;34m\u001b[0m\u001b[0;34m\u001b[0m\u001b[0m\n\u001b[0;32m--> 889\u001b[0;31m             \u001b[0mresult\u001b[0m \u001b[0;34m=\u001b[0m \u001b[0mself\u001b[0m\u001b[0;34m.\u001b[0m\u001b[0mforward\u001b[0m\u001b[0;34m(\u001b[0m\u001b[0;34m*\u001b[0m\u001b[0minput\u001b[0m\u001b[0;34m,\u001b[0m \u001b[0;34m**\u001b[0m\u001b[0mkwargs\u001b[0m\u001b[0;34m)\u001b[0m\u001b[0;34m\u001b[0m\u001b[0;34m\u001b[0m\u001b[0m\n\u001b[0m\u001b[1;32m    890\u001b[0m         for hook in itertools.chain(\n\u001b[1;32m    891\u001b[0m                 \u001b[0m_global_forward_hooks\u001b[0m\u001b[0;34m.\u001b[0m\u001b[0mvalues\u001b[0m\u001b[0;34m(\u001b[0m\u001b[0;34m)\u001b[0m\u001b[0;34m,\u001b[0m\u001b[0;34m\u001b[0m\u001b[0;34m\u001b[0m\u001b[0m\n",
      "\u001b[0;32m<ipython-input-80-eb46f35925b8>\u001b[0m in \u001b[0;36mforward\u001b[0;34m(self, x)\u001b[0m\n\u001b[1;32m     47\u001b[0m         \u001b[0;31m# We need to detach as we are doing truncated backpropagation through time (BPTT)\u001b[0m\u001b[0;34m\u001b[0m\u001b[0;34m\u001b[0m\u001b[0;34m\u001b[0m\u001b[0m\n\u001b[1;32m     48\u001b[0m         \u001b[0;31m# If we don't, we'll backprop all the way to the start even after going through another batch\u001b[0m\u001b[0;34m\u001b[0m\u001b[0;34m\u001b[0m\u001b[0;34m\u001b[0m\u001b[0m\n\u001b[0;32m---> 49\u001b[0;31m         \u001b[0mout\u001b[0m\u001b[0;34m,\u001b[0m \u001b[0;34m(\u001b[0m\u001b[0mhn\u001b[0m\u001b[0;34m,\u001b[0m \u001b[0mcn\u001b[0m\u001b[0;34m)\u001b[0m \u001b[0;34m=\u001b[0m \u001b[0mself\u001b[0m\u001b[0;34m.\u001b[0m\u001b[0mlstm1\u001b[0m\u001b[0;34m(\u001b[0m\u001b[0mx\u001b[0m\u001b[0;34m,\u001b[0m \u001b[0;34m(\u001b[0m\u001b[0mh0\u001b[0m\u001b[0;34m.\u001b[0m\u001b[0mdetach\u001b[0m\u001b[0;34m(\u001b[0m\u001b[0;34m)\u001b[0m\u001b[0;34m,\u001b[0m \u001b[0mc0\u001b[0m\u001b[0;34m.\u001b[0m\u001b[0mdetach\u001b[0m\u001b[0;34m(\u001b[0m\u001b[0;34m)\u001b[0m\u001b[0;34m)\u001b[0m\u001b[0;34m)\u001b[0m\u001b[0;34m\u001b[0m\u001b[0;34m\u001b[0m\u001b[0m\n\u001b[0m\u001b[1;32m     50\u001b[0m         \u001b[0;31m# out = self.fc(out.view(out.size(0), -1))\u001b[0m\u001b[0;34m\u001b[0m\u001b[0;34m\u001b[0m\u001b[0;34m\u001b[0m\u001b[0m\n\u001b[1;32m     51\u001b[0m \u001b[0;34m\u001b[0m\u001b[0m\n",
      "\u001b[0;32m/usr/local/lib/python3.8/dist-packages/torch/nn/modules/module.py\u001b[0m in \u001b[0;36m_call_impl\u001b[0;34m(self, *input, **kwargs)\u001b[0m\n\u001b[1;32m    887\u001b[0m             \u001b[0mresult\u001b[0m \u001b[0;34m=\u001b[0m \u001b[0mself\u001b[0m\u001b[0;34m.\u001b[0m\u001b[0m_slow_forward\u001b[0m\u001b[0;34m(\u001b[0m\u001b[0;34m*\u001b[0m\u001b[0minput\u001b[0m\u001b[0;34m,\u001b[0m \u001b[0;34m**\u001b[0m\u001b[0mkwargs\u001b[0m\u001b[0;34m)\u001b[0m\u001b[0;34m\u001b[0m\u001b[0;34m\u001b[0m\u001b[0m\n\u001b[1;32m    888\u001b[0m         \u001b[0;32melse\u001b[0m\u001b[0;34m:\u001b[0m\u001b[0;34m\u001b[0m\u001b[0;34m\u001b[0m\u001b[0m\n\u001b[0;32m--> 889\u001b[0;31m             \u001b[0mresult\u001b[0m \u001b[0;34m=\u001b[0m \u001b[0mself\u001b[0m\u001b[0;34m.\u001b[0m\u001b[0mforward\u001b[0m\u001b[0;34m(\u001b[0m\u001b[0;34m*\u001b[0m\u001b[0minput\u001b[0m\u001b[0;34m,\u001b[0m \u001b[0;34m**\u001b[0m\u001b[0mkwargs\u001b[0m\u001b[0;34m)\u001b[0m\u001b[0;34m\u001b[0m\u001b[0;34m\u001b[0m\u001b[0m\n\u001b[0m\u001b[1;32m    890\u001b[0m         for hook in itertools.chain(\n\u001b[1;32m    891\u001b[0m                 \u001b[0m_global_forward_hooks\u001b[0m\u001b[0;34m.\u001b[0m\u001b[0mvalues\u001b[0m\u001b[0;34m(\u001b[0m\u001b[0;34m)\u001b[0m\u001b[0;34m,\u001b[0m\u001b[0;34m\u001b[0m\u001b[0;34m\u001b[0m\u001b[0m\n",
      "\u001b[0;32m/usr/local/lib/python3.8/dist-packages/torch/nn/modules/rnn.py\u001b[0m in \u001b[0;36mforward\u001b[0;34m(self, input, hx)\u001b[0m\n\u001b[1;32m    659\u001b[0m         \u001b[0mself\u001b[0m\u001b[0;34m.\u001b[0m\u001b[0mcheck_forward_args\u001b[0m\u001b[0;34m(\u001b[0m\u001b[0minput\u001b[0m\u001b[0;34m,\u001b[0m \u001b[0mhx\u001b[0m\u001b[0;34m,\u001b[0m \u001b[0mbatch_sizes\u001b[0m\u001b[0;34m)\u001b[0m\u001b[0;34m\u001b[0m\u001b[0;34m\u001b[0m\u001b[0m\n\u001b[1;32m    660\u001b[0m         \u001b[0;32mif\u001b[0m \u001b[0mbatch_sizes\u001b[0m \u001b[0;32mis\u001b[0m \u001b[0;32mNone\u001b[0m\u001b[0;34m:\u001b[0m\u001b[0;34m\u001b[0m\u001b[0;34m\u001b[0m\u001b[0m\n\u001b[0;32m--> 661\u001b[0;31m             result = _VF.lstm(input, hx, self._flat_weights, self.bias, self.num_layers,\n\u001b[0m\u001b[1;32m    662\u001b[0m                               self.dropout, self.training, self.bidirectional, self.batch_first)\n\u001b[1;32m    663\u001b[0m         \u001b[0;32melse\u001b[0m\u001b[0;34m:\u001b[0m\u001b[0;34m\u001b[0m\u001b[0;34m\u001b[0m\u001b[0m\n",
      "\u001b[0;31mKeyboardInterrupt\u001b[0m: "
     ]
    }
   ],
   "source": [
    "model = BiLSTM(20)\n",
    "\n",
    "\n",
    "\n",
    "criterion = nn.CrossEntropyLoss()\n",
    "optimizer = optim.Adam(model.parameters(), lr = 0.003)\n",
    "\n",
    "# Training the model\n",
    "batch_size = 128\n",
    "epochs = 300\n",
    "losses = []\n",
    "validation_losses = []\n",
    "min_loss = np.Inf\n",
    "\n",
    "for epoch in range(epochs):\n",
    "    \n",
    "    train_loss = 0.0\n",
    "    model.train()\n",
    "    for i, (x_batch, y_batch, index) in enumerate(train_loader):\n",
    "        optimizer.zero_grad()\n",
    "        \n",
    "        label_scores = model(x_batch)\n",
    "        # Calculate loss, backpropagate, and update weights/parameters by calling opt.step()\n",
    "        loss = criterion(label_scores, y_batch)\n",
    "        loss.backward()\n",
    "        optimizer.step()\n",
    "        train_loss += loss.item()*x_batch.size(0)\n",
    "    \n",
    "    train_loss = train_loss/len(train_loader.sampler)\n",
    "    losses.append(train_loss)\n",
    "    \n",
    "    with torch.no_grad():\n",
    "        val_loss = 0\n",
    "        accuracy = 0\n",
    "        model.eval()\n",
    "        for x, y, i in test_loader:\n",
    "            out = model(x)\n",
    "            loss = criterion(out, y)\n",
    "            val_loss += loss.item()*x.size(0)\n",
    "            \n",
    "            scores, classes = F.softmax(out, dim=1).topk(1, dim=1)\n",
    "            equals = classes == y.view(*classes.shape)\n",
    "            \n",
    "            accuracy += torch.mean(equals.type(torch.FloatTensor))\n",
    "            \n",
    "        val_loss = val_loss/len(test_loader.sampler)\n",
    "        accuracy = accuracy/len(test_loader)\n",
    "            \n",
    "    validation_losses.append(val_loss)\n",
    "    print(\"Epoch: {0} | Training loss: {1} | Validation loss: {2} | Accuracy: \\t{3:.2f}\".format(epoch, train_loss, val_loss, accuracy))\n",
    "    \n",
    "    if (val_loss < min_loss):\n",
    "        torch.save(model.state_dict(), \"model_fixed_v1.pt\")\n",
    "        print(\"Loss decreased: {0} ==> {1}\".format(min_loss, val_loss))\n",
    "        min_loss = val_loss\n",
    "    \n",
    "print(\"Bi-LSTM model training is done!                           \", end='\\r')\n",
    "print(\"final labels {0}\".format(label_scores))"
   ]
  },
  {
   "cell_type": "code",
   "execution_count": 86,
   "metadata": {},
   "outputs": [],
   "source": [
    "torch.save(model, \"FinalModelOverfit\")"
   ]
  },
  {
   "cell_type": "code",
   "execution_count": 88,
   "metadata": {},
   "outputs": [
    {
     "data": {
      "text/plain": [
       "Text(0, 0.5, 'Cross Entropy Loss')"
      ]
     },
     "execution_count": 88,
     "metadata": {},
     "output_type": "execute_result"
    },
    {
     "data": {
      "image/png": "[encoded data removed]",
      "text/plain": [
       "<Figure size 720x432 with 1 Axes>"
      ]
     },
     "metadata": {
      "needs_background": "light"
     },
     "output_type": "display_data"
    }
   ],
   "source": [
    "import matplotlib.pyplot as plt\n",
    "figure = plt.figure(figsize=(10, 6))\n",
    "plt.plot(np.arange(len(losses)), losses, label='Training loss')\n",
    "plt.plot(np.arange(len(losses)), validation_losses, label=\"Validation loss\")\n",
    "plt.xlabel(\"Epochs\")\n",
    "plt.ylabel(\"Cross Entropy Loss\")"
   ]
  },
  {
   "cell_type": "code",
   "execution_count": 56,
   "metadata": {},
   "outputs": [
    {
     "data": {
      "text/plain": [
       "Counter({6: 378982,\n",
       "         0: 33159,\n",
       "         1: 44129,\n",
       "         4: 9474,\n",
       "         2: 8678,\n",
       "         9: 12649,\n",
       "         3: 518,\n",
       "         8: 283,\n",
       "         5: 449,\n",
       "         7: 30})"
      ]
     },
     "execution_count": 56,
     "metadata": {},
     "output_type": "execute_result"
    }
   ],
   "source": [
    "Counter(labels.cpu().numpy())"
   ]
  },
  {
   "cell_type": "code",
   "execution_count": 42,
   "metadata": {},
   "outputs": [
    {
     "data": {
      "text/plain": [
       "{0, 1, 2, 3, 4, 5, 6, 7, 8, 9}"
      ]
     },
     "execution_count": 42,
     "metadata": {},
     "output_type": "execute_result"
    }
   ],
   "source": [
    "set(labels.cpu().numpy())"
   ]
  },
  {
   "cell_type": "code",
   "execution_count": 53,
   "metadata": {},
   "outputs": [
    {
     "data": {
      "text/plain": [
       "tensor(6, device='cuda:0')"
      ]
     },
     "execution_count": 53,
     "metadata": {},
     "output_type": "execute_result"
    }
   ],
   "source": [
    "y_batch[75]"
   ]
  },
  {
   "cell_type": "code",
   "execution_count": 1,
   "metadata": {},
   "outputs": [
    {
     "ename": "NameError",
     "evalue": "name 'label_scores' is not defined",
     "output_type": "error",
     "traceback": [
      "\u001b[0;31m---------------------------------------------------------------------------\u001b[0m",
      "\u001b[0;31mNameError\u001b[0m                                 Traceback (most recent call last)",
      "\u001b[0;32m<ipython-input-1-8c7a1f0ecbd3>\u001b[0m in \u001b[0;36m<module>\u001b[0;34m\u001b[0m\n\u001b[0;32m----> 1\u001b[0;31m \u001b[0mlabel_scores\u001b[0m\u001b[0;34m[\u001b[0m\u001b[0;36m55\u001b[0m\u001b[0;34m]\u001b[0m\u001b[0;34m\u001b[0m\u001b[0;34m\u001b[0m\u001b[0m\n\u001b[0m",
      "\u001b[0;31mNameError\u001b[0m: name 'label_scores' is not defined"
     ]
    }
   ],
   "source": [
    "label_scores[55]"
   ]
  },
  {
   "cell_type": "code",
   "execution_count": 23,
   "metadata": {},
   "outputs": [
    {
     "data": {
      "text/plain": [
       "BiLSTM(\n",
       "  (lstm1): LSTM(20, 256, num_layers=2, batch_first=True, bidirectional=True)\n",
       "  (fc): Linear(in_features=512, out_features=10, bias=True)\n",
       "  (Sigmoid): ReLU()\n",
       ")"
      ]
     },
     "execution_count": 23,
     "metadata": {},
     "output_type": "execute_result"
    }
   ],
   "source": [
    "model = torch.load(\"FinalModelV2\")\n",
    "model.eval()"
   ]
  },
  {
   "cell_type": "code",
   "execution_count": 51,
   "metadata": {},
   "outputs": [],
   "source": [
    "def accuracy(labels, predicted):\n",
    "    total_accuracy = 0\n",
    "    n = len(predicted)\n",
    "    for y, p in zip(labels, predicted):\n",
    "        if (y == p):\n",
    "            total_accuracy +=1\n",
    "    return total_accuracy/n"
   ]
  },
  {
   "cell_type": "code",
   "execution_count": 38,
   "metadata": {},
   "outputs": [],
   "source": [
    "v_test = torch.from_numpy(np.array(x_train, dtype=np.float64)).view(-1, 1, 20).float()\n",
    "predicted = model(v_test)"
   ]
  },
  {
   "cell_type": "code",
   "execution_count": 43,
   "metadata": {},
   "outputs": [],
   "source": [
    "y = []\n",
    "\n",
    "for p in predicted:\n",
    "    i = 0\n",
    "    m = 0\n",
    "    for index, e in enumerate(p):\n",
    "        if float(e) > m:\n",
    "            i = index\n",
    "            m = e\n",
    "    y.append(i+1)"
   ]
  },
  {
   "cell_type": "code",
   "execution_count": 50,
   "metadata": {},
   "outputs": [
    {
     "data": {
      "text/plain": [
       "Counter({2: 27647,\n",
       "         9: 60323,\n",
       "         7: 21769,\n",
       "         10: 48768,\n",
       "         6: 78758,\n",
       "         5: 64879,\n",
       "         1: 70385,\n",
       "         3: 33409,\n",
       "         8: 54048,\n",
       "         4: 28365})"
      ]
     },
     "execution_count": 50,
     "metadata": {},
     "output_type": "execute_result"
    }
   ],
   "source": [
    "Counter(y)"
   ]
  },
  {
   "cell_type": "code",
   "execution_count": 52,
   "metadata": {},
   "outputs": [
    {
     "name": "stdout",
     "output_type": "stream",
     "text": [
      "0.03611336927742546\n"
     ]
    }
   ],
   "source": [
    "acc = accuracy(y_test, y)\n",
    "print(acc)"
   ]
  },
  {
   "cell_type": "code",
   "execution_count": null,
   "metadata": {},
   "outputs": [],
   "source": []
  }
 ],
 "metadata": {
  "kernelspec": {
   "display_name": "Python 3",
   "language": "python",
   "name": "python3"
  },
  "language_info": {
   "codemirror_mode": {
    "name": "ipython",
    "version": 3
   },
   "file_extension": ".py",
   "mimetype": "text/x-python",
   "name": "python",
   "nbconvert_exporter": "python",
   "pygments_lexer": "ipython3",
   "version": "3.8.10"
  }
 },
 "nbformat": 4,
 "nbformat_minor": 4
}
