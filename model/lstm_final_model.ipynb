{
 "cells": [
  {
   "cell_type": "code",
   "execution_count": 1,
   "metadata": {},
   "outputs": [
    {
     "data": {
      "text/plain": [
       "<torch._C.Generator at 0x7ffbf805ee70>"
      ]
     },
     "execution_count": 1,
     "metadata": {},
     "output_type": "execute_result"
    }
   ],
   "source": [
    "import torch\n",
    "import torch.nn as nn\n",
    "import torch.nn.functional as F\n",
    "import torch.optim as optim\n",
    "from torch.nn.utils.rnn import pack_padded_sequence, pad_packed_sequence\n",
    "\n",
    "import numpy as np\n",
    "import pandas as pd\n",
    "import pickle\n",
    "\n",
    "import os\n",
    "\n",
    "torch.manual_seed(1)"
   ]
  },
  {
   "cell_type": "code",
   "execution_count": 3,
   "metadata": {},
   "outputs": [],
   "source": [
    "class BiLSTM(nn.Module): \n",
    "    # This NLP part Will consist of two bidirectional lstm layers and it's output is \n",
    "    # determined by the LSTM's last hidden states or output vectors.\n",
    "\n",
    "    # This will take as an input a sequence of words and output the last hidden layer\n",
    "    # the last hidden states of 2-layer bidirectional LSTM will be the input of the last multimodel network \n",
    "\n",
    "    def __init__(self, embedding_dim, hidden_dim = 256, layer_dim =2, output_dim = 10):\n",
    "        super(BiLSTM, self).__init__()\n",
    "        \n",
    "        self.embedding_dim = embedding_dim\n",
    "        \n",
    "        #Hidden dimensions\n",
    "        self.hidden_dim = hidden_dim # maybe set this to 256\n",
    "\n",
    "        # Number of hidden layers\n",
    "        self.layer_dim = layer_dim\n",
    "\n",
    "        # Building the LSTM \n",
    "        # batch_first = True causes the input/output to be of shape 3D (batch_dim, seq_dim, feature_dim) \n",
    "        # output will be the same dim as the hidden dim\n",
    "        self.lstm1 = nn.LSTM(embedding_dim, hidden_dim, layer_dim, batch_first=True, bidirectional=True)\n",
    "        \n",
    "        self.fc = nn.Linear(hidden_dim * 2, output_dim)\n",
    "        self.sigmoid = nn.Sigmoid()\n",
    "        \n",
    "    def forward(self, x):\n",
    "        # Initialize hidden state with zeros\n",
    "        # self.layer_dim * 2. because we have one going forwards and another going backwards\n",
    "        h0 = torch.zeros(self.layer_dim * 2, x.size(0), self.hidden_dim)\n",
    "        \n",
    "        \n",
    "        # Initialize cell state\n",
    "        c0 =  torch.zeros(self.layer_dim * 2, x.size(0), self.hidden_dim)\n",
    "\n",
    "        # We suppose we are conducting a 28 time steps In case of using \n",
    "        # We need to detach as we are doing truncated backpropagation through time (BPTT)\n",
    "        # If we don't, we'll backprop all the way to the start even after going through another batch\n",
    "        out, (hn, cn) = self.lstm1(x, (h0.detach(), c0.detach()))\n",
    "                \n",
    "        # out = self.fc(out.view(out.size(0), -1))\n",
    "          \n",
    "        # Without the activation function, out will contain the last hidden layer.\n",
    "        # This could be obtianed from hn[-1] as well.\n",
    "        out = out[:, -1, :]\n",
    "        \n",
    "        out = self.fc(out)\n",
    "        \n",
    "        out = self.sigmoid(out)\n",
    "        \n",
    "        return out\n",
    "        \n",
    "        # Index hidden state of last time step\n",
    "        # out.size() --> 256, 100, 256 if we have (input dim = 100 and hidden dim = 100)\n",
    "        # out[:, -1, :] => 256, 256 --> because we just want the last time step hidden states\n",
    "        #out = out[:, -1, :] # without an activation function\n",
    "\n",
    "        # now our: out.size() --> 256, 10 (if output dimension is equal to 10)\n",
    "        #return out"
   ]
  },
  {
   "cell_type": "code",
   "execution_count": 65,
   "metadata": {},
   "outputs": [],
   "source": [
    "# 20 embedding size\n",
    "# word feature vector = [title score nlp, title score image vision, abstract score nlp, ...etc]\n",
    "# target = [1.0 (title) , 0, 0 ...etc] as an example\n",
    "model = BiLSTM(20)\n",
    "\n",
    "\n",
    "#loss_function = nn.NLLLoss()\n",
    "loss_function = nn.CrossEntropyLoss()\n",
    "optimizer = optim.SGD(model.parameters(), lr = 0.1)"
   ]
  },
  {
   "cell_type": "code",
   "execution_count": 59,
   "metadata": {},
   "outputs": [],
   "source": [
    "def process_vision_output():\n",
    "    for file in os.scandir('./vision_output'):\n",
    "        if (os.path.isfile('./nlp_output/{0}'.format(file.name))):\n",
    "            vision_out = []\n",
    "            with open(file, \"rb\") as openfile:\n",
    "                while True:\n",
    "                    try:\n",
    "                        vision_out.append(pickle.load(openfile))\n",
    "                    except EOFError:\n",
    "                        break\n",
    "\n",
    "            processed_out = []\n",
    "\n",
    "            for idk in vision_out:\n",
    "                for segment in idk:\n",
    "                    vector = segment[1]\n",
    "                    for word in segment[0].split(' '):\n",
    "                        processed_out.append([word, vector])\n",
    "\n",
    "            processed_out = processed_out\n",
    "            with open(\"./processed_vision_output/{0}\".format(file.name), 'wb') as f:\n",
    "                pickle.dump(processed_out, f)"
   ]
  },
  {
   "cell_type": "code",
   "execution_count": 2,
   "metadata": {},
   "outputs": [
    {
     "name": "stderr",
     "output_type": "stream",
     "text": [
      "/home/azeddine/anaconda3/lib/python3.7/site-packages/ipykernel_launcher.py:15: FutureWarning: elementwise comparison failed; returning scalar instead, but in the future will perform elementwise comparison\n",
      "  from ipykernel import kernelapp as app\n",
      "/home/azeddine/anaconda3/lib/python3.7/site-packages/torch/storage.py:34: FutureWarning: pickle support for Storage will be removed in 1.5. Use `torch.save` instead\n",
      "  warnings.warn(\"pickle support for Storage will be removed in 1.5. Use `torch.save` instead\", FutureWarning)\n"
     ]
    },
    {
     "name": "stdout",
     "output_type": "stream",
     "text": [
      "finished 166 files\n"
     ]
    }
   ],
   "source": [
    "i=1\n",
    "for nlp_file in os.scandir('./nlp_output'):\n",
    "    with open(nlp_file, \"rb\") as f:\n",
    "        nlp_out = pickle.load(f)\n",
    "        \n",
    "    with open(\"./processed_vision_output/{0}\".format(nlp_file.name), \"rb\") as f:\n",
    "        vision_out = pickle.load(f)\n",
    "    nlp_out = np.reshape(nlp_out, (int(nlp_out.shape[0]/2), -1))\n",
    "    \n",
    "    \n",
    "    combined_out = []\n",
    "    clone_nlp_out = np.copy(nlp_out)\n",
    "    for word in vision_out:\n",
    "        if word[0] != '':\n",
    "            match_indexes = np.where(clone_nlp_out == word[0])\n",
    "            if len(match_indexes[0]) == 0:\n",
    "                continue\n",
    "            match_words = clone_nlp_out[match_indexes[0][0]]\n",
    "            if match_words.shape[0] > 0:\n",
    "                word_string = match_words[0]\n",
    "                word_vector = match_words[1]\n",
    "                \n",
    "                combined_out.append([word_string, word_vector, word[1]])\n",
    "                \n",
    "                clone_nlp_out = np.delete(clone_nlp_out, match_indexes[0][0], axis=0)\n",
    "    \n",
    "    with open(\"./input/{0}\".format(nlp_file.name), 'wb') as f:\n",
    "        pickle.dump(combined_out, f)\n",
    "        i+=1\n",
    "        print(i, end='\\r')\n",
    "print(\"finished {0} files\".format(i))"
   ]
  },
  {
   "cell_type": "code",
   "execution_count": 54,
   "metadata": {},
   "outputs": [
    {
     "name": "stdout",
     "output_type": "stream",
     "text": [
      "<class 'torch.Tensor'>\n"
     ]
    }
   ],
   "source": [
    "objects = []\n",
    "with (open(\"./vision_output/ssoar_datasetssoar-journpsycho-2003-2-diese_welt_bedarf_unserer_aufmerksamkeit.pickle\", \"rb\")) as openfile:\n",
    "    while True:\n",
    "        try:\n",
    "            objects.append(pickle.load(openfile))\n",
    "        except EOFError:\n",
    "            break\n",
    "            \n",
    "print(type(objects[0][1][1]))"
   ]
  }
 ],
 "metadata": {
  "kernelspec": {
   "display_name": "Python 3",
   "language": "python",
   "name": "python3"
  },
  "language_info": {
   "codemirror_mode": {
    "name": "ipython",
    "version": 3
   },
   "file_extension": ".py",
   "mimetype": "text/x-python",
   "name": "python",
   "nbconvert_exporter": "python",
   "pygments_lexer": "ipython3",
   "version": "3.7.4"
  }
 },
 "nbformat": 4,
 "nbformat_minor": 4
}
