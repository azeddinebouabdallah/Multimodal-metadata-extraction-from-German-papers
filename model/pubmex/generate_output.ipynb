{
 "cells": [
  {
   "cell_type": "code",
   "execution_count": 6,
   "id": "brave-occupation",
   "metadata": {},
   "outputs": [],
   "source": [
    "import torch\n",
    "import pandas as pd\n",
    "from pubmexinference import *\n",
    "from torchsummary import summary\n",
    "import pdb\n",
    "import csv\n",
    "from os import listdir\n",
    "from os.path import isfile, join"
   ]
  },
  {
   "source": [
    " Create instance of Pubmex"
   ],
   "cell_type": "markdown",
   "metadata": {}
  },
  {
   "cell_type": "code",
   "execution_count": 8,
   "metadata": {},
   "outputs": [],
   "source": [
    " pubmex = PubMexInference(\n",
    "\tmodel_dump=\"vision_model/model_final.pth\",\n",
    "\tconfig_file=\"configs/train_config.yaml\",\n",
    "\tuse_cuda=False,\n",
    "    )"
   ]
  },
  {
   "source": [
    "Get all file with rel path"
   ],
   "cell_type": "markdown",
   "metadata": {}
  },
  {
   "cell_type": "code",
   "execution_count": 9,
   "metadata": {},
   "outputs": [],
   "source": [
    "main_path = '../../ssoar_downloads/'\n",
    "files_list = [main_path + f for f in listdir(main_path) if isfile(join(main_path, f))]\n",
    " "
   ]
  },
  {
   "source": [
    " self.metadataCatalog.thing_classes = [\n",
    "            \"abstract\", \"address\", \"affiliation\", \"author\", \"date\", \"doi\", \"email\", \"journal\", \"title\"\n",
    "            ]"
   ],
   "cell_type": "markdown",
   "metadata": {}
  },
  {
   "source": [
    "## Test the pubmex\n",
    "predict = pubmex.alt_predict(\"../../ssoar_downloads/niehaus_et_al-gestandnismotivierung_in_beschuldigtenvernehmungen-ocr.pdf\")\n",
    "predict[0][1][1] ## Score tuple\n",
    "predict[0][1][1].tolist()"
   ],
   "cell_type": "markdown",
   "metadata": {}
  },
  {
   "cell_type": "code",
   "execution_count": 10,
   "metadata": {},
   "outputs": [],
   "source": [
    "def get_desired_output(filename, pubmex):\n",
    "    output = []\n",
    "    main_path = '../../ssoar_downloads/'\n",
    "    predict = pubmex.alt_predict(filename)\n",
    "\n",
    "    for i in predict:\n",
    "        score = i[1][1].tolist()\n",
    "        text = i[0].translate(str.maketrans('', '', ',')).split() # Remove ','\n",
    "        dummy = list(map(lambda x: [x] + score, text ))\n",
    "        output = output + dummy\n",
    "    with open('mexpub_output_test/'+ os.path.relpath(filename, main_path), 'w', newline='') as myfile:   ## Change name of the folder here\n",
    "        writer = csv.writer(myfile, delimiter=',',  quoting=csv.QUOTE_MINIMAL)\n",
    "        writer.writerows(output)\n",
    "\n",
    "\n",
    "    return True\n",
    "\n",
    "\n"
   ]
  },
  {
   "source": [
    "Run pubmex with 2 file (remove bracklet to run with entire file)"
   ],
   "cell_type": "markdown",
   "metadata": {}
  },
  {
   "cell_type": "code",
   "execution_count": 11,
   "metadata": {
    "tags": []
   },
   "outputs": [],
   "source": [
    "for file_name in files_list:\n",
    "    try:\n",
    "        if os.path.exists('mexpub_output_test'+ file_name[21:]):\n",
    "            # print(\"Filename: \"+ file_name + \" || already done\")\n",
    "            continue\n",
    "        else:\n",
    "            get_desired_output(file_name, pubmex)\n",
    "            print(\"Done for pdf name :\" + file_name)\n",
    "    except:\n",
    "            print('Filename: ', file_name + ' ERROR')"
   ]
  },
  {
   "cell_type": "code",
   "execution_count": null,
   "metadata": {},
   "outputs": [],
   "source": []
  },
  {
   "source": [
    "Test read one file\n"
   ],
   "cell_type": "markdown",
   "metadata": {}
  },
  {
   "cell_type": "code",
   "execution_count": 12,
   "metadata": {},
   "outputs": [
    {
     "output_type": "execute_result",
     "data": {
      "text/plain": [
       "                         0         1         2         3         4         5   \\\n",
       "0               Psychologie  0.000431  0.000262  0.000457  0.001313  0.000325   \n",
       "1                       und  0.000431  0.000262  0.000457  0.001313  0.000325   \n",
       "2                      ihre  0.000431  0.000262  0.000457  0.001313  0.000325   \n",
       "3                   Praxis:  0.000431  0.000262  0.000457  0.001313  0.000325   \n",
       "4               Materialien  0.000431  0.000262  0.000457  0.001313  0.000325   \n",
       "5             zurGeschichte  0.000431  0.000262  0.000457  0.001313  0.000325   \n",
       "6                       und  0.000431  0.000262  0.000457  0.001313  0.000325   \n",
       "7                  Funktion  0.000431  0.000262  0.000457  0.001313  0.000325   \n",
       "8                     einer  0.000431  0.000262  0.000457  0.001313  0.000325   \n",
       "9      Einzelwissenschaftin  0.000431  0.000262  0.000457  0.001313  0.000325   \n",
       "10                      der  0.000431  0.000262  0.000457  0.001313  0.000325   \n",
       "11           Bundesrepublik  0.000431  0.000262  0.000457  0.001313  0.000325   \n",
       "12           www.ssoar.info  0.000569  0.000229  0.000404  0.000317  0.000534   \n",
       "13                       in  0.000252  0.000685  0.001295  0.983776  0.000164   \n",
       "14                      der  0.000252  0.000685  0.001295  0.983776  0.000164   \n",
       "15  BundesrepublikMaikowski  0.000252  0.000685  0.001295  0.983776  0.000164   \n",
       "16                  Rainer;  0.000252  0.000685  0.001295  0.983776  0.000164   \n",
       "17                   Mattes  0.000252  0.000685  0.001295  0.983776  0.000164   \n",
       "18                   Peter;  0.000252  0.000685  0.001295  0.983776  0.000164   \n",
       "19                     Rott  0.000252  0.000685  0.001295  0.983776  0.000164   \n",
       "20                  Gerhart  0.000252  0.000685  0.001295  0.983776  0.000164   \n",
       "\n",
       "          6         7         8         9         10  \n",
       "0   0.000124  0.000142  0.000867  0.995534  0.000546  \n",
       "1   0.000124  0.000142  0.000867  0.995534  0.000546  \n",
       "2   0.000124  0.000142  0.000867  0.995534  0.000546  \n",
       "3   0.000124  0.000142  0.000867  0.995534  0.000546  \n",
       "4   0.000124  0.000142  0.000867  0.995534  0.000546  \n",
       "5   0.000124  0.000142  0.000867  0.995534  0.000546  \n",
       "6   0.000124  0.000142  0.000867  0.995534  0.000546  \n",
       "7   0.000124  0.000142  0.000867  0.995534  0.000546  \n",
       "8   0.000124  0.000142  0.000867  0.995534  0.000546  \n",
       "9   0.000124  0.000142  0.000867  0.995534  0.000546  \n",
       "10  0.000124  0.000142  0.000867  0.995534  0.000546  \n",
       "11  0.000124  0.000142  0.000867  0.995534  0.000546  \n",
       "12  0.000261  0.000117  0.994941  0.001554  0.001075  \n",
       "13  0.000181  0.000405  0.002486  0.004544  0.006211  \n",
       "14  0.000181  0.000405  0.002486  0.004544  0.006211  \n",
       "15  0.000181  0.000405  0.002486  0.004544  0.006211  \n",
       "16  0.000181  0.000405  0.002486  0.004544  0.006211  \n",
       "17  0.000181  0.000405  0.002486  0.004544  0.006211  \n",
       "18  0.000181  0.000405  0.002486  0.004544  0.006211  \n",
       "19  0.000181  0.000405  0.002486  0.004544  0.006211  \n",
       "20  0.000181  0.000405  0.002486  0.004544  0.006211  "
      ],
      "text/html": "<div>\n<style scoped>\n    .dataframe tbody tr th:only-of-type {\n        vertical-align: middle;\n    }\n\n    .dataframe tbody tr th {\n        vertical-align: top;\n    }\n\n    .dataframe thead th {\n        text-align: right;\n    }\n</style>\n<table border=\"1\" class=\"dataframe\">\n  <thead>\n    <tr style=\"text-align: right;\">\n      <th></th>\n      <th>0</th>\n      <th>1</th>\n      <th>2</th>\n      <th>3</th>\n      <th>4</th>\n      <th>5</th>\n      <th>6</th>\n      <th>7</th>\n      <th>8</th>\n      <th>9</th>\n      <th>10</th>\n    </tr>\n  </thead>\n  <tbody>\n    <tr>\n      <th>0</th>\n      <td>Psychologie</td>\n      <td>0.000431</td>\n      <td>0.000262</td>\n      <td>0.000457</td>\n      <td>0.001313</td>\n      <td>0.000325</td>\n      <td>0.000124</td>\n      <td>0.000142</td>\n      <td>0.000867</td>\n      <td>0.995534</td>\n      <td>0.000546</td>\n    </tr>\n    <tr>\n      <th>1</th>\n      <td>und</td>\n      <td>0.000431</td>\n      <td>0.000262</td>\n      <td>0.000457</td>\n      <td>0.001313</td>\n      <td>0.000325</td>\n      <td>0.000124</td>\n      <td>0.000142</td>\n      <td>0.000867</td>\n      <td>0.995534</td>\n      <td>0.000546</td>\n    </tr>\n    <tr>\n      <th>2</th>\n      <td>ihre</td>\n      <td>0.000431</td>\n      <td>0.000262</td>\n      <td>0.000457</td>\n      <td>0.001313</td>\n      <td>0.000325</td>\n      <td>0.000124</td>\n      <td>0.000142</td>\n      <td>0.000867</td>\n      <td>0.995534</td>\n      <td>0.000546</td>\n    </tr>\n    <tr>\n      <th>3</th>\n      <td>Praxis:</td>\n      <td>0.000431</td>\n      <td>0.000262</td>\n      <td>0.000457</td>\n      <td>0.001313</td>\n      <td>0.000325</td>\n      <td>0.000124</td>\n      <td>0.000142</td>\n      <td>0.000867</td>\n      <td>0.995534</td>\n      <td>0.000546</td>\n    </tr>\n    <tr>\n      <th>4</th>\n      <td>Materialien</td>\n      <td>0.000431</td>\n      <td>0.000262</td>\n      <td>0.000457</td>\n      <td>0.001313</td>\n      <td>0.000325</td>\n      <td>0.000124</td>\n      <td>0.000142</td>\n      <td>0.000867</td>\n      <td>0.995534</td>\n      <td>0.000546</td>\n    </tr>\n    <tr>\n      <th>5</th>\n      <td>zurGeschichte</td>\n      <td>0.000431</td>\n      <td>0.000262</td>\n      <td>0.000457</td>\n      <td>0.001313</td>\n      <td>0.000325</td>\n      <td>0.000124</td>\n      <td>0.000142</td>\n      <td>0.000867</td>\n      <td>0.995534</td>\n      <td>0.000546</td>\n    </tr>\n    <tr>\n      <th>6</th>\n      <td>und</td>\n      <td>0.000431</td>\n      <td>0.000262</td>\n      <td>0.000457</td>\n      <td>0.001313</td>\n      <td>0.000325</td>\n      <td>0.000124</td>\n      <td>0.000142</td>\n      <td>0.000867</td>\n      <td>0.995534</td>\n      <td>0.000546</td>\n    </tr>\n    <tr>\n      <th>7</th>\n      <td>Funktion</td>\n      <td>0.000431</td>\n      <td>0.000262</td>\n      <td>0.000457</td>\n      <td>0.001313</td>\n      <td>0.000325</td>\n      <td>0.000124</td>\n      <td>0.000142</td>\n      <td>0.000867</td>\n      <td>0.995534</td>\n      <td>0.000546</td>\n    </tr>\n    <tr>\n      <th>8</th>\n      <td>einer</td>\n      <td>0.000431</td>\n      <td>0.000262</td>\n      <td>0.000457</td>\n      <td>0.001313</td>\n      <td>0.000325</td>\n      <td>0.000124</td>\n      <td>0.000142</td>\n      <td>0.000867</td>\n      <td>0.995534</td>\n      <td>0.000546</td>\n    </tr>\n    <tr>\n      <th>9</th>\n      <td>Einzelwissenschaftin</td>\n      <td>0.000431</td>\n      <td>0.000262</td>\n      <td>0.000457</td>\n      <td>0.001313</td>\n      <td>0.000325</td>\n      <td>0.000124</td>\n      <td>0.000142</td>\n      <td>0.000867</td>\n      <td>0.995534</td>\n      <td>0.000546</td>\n    </tr>\n    <tr>\n      <th>10</th>\n      <td>der</td>\n      <td>0.000431</td>\n      <td>0.000262</td>\n      <td>0.000457</td>\n      <td>0.001313</td>\n      <td>0.000325</td>\n      <td>0.000124</td>\n      <td>0.000142</td>\n      <td>0.000867</td>\n      <td>0.995534</td>\n      <td>0.000546</td>\n    </tr>\n    <tr>\n      <th>11</th>\n      <td>Bundesrepublik</td>\n      <td>0.000431</td>\n      <td>0.000262</td>\n      <td>0.000457</td>\n      <td>0.001313</td>\n      <td>0.000325</td>\n      <td>0.000124</td>\n      <td>0.000142</td>\n      <td>0.000867</td>\n      <td>0.995534</td>\n      <td>0.000546</td>\n    </tr>\n    <tr>\n      <th>12</th>\n      <td>www.ssoar.info</td>\n      <td>0.000569</td>\n      <td>0.000229</td>\n      <td>0.000404</td>\n      <td>0.000317</td>\n      <td>0.000534</td>\n      <td>0.000261</td>\n      <td>0.000117</td>\n      <td>0.994941</td>\n      <td>0.001554</td>\n      <td>0.001075</td>\n    </tr>\n    <tr>\n      <th>13</th>\n      <td>in</td>\n      <td>0.000252</td>\n      <td>0.000685</td>\n      <td>0.001295</td>\n      <td>0.983776</td>\n      <td>0.000164</td>\n      <td>0.000181</td>\n      <td>0.000405</td>\n      <td>0.002486</td>\n      <td>0.004544</td>\n      <td>0.006211</td>\n    </tr>\n    <tr>\n      <th>14</th>\n      <td>der</td>\n      <td>0.000252</td>\n      <td>0.000685</td>\n      <td>0.001295</td>\n      <td>0.983776</td>\n      <td>0.000164</td>\n      <td>0.000181</td>\n      <td>0.000405</td>\n      <td>0.002486</td>\n      <td>0.004544</td>\n      <td>0.006211</td>\n    </tr>\n    <tr>\n      <th>15</th>\n      <td>BundesrepublikMaikowski</td>\n      <td>0.000252</td>\n      <td>0.000685</td>\n      <td>0.001295</td>\n      <td>0.983776</td>\n      <td>0.000164</td>\n      <td>0.000181</td>\n      <td>0.000405</td>\n      <td>0.002486</td>\n      <td>0.004544</td>\n      <td>0.006211</td>\n    </tr>\n    <tr>\n      <th>16</th>\n      <td>Rainer;</td>\n      <td>0.000252</td>\n      <td>0.000685</td>\n      <td>0.001295</td>\n      <td>0.983776</td>\n      <td>0.000164</td>\n      <td>0.000181</td>\n      <td>0.000405</td>\n      <td>0.002486</td>\n      <td>0.004544</td>\n      <td>0.006211</td>\n    </tr>\n    <tr>\n      <th>17</th>\n      <td>Mattes</td>\n      <td>0.000252</td>\n      <td>0.000685</td>\n      <td>0.001295</td>\n      <td>0.983776</td>\n      <td>0.000164</td>\n      <td>0.000181</td>\n      <td>0.000405</td>\n      <td>0.002486</td>\n      <td>0.004544</td>\n      <td>0.006211</td>\n    </tr>\n    <tr>\n      <th>18</th>\n      <td>Peter;</td>\n      <td>0.000252</td>\n      <td>0.000685</td>\n      <td>0.001295</td>\n      <td>0.983776</td>\n      <td>0.000164</td>\n      <td>0.000181</td>\n      <td>0.000405</td>\n      <td>0.002486</td>\n      <td>0.004544</td>\n      <td>0.006211</td>\n    </tr>\n    <tr>\n      <th>19</th>\n      <td>Rott</td>\n      <td>0.000252</td>\n      <td>0.000685</td>\n      <td>0.001295</td>\n      <td>0.983776</td>\n      <td>0.000164</td>\n      <td>0.000181</td>\n      <td>0.000405</td>\n      <td>0.002486</td>\n      <td>0.004544</td>\n      <td>0.006211</td>\n    </tr>\n    <tr>\n      <th>20</th>\n      <td>Gerhart</td>\n      <td>0.000252</td>\n      <td>0.000685</td>\n      <td>0.001295</td>\n      <td>0.983776</td>\n      <td>0.000164</td>\n      <td>0.000181</td>\n      <td>0.000405</td>\n      <td>0.002486</td>\n      <td>0.004544</td>\n      <td>0.006211</td>\n    </tr>\n  </tbody>\n</table>\n</div>"
     },
     "metadata": {},
     "execution_count": 12
    }
   ],
   "source": [
    "pd.read_csv('mexpub_output_test/ssoar-1976-maikowski_et_al-psychologie_und_ihre_praxis.pdf', header=None)"
   ]
  }
 ],
 "metadata": {
  "kernelspec": {
   "display_name": "Python 3",
   "language": "python",
   "name": "python3"
  },
  "language_info": {
   "codemirror_mode": {
    "name": "ipython",
    "version": 3
   },
   "file_extension": ".py",
   "mimetype": "text/x-python",
   "name": "python",
   "nbconvert_exporter": "python",
   "pygments_lexer": "ipython3",
   "version": "3.6.12-final"
  }
 },
 "nbformat": 4,
 "nbformat_minor": 5
}