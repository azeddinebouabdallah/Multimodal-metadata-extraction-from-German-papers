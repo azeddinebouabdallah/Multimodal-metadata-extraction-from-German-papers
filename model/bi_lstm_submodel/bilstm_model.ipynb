{
 "cells": [
  {
   "cell_type": "code",
   "execution_count": 2,
   "metadata": {},
   "outputs": [
    {
     "data": {
      "text/plain": [
       "<torch._C.Generator at 0x7f0d6413fc70>"
      ]
     },
     "execution_count": 2,
     "metadata": {},
     "output_type": "execute_result"
    }
   ],
   "source": [
    "import torch\n",
    "import torch.nn as nn\n",
    "import torch.nn.functional as F\n",
    "import torch.optim as optim\n",
    "from torch.nn.utils.rnn import pack_padded_sequence, pad_packed_sequence\n",
    "\n",
    "import numpy as np\n",
    "import pandas as pd\n",
    "import pickle\n",
    "\n",
    "import os\n",
    "\n",
    "torch.manual_seed(1)"
   ]
  },
  {
   "cell_type": "code",
   "execution_count": 3,
   "metadata": {},
   "outputs": [],
   "source": [
    "class BiLSTM(nn.Module): \n",
    "    # This NLP part Will consist of two bidirectional lstm layers and it's output is \n",
    "    # determined by the LSTM's last hidden states or output vectors.\n",
    "\n",
    "    # This will take as an input a sequence of words and output the last hidden layer\n",
    "    # the last hidden states of 2-layer bidirectional LSTM will be the input of the last multimodel network \n",
    "\n",
    "    def __init__(self, embedding_dim, hidden_dim = 256, layer_dim =2, output_dim = 7):\n",
    "        super(BiLSTM, self).__init__()\n",
    "        \n",
    "        self.embedding_dim = embedding_dim\n",
    "        \n",
    "        #Hidden dimensions\n",
    "        self.hidden_dim = hidden_dim # maybe set this to 256\n",
    "\n",
    "        # Number of hidden layers\n",
    "        self.layer_dim = layer_dim\n",
    "\n",
    "        # Building the LSTM \n",
    "        # batch_first = True causes the input/output to be of shape 3D (batch_dim, seq_dim, feature_dim) \n",
    "        # output will be the same dim as the hidden dim\n",
    "        self.lstm1 = nn.LSTM(embedding_dim, hidden_dim, layer_dim, batch_first=True, bidirectional=True)\n",
    "        \n",
    "        self.fc = nn.Linear(hidden_dim * 2, output_dim)\n",
    "        self.sigmoid = nn.Sigmoid()\n",
    "        \n",
    "    def forward(self, x):\n",
    "        # Initialize hidden state with zeros\n",
    "        # self.layer_dim * 2. because we have one going forwards and another going backwards\n",
    "        h0 = torch.zeros(self.layer_dim * 2, x.size(0), self.hidden_dim)\n",
    "        \n",
    "        \n",
    "        # Initialize cell state\n",
    "        c0 =  torch.zeros(self.layer_dim * 2, x.size(0), self.hidden_dim)\n",
    "\n",
    "        # We suppose we are conducting a 28 time steps In case of using \n",
    "        # We need to detach as we are doing truncated backpropagation through time (BPTT)\n",
    "        # If we don't, we'll backprop all the way to the start even after going through another batch\n",
    "        out, (hn, cn) = self.lstm1(x, (h0.detach(), c0.detach()))\n",
    "                \n",
    "        # out = self.fc(out.view(out.size(0), -1))\n",
    "          \n",
    "        # Without the activation function, out will contain the last hidden layer.\n",
    "        # This could be obtianed from hn[-1] as well.\n",
    "        out = out[:, -1, :]\n",
    "        \n",
    "        out = self.fc(out)\n",
    "        \n",
    "        out = self.sigmoid(out)\n",
    "        \n",
    "        return out\n",
    "        \n",
    "        # Index hidden state of last time step\n",
    "        # out.size() --> 256, 100, 256 if we have (input dim = 100 and hidden dim = 100)\n",
    "        # out[:, -1, :] => 256, 256 --> because we just want the last time step hidden states\n",
    "        #out = out[:, -1, :] # without an activation function\n",
    "\n",
    "        # now our: out.size() --> 256, 10 (if output dimension is equal to 10)\n",
    "        #return out"
   ]
  },
  {
   "cell_type": "code",
   "execution_count": 4,
   "metadata": {},
   "outputs": [],
   "source": [
    "# 1041 embedding size\n",
    "model = BiLSTM(1041)\n",
    "#model = BiLSTM(17)\n",
    "\n",
    "\n",
    "#loss_function = nn.NLLLoss()\n",
    "loss_function = nn.CrossEntropyLoss()\n",
    "optimizer = optim.SGD(model.parameters(), lr = 0.1)"
   ]
  },
  {
   "cell_type": "markdown",
   "metadata": {},
   "source": [
    "# Here i have to get the ELMO vector in a form, in a format of numpy array.\n",
    "with open('document_vector.pickle', 'rb') as file:\n",
    "    vectors = pickle.load(file)\n",
    "    file.close()\n",
    "\n",
    "vectors = np.delete(vectors, 1, 1)\n",
    "vectors = np.delete(vectors, 0, 1)\n",
    "\n",
    "vectors = torch.from_numpy(np.array(vectors, dtype=np.float64)).view(521, 1, -1).float()\n",
    "vectors.size()"
   ]
  },
  {
   "cell_type": "code",
   "execution_count": 5,
   "metadata": {},
   "outputs": [],
   "source": [
    "i = 0\n",
    "for file in os.scandir('../../feature_extraction/annotated_features_Jenny/'):\n",
    "    if file.name.endswith('csv'):\n",
    "        if (file.name == 'ssoar_datasetssoar-journpsycho-1993-3-leithauser-geh_nicht_nach_haus_laudatio.csv'):\n",
    "            continue\n",
    "        dataframe = pd.read_csv(file)\n",
    "        vector = dataframe.to_numpy()\n",
    "        if (vector.shape[1] != 1046):\n",
    "            continue\n",
    "        target = vector[:, -1]        \n",
    "        vector = vector[:, 4:-1]\n",
    "        if(i == 0):\n",
    "            vectors = vector\n",
    "            targets = target\n",
    "            i+=1\n",
    "        else:\n",
    "            targets = np.concatenate((targets, target))\n",
    "            vectors = np.concatenate((vectors, vector))\n",
    "        "
   ]
  },
  {
   "cell_type": "code",
   "execution_count": 6,
   "metadata": {},
   "outputs": [],
   "source": [
    "for file in os.scandir('../../feature_extraction/annotated_features_225-301/'):\n",
    "    if file.name.endswith('csv'):\n",
    "\n",
    "        dataframe = pd.read_csv(file)\n",
    "        vector = dataframe.to_numpy()\n",
    "        if (vector.shape[1] != 1046):\n",
    "            continue\n",
    "        target = vector[:, -1]        \n",
    "        vector = vector[:, 4:-1]\n",
    "        targets = np.concatenate((targets, target))\n",
    "        vectors = np.concatenate((vectors, vector))\n",
    "        "
   ]
  },
  {
   "cell_type": "code",
   "execution_count": 7,
   "metadata": {},
   "outputs": [],
   "source": [
    "for file in os.scandir('../../feature_extraction/annotated_features_151-225/'):\n",
    "    if file.name.endswith('csv'):\n",
    "\n",
    "        dataframe = pd.read_csv(file)\n",
    "        vector = dataframe.to_numpy()\n",
    "        if (vector.shape[1] != 1046):\n",
    "            continue\n",
    "        target = vector[:, -1]        \n",
    "        vector = vector[:, 4:-1]\n",
    "        targets = np.concatenate((targets, target))\n",
    "        vectors = np.concatenate((vectors, vector))\n",
    "        "
   ]
  },
  {
   "cell_type": "raw",
   "metadata": {},
   "source": [
    "# 1: title, 2: journal, 3: author, 4: asbtract\n",
    "# This is a labeling for document 0\n",
    "journal = [1] * 3\n",
    "title = [0] * 10\n",
    "author = [2] * 5\n",
    "abstract = [3] * 503\n",
    "\n",
    "labels =  torch.from_numpy(np.concatenate((journal, title, author, abstract)))"
   ]
  },
  {
   "cell_type": "code",
   "execution_count": 8,
   "metadata": {},
   "outputs": [
    {
     "data": {
      "text/plain": [
       "array([2, 2, 2, ..., 5, 5, 10], dtype=object)"
      ]
     },
     "execution_count": 8,
     "metadata": {},
     "output_type": "execute_result"
    }
   ],
   "source": [
    "targets"
   ]
  },
  {
   "cell_type": "code",
   "execution_count": 9,
   "metadata": {},
   "outputs": [],
   "source": [
    "set(targets)\n",
    "t= targets"
   ]
  },
  {
   "cell_type": "code",
   "execution_count": 10,
   "metadata": {},
   "outputs": [
    {
     "data": {
      "text/plain": [
       "array([2, 2, 2, ..., 4, 4, 7], dtype=object)"
      ]
     },
     "execution_count": 10,
     "metadata": {},
     "output_type": "execute_result"
    }
   ],
   "source": [
    "# 1, 2, 4=>3, 5=>4, 6=>5, 7=>6, 10=>7\n",
    "\n",
    "for i in range(len(t)):\n",
    "    if t[i] == 4:\n",
    "        t[i] = 3\n",
    "    elif t[i] == 5:\n",
    "        t[i] = 4\n",
    "    elif t[i] == 6:\n",
    "        t[i] = 5\n",
    "    elif t[i] == 7:\n",
    "        t[i] = 6\n",
    "    elif t[i] == 10:\n",
    "        t[i] = 7\n",
    "        \n",
    "t"
   ]
  },
  {
   "cell_type": "code",
   "execution_count": 11,
   "metadata": {},
   "outputs": [],
   "source": [
    "v = vectors\n",
    "t = t-1"
   ]
  },
  {
   "cell_type": "code",
   "execution_count": 12,
   "metadata": {},
   "outputs": [
    {
     "data": {
      "text/plain": [
       "array([[0.1, 1, 0, ..., -0.4808298349380493, 0.3247198760509491,\n",
       "        -0.1913703680038452],\n",
       "       [0.0, 0, 0, ..., -0.6039217114448547, 0.5757494568824768,\n",
       "        -0.0578603632748127],\n",
       "       [0.16666666666666666, 1, 0, ..., 0.3477407395839691,\n",
       "        0.4615496397018433, -0.2093597650527954],\n",
       "       ...,\n",
       "       [0.6666666666666666, 1, 0, ..., -0.22227977216243744,\n",
       "        -0.08376545459032059, -0.10069357603788376],\n",
       "       [0.0, 0, 0, ..., 0.1951856166124344, -0.07286903262138368,\n",
       "        0.2501157224178314],\n",
       "       [0.0, 0, 0, ..., -0.2655101716518402, -0.02821296267211437,\n",
       "        0.11155444383621216]], dtype=object)"
      ]
     },
     "execution_count": 12,
     "metadata": {},
     "output_type": "execute_result"
    }
   ],
   "source": [
    "v"
   ]
  },
  {
   "cell_type": "code",
   "execution_count": 13,
   "metadata": {},
   "outputs": [
    {
     "data": {
      "text/plain": [
       "{0, 1, 2, 3, 4, 5, 6}"
      ]
     },
     "execution_count": 13,
     "metadata": {},
     "output_type": "execute_result"
    }
   ],
   "source": [
    "set(t)"
   ]
  },
  {
   "cell_type": "code",
   "execution_count": 14,
   "metadata": {},
   "outputs": [
    {
     "name": "stdout",
     "output_type": "stream",
     "text": [
      "(45438, 1041)\n"
     ]
    },
    {
     "data": {
      "text/plain": [
       "torch.Size([45438, 1, 1041])"
      ]
     },
     "execution_count": 14,
     "metadata": {},
     "output_type": "execute_result"
    }
   ],
   "source": [
    "# PLEASE if you want to run this block you have to run the previous one first\n",
    "labels = torch.from_numpy(np.array(t, dtype=np.int64))\n",
    "\n",
    "print(v.shape)\n",
    "\n",
    "v = torch.from_numpy(np.array(v, dtype=np.float64)).view(v.shape[0], 1, -1).float()\n",
    "v.size()"
   ]
  },
  {
   "cell_type": "code",
   "execution_count": 44,
   "metadata": {},
   "outputs": [
    {
     "name": "stdout",
     "output_type": "stream",
     "text": [
      "Epoch: 16/300. Loss: 0.11 Progress: 5%\r"
     ]
    },
    {
     "ename": "KeyboardInterrupt",
     "evalue": "",
     "output_type": "error",
     "traceback": [
      "\u001b[0;31m---------------------------------------------------------------------------\u001b[0m",
      "\u001b[0;31mKeyboardInterrupt\u001b[0m                         Traceback (most recent call last)",
      "\u001b[0;32m<ipython-input-44-4efd7a4a1d1d>\u001b[0m in \u001b[0;36m<module>\u001b[0;34m\u001b[0m\n\u001b[1;32m     17\u001b[0m     \u001b[0;31m# Calculate loss, backpropagate, and update weights/parameters by calling opt.step()\u001b[0m\u001b[0;34m\u001b[0m\u001b[0;34m\u001b[0m\u001b[0;34m\u001b[0m\u001b[0m\n\u001b[1;32m     18\u001b[0m     \u001b[0mloss\u001b[0m \u001b[0;34m=\u001b[0m \u001b[0mloss_function\u001b[0m\u001b[0;34m(\u001b[0m\u001b[0mlabel_scores\u001b[0m\u001b[0;34m,\u001b[0m \u001b[0mtarget\u001b[0m\u001b[0;34m)\u001b[0m\u001b[0;34m\u001b[0m\u001b[0;34m\u001b[0m\u001b[0m\n\u001b[0;32m---> 19\u001b[0;31m     \u001b[0mloss\u001b[0m\u001b[0;34m.\u001b[0m\u001b[0mbackward\u001b[0m\u001b[0;34m(\u001b[0m\u001b[0;34m)\u001b[0m\u001b[0;34m\u001b[0m\u001b[0;34m\u001b[0m\u001b[0m\n\u001b[0m\u001b[1;32m     20\u001b[0m     \u001b[0moptimizer\u001b[0m\u001b[0;34m.\u001b[0m\u001b[0mstep\u001b[0m\u001b[0;34m(\u001b[0m\u001b[0;34m)\u001b[0m\u001b[0;34m\u001b[0m\u001b[0;34m\u001b[0m\u001b[0m\n\u001b[1;32m     21\u001b[0m \u001b[0;34m\u001b[0m\u001b[0m\n",
      "\u001b[0;32m~/anaconda3/lib/python3.7/site-packages/torch/tensor.py\u001b[0m in \u001b[0;36mbackward\u001b[0;34m(self, gradient, retain_graph, create_graph)\u001b[0m\n\u001b[1;32m    164\u001b[0m                 \u001b[0mproducts\u001b[0m\u001b[0;34m.\u001b[0m \u001b[0mDefaults\u001b[0m \u001b[0mto\u001b[0m\u001b[0;31m \u001b[0m\u001b[0;31m`\u001b[0m\u001b[0;31m`\u001b[0m\u001b[0;32mFalse\u001b[0m\u001b[0;31m`\u001b[0m\u001b[0;31m`\u001b[0m\u001b[0;34m.\u001b[0m\u001b[0;34m\u001b[0m\u001b[0;34m\u001b[0m\u001b[0m\n\u001b[1;32m    165\u001b[0m         \"\"\"\n\u001b[0;32m--> 166\u001b[0;31m         \u001b[0mtorch\u001b[0m\u001b[0;34m.\u001b[0m\u001b[0mautograd\u001b[0m\u001b[0;34m.\u001b[0m\u001b[0mbackward\u001b[0m\u001b[0;34m(\u001b[0m\u001b[0mself\u001b[0m\u001b[0;34m,\u001b[0m \u001b[0mgradient\u001b[0m\u001b[0;34m,\u001b[0m \u001b[0mretain_graph\u001b[0m\u001b[0;34m,\u001b[0m \u001b[0mcreate_graph\u001b[0m\u001b[0;34m)\u001b[0m\u001b[0;34m\u001b[0m\u001b[0;34m\u001b[0m\u001b[0m\n\u001b[0m\u001b[1;32m    167\u001b[0m \u001b[0;34m\u001b[0m\u001b[0m\n\u001b[1;32m    168\u001b[0m     \u001b[0;32mdef\u001b[0m \u001b[0mregister_hook\u001b[0m\u001b[0;34m(\u001b[0m\u001b[0mself\u001b[0m\u001b[0;34m,\u001b[0m \u001b[0mhook\u001b[0m\u001b[0;34m)\u001b[0m\u001b[0;34m:\u001b[0m\u001b[0;34m\u001b[0m\u001b[0;34m\u001b[0m\u001b[0m\n",
      "\u001b[0;32m~/anaconda3/lib/python3.7/site-packages/torch/autograd/__init__.py\u001b[0m in \u001b[0;36mbackward\u001b[0;34m(tensors, grad_tensors, retain_graph, create_graph, grad_variables)\u001b[0m\n\u001b[1;32m     97\u001b[0m     Variable._execution_engine.run_backward(\n\u001b[1;32m     98\u001b[0m         \u001b[0mtensors\u001b[0m\u001b[0;34m,\u001b[0m \u001b[0mgrad_tensors\u001b[0m\u001b[0;34m,\u001b[0m \u001b[0mretain_graph\u001b[0m\u001b[0;34m,\u001b[0m \u001b[0mcreate_graph\u001b[0m\u001b[0;34m,\u001b[0m\u001b[0;34m\u001b[0m\u001b[0;34m\u001b[0m\u001b[0m\n\u001b[0;32m---> 99\u001b[0;31m         allow_unreachable=True)  # allow_unreachable flag\n\u001b[0m\u001b[1;32m    100\u001b[0m \u001b[0;34m\u001b[0m\u001b[0m\n\u001b[1;32m    101\u001b[0m \u001b[0;34m\u001b[0m\u001b[0m\n",
      "\u001b[0;31mKeyboardInterrupt\u001b[0m: "
     ]
    }
   ],
   "source": [
    "# Training the model\n",
    "batch_loss = 0\n",
    "for epoch in range(300):\n",
    "    \n",
    "    running_loss = 0.0\n",
    "    \n",
    "    # Clear for the gradients.\n",
    "    model.zero_grad()\n",
    "        \n",
    "    # here prepare the inputs and targets\n",
    "    # target = array of labels [0, 1, ] where the label i stands for the class of the word i\n",
    "    training_input = v\n",
    "    target = labels\n",
    "        \n",
    "    # run a forward pass\n",
    "    label_scores = model(training_input)\n",
    "    # Calculate loss, backpropagate, and update weights/parameters by calling opt.step()\n",
    "    loss = loss_function(label_scores, target)\n",
    "    loss.backward()\n",
    "    optimizer.step()\n",
    "    \n",
    "    \n",
    "    running_loss += loss.item()\n",
    "        \n",
    "    print(\"Epoch: {0}/300. Loss: {2:.2f} Progress: {1}%\".format(epoch, int((epoch * 100)/300), running_loss / (epoch+1)) , end=\"\\r\")\n",
    "        \n",
    "\n",
    "print(\"Bi-LSTM model training is done!                           \", end='\\r')\n",
    "print(\"final labels {0}\".format(label_scores))"
   ]
  },
  {
   "cell_type": "code",
   "execution_count": 49,
   "metadata": {},
   "outputs": [
    {
     "data": {
      "text/plain": [
       "torch.Size([45438, 7])"
      ]
     },
     "execution_count": 49,
     "metadata": {},
     "output_type": "execute_result"
    }
   ],
   "source": [
    "label_scores.size()"
   ]
  },
  {
   "cell_type": "code",
   "execution_count": 50,
   "metadata": {},
   "outputs": [],
   "source": [
    "y = []\n",
    "\n",
    "for p in label_scores:\n",
    "    i = 0\n",
    "    m = 0\n",
    "    for index, e in enumerate(p):\n",
    "        if float(e) > m:\n",
    "            i = index\n",
    "            m = e\n",
    "    y.append(i)"
   ]
  },
  {
   "cell_type": "code",
   "execution_count": null,
   "metadata": {},
   "outputs": [],
   "source": []
  },
  {
   "cell_type": "markdown",
   "metadata": {},
   "source": [
    "sigmoid = nn.Sigmoid()\n",
    "testing = sigmoid(label_scores)"
   ]
  },
  {
   "cell_type": "code",
   "execution_count": 15,
   "metadata": {},
   "outputs": [],
   "source": [
    "def accuracy(labels, predicted):\n",
    "    total_accuracy = 0\n",
    "    n = 0\n",
    "    for y, p in zip(labels, predicted):\n",
    "        if (y == p):\n",
    "            total_accuracy +=1\n",
    "        n+=1\n",
    "    return total_accuracy/n"
   ]
  },
  {
   "cell_type": "code",
   "execution_count": 52,
   "metadata": {},
   "outputs": [
    {
     "data": {
      "text/plain": [
       "0.8399357366081254"
      ]
     },
     "execution_count": 52,
     "metadata": {},
     "output_type": "execute_result"
    }
   ],
   "source": [
    "accuracy(labels, y)"
   ]
  },
  {
   "cell_type": "markdown",
   "metadata": {},
   "source": [
    "Model v1 = Feature vector all\n",
    "\n",
    "Model v2 = Feature vector only layout\n",
    "\n",
    "Model v3 = Feature vector all + sigmoid on training\n",
    "\n",
    "Model v4 = Feature vector layout + sigmoid on training"
   ]
  },
  {
   "cell_type": "code",
   "execution_count": 53,
   "metadata": {},
   "outputs": [
    {
     "name": "stderr",
     "output_type": "stream",
     "text": [
      "/home/azeddine/anaconda3/lib/python3.7/site-packages/torch/serialization.py:292: UserWarning: Couldn't retrieve source code for container of type BiLSTM. It won't be checked for correctness upon loading.\n",
      "  \"type \" + obj.__name__ + \". It won't be checked \"\n",
      "/home/azeddine/anaconda3/lib/python3.7/site-packages/torch/serialization.py:292: UserWarning: Couldn't retrieve source code for container of type LSTM. It won't be checked for correctness upon loading.\n",
      "  \"type \" + obj.__name__ + \". It won't be checked \"\n",
      "/home/azeddine/anaconda3/lib/python3.7/site-packages/torch/serialization.py:292: UserWarning: Couldn't retrieve source code for container of type Linear. It won't be checked for correctness upon loading.\n",
      "  \"type \" + obj.__name__ + \". It won't be checked \"\n",
      "/home/azeddine/anaconda3/lib/python3.7/site-packages/torch/serialization.py:292: UserWarning: Couldn't retrieve source code for container of type Sigmoid. It won't be checked for correctness upon loading.\n",
      "  \"type \" + obj.__name__ + \". It won't be checked \"\n"
     ]
    }
   ],
   "source": [
    "torch.save(model, \"modelv4\")"
   ]
  },
  {
   "cell_type": "code",
   "execution_count": 25,
   "metadata": {},
   "outputs": [
    {
     "data": {
      "text/plain": [
       "BiLSTM(\n",
       "  (lstm1): LSTM(1041, 256, num_layers=2, batch_first=True, bidirectional=True)\n",
       "  (fc): Linear(in_features=512, out_features=7, bias=True)\n",
       "  (sigmoid): Sigmoid()\n",
       ")"
      ]
     },
     "execution_count": 25,
     "metadata": {},
     "output_type": "execute_result"
    }
   ],
   "source": [
    "model = torch.load(\"modelv1\")\n",
    "model.eval()"
   ]
  },
  {
   "cell_type": "code",
   "execution_count": 26,
   "metadata": {},
   "outputs": [],
   "source": [
    "words_labels = model(v) "
   ]
  },
  {
   "cell_type": "code",
   "execution_count": 19,
   "metadata": {},
   "outputs": [
    {
     "data": {
      "text/plain": [
       "tensor([[0.3093, 0.7172, 0.1550,  ..., 0.1614, 0.7669, 0.9488],\n",
       "        [0.3154, 0.7545, 0.1534,  ..., 0.1635, 0.7730, 0.9277],\n",
       "        [0.3152, 0.7551, 0.1532,  ..., 0.1636, 0.7734, 0.9275],\n",
       "        ...,\n",
       "        [0.3124, 0.7509, 0.1514,  ..., 0.1623, 0.7783, 0.9298],\n",
       "        [0.3122, 0.7508, 0.1512,  ..., 0.1624, 0.7785, 0.9299],\n",
       "        [0.3147, 0.7247, 0.1603,  ..., 0.1658, 0.7601, 0.9383]],\n",
       "       grad_fn=<SigmoidBackward>)"
      ]
     },
     "execution_count": 19,
     "metadata": {},
     "output_type": "execute_result"
    }
   ],
   "source": [
    "words_labels"
   ]
  },
  {
   "cell_type": "code",
   "execution_count": 20,
   "metadata": {},
   "outputs": [
    {
     "data": {
      "text/plain": [
       "torch.Size([45438, 7])"
      ]
     },
     "execution_count": 20,
     "metadata": {},
     "output_type": "execute_result"
    }
   ],
   "source": [
    "words_labels.size()"
   ]
  },
  {
   "cell_type": "code",
   "execution_count": 58,
   "metadata": {},
   "outputs": [],
   "source": [
    "y = []\n",
    "\n",
    "for p in words_labels:\n",
    "    i = 0\n",
    "    m = 0\n",
    "    for index, e in enumerate(p):\n",
    "        if float(e) > m:\n",
    "            i = index\n",
    "            m = e\n",
    "    y.append(i)"
   ]
  },
  {
   "cell_type": "code",
   "execution_count": 60,
   "metadata": {},
   "outputs": [
    {
     "data": {
      "text/plain": [
       "0.8399357366081254"
      ]
     },
     "execution_count": 60,
     "metadata": {},
     "output_type": "execute_result"
    }
   ],
   "source": [
    "accuracy(labels, y)"
   ]
  },
  {
   "cell_type": "code",
   "execution_count": 65,
   "metadata": {},
   "outputs": [],
   "source": [
    "def precision_of(labels, y, of):\n",
    "    n = 0\n",
    "    precision = 0\n",
    "    c = 0\n",
    "    for label, p in zip(labels, y):\n",
    "        if (label == p) and (p == of):\n",
    "            c += 1\n",
    "        if (p == of):\n",
    "            n+=1\n",
    "            \n",
    "    precision = 0 if n==0 else c / n\n",
    "    return precision"
   ]
  },
  {
   "cell_type": "code",
   "execution_count": 71,
   "metadata": {},
   "outputs": [],
   "source": [
    "p0 = precision_of(labels, y, 0)\n",
    "p1 = precision_of(labels, y, 1)\n",
    "p2 = precision_of(labels, y, 2)\n",
    "p3 = precision_of(labels, y, 3)\n",
    "p4 = precision_of(labels, y, 4)\n",
    "p5 = precision_of(labels, y, 5)\n",
    "p6 = precision_of(labels, y, 6)\n",
    "\n",
    "precision = (p0+p1+p2+p3+p4+p5+p6) / 7"
   ]
  },
  {
   "cell_type": "code",
   "execution_count": 73,
   "metadata": {},
   "outputs": [
    {
     "data": {
      "text/plain": [
       "0.11999081951544648"
      ]
     },
     "execution_count": 73,
     "metadata": {},
     "output_type": "execute_result"
    }
   ],
   "source": [
    "precision"
   ]
  },
  {
   "cell_type": "code",
   "execution_count": 78,
   "metadata": {},
   "outputs": [],
   "source": [
    "def recall_of(labels, y, of):\n",
    "    n = 0\n",
    "    recall = 0\n",
    "    c = 0\n",
    "    for label, p in zip(labels, y):\n",
    "        if (label == p) and (p == of):\n",
    "            c += 1\n",
    "        if (label == of):\n",
    "            n+=1\n",
    "            \n",
    "    recall = 0 if n==0 else c / n\n",
    "    return recall"
   ]
  },
  {
   "cell_type": "code",
   "execution_count": 80,
   "metadata": {},
   "outputs": [],
   "source": [
    "p0 = recall_of(labels, y, 0)\n",
    "p1 = recall_of(labels, y, 1)\n",
    "p2 = recall_of(labels, y, 2)\n",
    "p3 = recall_of(labels, y, 3)\n",
    "p4 = recall_of(labels, y, 4)\n",
    "p5 = recall_of(labels, y, 5)\n",
    "p6 = recall_of(labels, y, 6)\n",
    "\n",
    "recall = (p0+p1+p2+p3+p4+p5+p6) / 7"
   ]
  },
  {
   "cell_type": "code",
   "execution_count": 81,
   "metadata": {},
   "outputs": [
    {
     "data": {
      "text/plain": [
       "0.14285714285714285"
      ]
     },
     "execution_count": 81,
     "metadata": {},
     "output_type": "execute_result"
    }
   ],
   "source": [
    "recall"
   ]
  }
 ],
 "metadata": {
  "kernelspec": {
   "display_name": "Python 3",
   "language": "python",
   "name": "python3"
  },
  "language_info": {
   "codemirror_mode": {
    "name": "ipython",
    "version": 3
   },
   "file_extension": ".py",
   "mimetype": "text/x-python",
   "name": "python",
   "nbconvert_exporter": "python",
   "pygments_lexer": "ipython3",
   "version": "3.7.4"
  }
 },
 "nbformat": 4,
 "nbformat_minor": 4
}
