{
 "cells": [
  {
   "cell_type": "code",
   "execution_count": 1,
   "metadata": {},
   "outputs": [],
   "source": [
    "import torch\n",
    "import torch.nn as nn\n",
    "import torch.nn.functional as F\n",
    "import torch.optim as optim\n",
    "from sklearn.model_selection import train_test_split\n",
    "from torch.nn.utils.rnn import pack_padded_sequence, pad_packed_sequence\n",
    "from torch.utils.data import Dataset, DataLoader\n",
    "\n",
    "import numpy as np\n",
    "import pandas as pd\n",
    "import pickle\n",
    "import random\n",
    "import os\n",
    "\n",
    "torch.manual_seed(10)\n",
    "device = 'cuda' if torch.cuda.is_available() else 'cpu'"
   ]
  },
  {
   "cell_type": "code",
   "execution_count": 2,
   "metadata": {},
   "outputs": [],
   "source": [
    "class BiLSTM(nn.Module): \n",
    "    # This NLP part Will consist of two bidirectional lstm layers and it's output is \n",
    "    # determined by the LSTM's last hidden states or output vectors.\n",
    "\n",
    "    # This will take as an input a sequence of words and output the last hidden layer\n",
    "    # the last hidden states of 2-layer bidirectional LSTM will be the input of the last multimodel network \n",
    "\n",
    "    def __init__(self, embedding_dim, hidden_dim = 256, layer_dim =2, output_dim = 10):\n",
    "        super(BiLSTM, self).__init__()\n",
    "        \n",
    "        \n",
    "        self.device = 'cuda' if torch.cuda.is_available() else 'cpu'\n",
    "        \n",
    "        self.embedding_dim = embedding_dim\n",
    "        \n",
    "        #Hidden dimensions\n",
    "        self.hidden_dim = hidden_dim # maybe set this to 256\n",
    "\n",
    "        # Number of hidden layers\n",
    "        self.layer_dim = layer_dim\n",
    "\n",
    "        # Building the LSTM \n",
    "        # batch_first = True causes the input/output to be of shape 3D (batch_dim, seq_dim, feature_dim) \n",
    "        # output will be the same dim as the hidden dim\n",
    "        self.lstm1 = nn.LSTM(embedding_dim, hidden_dim, layer_dim, batch_first=True, bidirectional=True)\n",
    "        \n",
    "        self.fc = nn.Linear(hidden_dim * 2, output_dim)\n",
    "        self.Sigmoid = nn.Sigmoid()\n",
    "        \n",
    "    def forward(self, x):\n",
    "        \n",
    "        # Initialize hidden state with zeros\n",
    "        # self.layer_dim * 2. because we have one going forwards and another going backwards\n",
    "        h0 = torch.randn(self.layer_dim * 2, x.size(0), self.hidden_dim, device=self.device)\n",
    "        \n",
    "        \n",
    "        \n",
    "        # Initialize cell state\n",
    "        c0 =  torch.randn(self.layer_dim * 2, x.size(0), self.hidden_dim, device=self.device)\n",
    "        \n",
    "        # We suppose we are conducting a 28 time steps In case of using \n",
    "        # We need to detach as we are doing truncated backpropagation through time (BPTT)\n",
    "        # If we don't, we'll backprop all the way to the start even after going through another batch\n",
    "        out, (hn, cn) = self.lstm1(x, (h0.detach(), c0.detach()))\n",
    "\n",
    "        # out = self.fc(out.view(out.size(0), -1))\n",
    "          \n",
    "        # Without the activation function, out will contain the last hidden layer.\n",
    "        # This could be obtianed from hn[-1] as well.\n",
    "        out = out[:, -1, :]\n",
    "        \n",
    "        out = self.fc(out)\n",
    "        \n",
    "        out = self.Sigmoid(out)\n",
    "        \n",
    "        return out\n",
    "        \n",
    "        # Index hidden state of last time step\n",
    "        # out.size() --> 256, 100, 256 if we have (input dim = 100 and hidden dim = 100)\n",
    "        # out[:, -1, :] => 256, 256 --> because we just want the last time step hidden states\n",
    "        #out = out[:, -1, :] # without an activation function\n",
    "\n",
    "        # now our: out.size() --> 256, 10 (if output dimension is equal to 10)\n",
    "        #return out"
   ]
  },
  {
   "cell_type": "code",
   "execution_count": 5,
   "metadata": {},
   "outputs": [],
   "source": [
    "# 1041 embedding size\n",
    "model = BiLSTM(1041)\n",
    "model.to(device)\n",
    "#model = BiLSTM(17)\n",
    "\n",
    "\n",
    "# Class weights (1, 2, 3, 4, 5, 6, 7, 8, 9, 10)\n",
    "weights = np.array([1.0,1.0,1.0,1.0,1.0,1.0,1.0,1.0,0.2,0.2])\n",
    "weights = torch.from_numpy(weights).to(device)\n",
    "\n",
    "#loss_function = nn.NLLLoss()\n",
    "loss_function = nn.CrossEntropyLoss(weight=weights)\n",
    "#loss_function = nn.BCEWithLogitsLoss(reduction='sum')\n",
    "optimizer = optim.SGD(model.parameters(), lr = 0.1)"
   ]
  },
  {
   "cell_type": "code",
   "execution_count": 6,
   "metadata": {},
   "outputs": [],
   "source": [
    "# A common headache in this competition is the lack of determinism in the results due to cudnn, the following solves the issue\n",
    "def seed_everything(seed=10):\n",
    "    random.seed(seed)\n",
    "    os.environ['PYTHONHASHSEED'] = str(seed)\n",
    "    np.random.seed(seed)\n",
    "    torch.manual_seed(seed)\n",
    "    torch.cuda.manual_seed(seed)\n",
    "    torch.backends.cudnn.deterministic = True\n",
    "seed_everything()"
   ]
  },
  {
   "cell_type": "markdown",
   "metadata": {},
   "source": [
    "# Here i have to get the ELMO vector in a form, in a format of numpy array.\n",
    "with open('document_vector.pickle', 'rb') as file:\n",
    "    vectors = pickle.load(file)\n",
    "    file.close()\n",
    "\n",
    "vectors = np.delete(vectors, 1, 1)\n",
    "vectors = np.delete(vectors, 0, 1)\n",
    "\n",
    "vectors = torch.from_numpy(np.array(vectors, dtype=np.float64)).view(521, 1, -1).float()\n",
    "vectors.size()"
   ]
  },
  {
   "cell_type": "code",
   "execution_count": null,
   "metadata": {},
   "outputs": [
    {
     "name": "stdout",
     "output_type": "stream",
     "text": [
      "21\r"
     ]
    }
   ],
   "source": [
    "# Reading the features NOTE: Do not run this it is already saved under vectors.pickle\n",
    "i = 0\n",
    "vectors = np.array([])\n",
    "labels = np.array([])\n",
    "for file in os.scandir('../../feature_extraction/features/'):\n",
    "    if file.name.endswith('csv'):\n",
    "        vector = pd.read_csv(file)\n",
    "        if (vector.shape[1] == 1044 or vector.shape[1] == 1047):\n",
    "            # Some files have issues\n",
    "            continue\n",
    "        elif (vector.shape[1] == 1046):\n",
    "            # Some files have an unnecessary column\n",
    "            vector.drop([vector.columns[0]], axis=1, inplace=True)\n",
    "        if i == 0:\n",
    "            vectors = vector.to_numpy()\n",
    "        else: \n",
    "            vectors = np.concatenate((vectors, vector.to_numpy()))\n",
    "        i+=1\n",
    "        print(i, end=\"\\r\")"
   ]
  },
  {
   "cell_type": "code",
   "execution_count": 6,
   "metadata": {},
   "outputs": [],
   "source": [
    "with open(\"./vectors.pickle\", \"wb\") as f:\n",
    "    pickle.dump(vectors, f)"
   ]
  },
  {
   "cell_type": "code",
   "execution_count": 33,
   "metadata": {},
   "outputs": [
    {
     "name": "stdout",
     "output_type": "stream",
     "text": [
      "[[0.1428571428571428 1 0 ... 0.0158199667930603 -0.2104856222867965\n",
      "  0.1239955797791481]\n",
      " [0.0833333333333333 1 0 ... 0.2286127358675003 0.324407696723938\n",
      "  0.3137013614177704]\n",
      " [0.0 0 0 ... -0.2346080988645553 -0.1007604598999023 -0.6514030694961548]\n",
      " ...\n",
      " [0.0 0 0 ... 0.1466432362794876 0.0629211440682411 -0.1241814717650413]\n",
      " [0.125 1 0 ... -0.1323692202568054 0.7320983409881592\n",
      "  -0.0597063340246677]\n",
      " [0.0 0 0 ... -0.0877691507339477 0.035791415721178 0.2522882223129272]]\n"
     ]
    }
   ],
   "source": [
    "with open(\"./vectors.pickle\", 'rb') as f:\n",
    "    vectors = pickle.load(f)\n",
    "\n",
    "\n",
    "labels = vectors[:, [2, -1]]\n",
    "removed_index = np.where(labels[:, 1] == 77)\n",
    "labels = np.delete(labels, removed_index, 0)\n",
    "vectors = np.delete(vectors[:, 3:-1], removed_index, 0)\n",
    "\n",
    "print(vectors)"
   ]
  },
  {
   "cell_type": "code",
   "execution_count": 34,
   "metadata": {},
   "outputs": [
    {
     "data": {
      "text/plain": [
       "{1: 396, 2: 1677, 3: 49, 4: 16, 5: 442, 6: 10, 7: 10551, 9: 4, 10: 43605}"
      ]
     },
     "execution_count": 34,
     "metadata": {},
     "output_type": "execute_result"
    }
   ],
   "source": [
    "unique, counts = np.unique(labels[:, 1], return_counts=True)\n",
    "dict(zip(unique, counts))"
   ]
  },
  {
   "cell_type": "code",
   "execution_count": 35,
   "metadata": {},
   "outputs": [
    {
     "name": "stdout",
     "output_type": "stream",
     "text": [
      "(56750, 1041)\n",
      "(56750, 2)\n"
     ]
    }
   ],
   "source": [
    "print(vectors.shape)\n",
    "print(labels.shape)"
   ]
  },
  {
   "cell_type": "code",
   "execution_count": 36,
   "metadata": {},
   "outputs": [],
   "source": [
    "# Split the data\n",
    "x_train, x_test, y_train, y_test = train_test_split(vectors, labels[:, 1], test_size=0.2, random_state=42,stratify=labels[:, 1])"
   ]
  },
  {
   "cell_type": "code",
   "execution_count": 37,
   "metadata": {},
   "outputs": [
    {
     "data": {
      "text/plain": [
       "(45400, 1041)"
      ]
     },
     "execution_count": 37,
     "metadata": {},
     "output_type": "execute_result"
    }
   ],
   "source": [
    "x_train.shape"
   ]
  },
  {
   "cell_type": "code",
   "execution_count": 38,
   "metadata": {},
   "outputs": [
    {
     "data": {
      "text/plain": [
       "(11350, 1041)"
      ]
     },
     "execution_count": 38,
     "metadata": {},
     "output_type": "execute_result"
    }
   ],
   "source": [
    "x_test.shape"
   ]
  },
  {
   "cell_type": "code",
   "execution_count": 39,
   "metadata": {},
   "outputs": [
    {
     "data": {
      "text/plain": [
       "array([10, 10, 10, ..., 10, 7, 10], dtype=object)"
      ]
     },
     "execution_count": 39,
     "metadata": {},
     "output_type": "execute_result"
    }
   ],
   "source": [
    "y_train"
   ]
  },
  {
   "cell_type": "code",
   "execution_count": 40,
   "metadata": {},
   "outputs": [
    {
     "name": "stdout",
     "output_type": "stream",
     "text": [
      "torch.Size([45400])\n",
      "torch.Size([45400, 1, 1041])\n"
     ]
    }
   ],
   "source": [
    "labels = torch.from_numpy(np.array(y_train, dtype=np.int64)).to(device)\n",
    "labels = labels -1\n",
    "print(labels.size())\n",
    "v = torch.from_numpy(np.array(x_train, dtype=np.float64)).view(-1, 1, 1041).float().to(device)\n",
    "print(v.size())"
   ]
  },
  {
   "cell_type": "code",
   "execution_count": 41,
   "metadata": {},
   "outputs": [],
   "source": [
    "# Normalize the vectors\n",
    "train_mean = v.mean(dim=0, keepdim=True)\n",
    "train_std = v.std(dim=0, keepdim=True)\n",
    "normalized_v = (v - train_mean)/train_std"
   ]
  },
  {
   "cell_type": "code",
   "execution_count": 42,
   "metadata": {},
   "outputs": [
    {
     "name": "stdout",
     "output_type": "stream",
     "text": [
      "torch.Size([45400, 1, 1041])\n"
     ]
    }
   ],
   "source": [
    "print(normalized_v.size())"
   ]
  },
  {
   "cell_type": "code",
   "execution_count": 43,
   "metadata": {},
   "outputs": [
    {
     "data": {
      "text/plain": [
       "tensor([[[ 0.0000,  0.0000,  0.0000,  ..., -0.2070,  0.4090, -0.3843]],\n",
       "\n",
       "        [[ 0.0000,  0.0000,  0.0000,  ..., -0.3165,  0.2743, -0.3129]],\n",
       "\n",
       "        [[ 0.0000,  0.0000,  0.0000,  ...,  0.2249, -0.2426,  0.0372]],\n",
       "\n",
       "        ...,\n",
       "\n",
       "        [[ 0.0000,  0.0000,  0.0000,  ...,  0.2406,  0.4763, -0.3737]],\n",
       "\n",
       "        [[ 0.1111,  1.0000,  0.0000,  ..., -0.3673,  0.2978,  0.4063]],\n",
       "\n",
       "        [[ 0.0000,  0.0000,  0.0000,  ...,  0.1202, -0.2013, -0.4923]]],\n",
       "       device='cuda:0')"
      ]
     },
     "execution_count": 43,
     "metadata": {},
     "output_type": "execute_result"
    }
   ],
   "source": [
    "v"
   ]
  },
  {
   "cell_type": "code",
   "execution_count": 44,
   "metadata": {},
   "outputs": [
    {
     "data": {
      "text/plain": [
       "tensor([[[-0.4821, -0.6600,  0.0000,  ..., -0.5969,  0.8625, -0.4642]],\n",
       "\n",
       "        [[-0.4821, -0.6600,  0.0000,  ..., -1.0098,  0.4134, -0.2578]],\n",
       "\n",
       "        [[-0.4821, -0.6600,  0.0000,  ...,  1.0317, -1.3095,  0.7541]],\n",
       "\n",
       "        ...,\n",
       "\n",
       "        [[-0.4821, -0.6600,  0.0000,  ...,  1.0907,  1.0867, -0.4334]],\n",
       "\n",
       "        [[ 0.4985,  1.5152,  0.0000,  ..., -1.2013,  0.4918,  1.8211]],\n",
       "\n",
       "        [[-0.4821, -0.6600,  0.0000,  ...,  0.6366, -1.1721, -0.7764]]],\n",
       "       device='cuda:0')"
      ]
     },
     "execution_count": 44,
     "metadata": {},
     "output_type": "execute_result"
    }
   ],
   "source": [
    "normalized_v[torch.isnan(normalized_v)] = 0\n",
    "normalized_v"
   ]
  },
  {
   "cell_type": "code",
   "execution_count": 45,
   "metadata": {},
   "outputs": [
    {
     "name": "stdout",
     "output_type": "stream",
     "text": [
      "tensor([[[ 0.0546,  0.3034,  0.0000,  ..., -0.0487,  0.1503, -0.2237]]],\n",
      "       device='cuda:0')\n",
      "tensor([[[0.1133, 0.4597, 0.0000,  ..., 0.2652, 0.3000, 0.3460]]],\n",
      "       device='cuda:0')\n"
     ]
    }
   ],
   "source": [
    "print(train_mean)\n",
    "print(train_std)"
   ]
  },
  {
   "cell_type": "code",
   "execution_count": 46,
   "metadata": {},
   "outputs": [],
   "source": [
    "class MyDataset(Dataset):\n",
    "    def __init__(self,dataset):\n",
    "        self.dataset = dataset\n",
    "    def __getitem__(self,index):\n",
    "        data,target = self.dataset[index]\n",
    "        return data,target,index\n",
    "    def __len__(self):\n",
    "        return len(self.dataset)"
   ]
  },
  {
   "cell_type": "code",
   "execution_count": 116,
   "metadata": {},
   "outputs": [
    {
     "name": "stdout",
     "output_type": "stream",
     "text": [
      "final labels tensor([[6.4777e-07, 1.5068e-08, 5.4472e-07,  ..., 6.2804e-07, 6.3980e-07,\n",
      "         1.0000e+00],\n",
      "        [1.7673e-05, 2.7919e-12, 1.8982e-05,  ..., 1.6445e-05, 1.8620e-05,\n",
      "         1.0000e+00],\n",
      "        [1.9987e-05, 1.0357e-10, 2.3014e-05,  ..., 1.9217e-05, 1.9897e-05,\n",
      "         1.0000e+00],\n",
      "        ...,\n",
      "        [4.6603e-06, 1.2228e-07, 4.6690e-06,  ..., 5.0323e-06, 3.4305e-06,\n",
      "         1.0000e+00],\n",
      "        [1.5162e-06, 4.4561e-10, 1.3282e-06,  ..., 1.2223e-06, 1.3487e-06,\n",
      "         1.0000e+00],\n",
      "        [2.4237e-06, 1.4853e-04, 2.2296e-06,  ..., 1.9699e-06, 2.2698e-06,\n",
      "         1.0000e+00]], device='cuda:0', grad_fn=<SigmoidBackward>)\n"
     ]
    }
   ],
   "source": [
    "# Training the model\n",
    "batch_loss = 0\n",
    "batch_size = 1041\n",
    "epochs = 600\n",
    "\n",
    "train = MyDataset(torch.utils.data.TensorDataset(normalized_v, labels))\n",
    "train_loader = torch.utils.data.DataLoader(train, batch_size = batch_size, shuffle=True)\n",
    "\n",
    "avg_loss = 0\n",
    "\n",
    "for epoch in range(epochs):\n",
    "    \n",
    "    running_loss = 0.0\n",
    "    model.train()\n",
    "    # Clear for the gradients.\n",
    "    model.zero_grad()\n",
    "    \n",
    "    for i, (x_batch, y_batch, index) in enumerate(train_loader):\n",
    "        label_scores = model(x_batch)\n",
    "        # Calculate loss, backpropagate, and update weights/parameters by calling opt.step()\n",
    "        loss = loss_function(label_scores, y_batch)\n",
    "        # TODO: check this line\n",
    "        #optimizer.zero_grad()\n",
    "        loss.backward()\n",
    "        optimizer.step()\n",
    "        \n",
    "        avg_loss += loss.item()/len(train_loader)\n",
    "            \n",
    "        print(\"Epoch: {0}/{3}. Loss: {2:.2f} Progress: {1}%\".format(epoch, int((epoch * 100)/300), avg_loss / (epoch+1), epochs) , end=\"\\r\")\n",
    "        \n",
    "print(\"Bi-LSTM model training is done!                           \", end='\\r')\n",
    "print(\"final labels {0}\".format(label_scores))"
   ]
  },
  {
   "cell_type": "code",
   "execution_count": 117,
   "metadata": {},
   "outputs": [
    {
     "data": {
      "text/plain": [
       "torch.Size([637, 10])"
      ]
     },
     "execution_count": 117,
     "metadata": {},
     "output_type": "execute_result"
    }
   ],
   "source": [
    "label_scores.size()"
   ]
  },
  {
   "cell_type": "code",
   "execution_count": 118,
   "metadata": {},
   "outputs": [],
   "source": [
    "torch.save(model, \"NLPModelV1\")"
   ]
  },
  {
   "cell_type": "markdown",
   "metadata": {},
   "source": [
    "sigmoid = nn.Sigmoid()\n",
    "testing = sigmoid(label_scores)"
   ]
  },
  {
   "cell_type": "code",
   "execution_count": 119,
   "metadata": {},
   "outputs": [],
   "source": [
    "def accuracy(labels, predicted):\n",
    "    total_accuracy = 0\n",
    "    n = len(predicted)\n",
    "    for y, p in zip(labels, predicted):\n",
    "        if (y == p):\n",
    "            total_accuracy +=1\n",
    "    return total_accuracy/n"
   ]
  },
  {
   "cell_type": "markdown",
   "metadata": {},
   "source": [
    "Model v1 = Feature vector all\n",
    "\n",
    "Model v2 = Feature vector only layout\n",
    "\n",
    "Model v3 = Feature vector all + sigmoid on training\n",
    "\n",
    "Model v4 = Feature vector layout + sigmoid on training"
   ]
  },
  {
   "cell_type": "code",
   "execution_count": 120,
   "metadata": {},
   "outputs": [
    {
     "data": {
      "text/plain": [
       "BiLSTM(\n",
       "  (lstm1): LSTM(1041, 256, num_layers=2, batch_first=True, bidirectional=True)\n",
       "  (fc): Linear(in_features=512, out_features=10, bias=True)\n",
       "  (Sigmoid): Sigmoid()\n",
       ")"
      ]
     },
     "execution_count": 120,
     "metadata": {},
     "output_type": "execute_result"
    }
   ],
   "source": [
    "model.eval()"
   ]
  },
  {
   "cell_type": "code",
   "execution_count": 121,
   "metadata": {},
   "outputs": [],
   "source": [
    "v_test = torch.from_numpy(np.array(x_test, dtype=np.float64)).view(-1, 1, 1041).float().to(device)\n",
    "\n",
    "words_labels = model(v_test) "
   ]
  },
  {
   "cell_type": "code",
   "execution_count": 122,
   "metadata": {},
   "outputs": [
    {
     "data": {
      "text/plain": [
       "tensor([[2.2887e-04, 9.9484e-01, 2.6273e-04,  ..., 2.3533e-04, 2.1054e-04,\n",
       "         9.9997e-01],\n",
       "        [4.5791e-07, 1.5035e-08, 4.2395e-07,  ..., 3.0541e-07, 3.2383e-07,\n",
       "         1.0000e+00],\n",
       "        [2.2787e-05, 4.3638e-02, 2.3692e-05,  ..., 2.1264e-05, 2.7139e-05,\n",
       "         9.9999e-01],\n",
       "        ...,\n",
       "        [6.1694e-06, 2.2972e-04, 7.6447e-06,  ..., 8.8941e-06, 8.1919e-06,\n",
       "         1.0000e+00],\n",
       "        [5.4621e-05, 8.4168e-01, 5.7148e-05,  ..., 6.0788e-05, 5.3247e-05,\n",
       "         9.9999e-01],\n",
       "        [2.6970e-05, 9.4834e-02, 2.0875e-05,  ..., 2.5168e-05, 2.5123e-05,\n",
       "         9.9999e-01]], device='cuda:0', grad_fn=<SigmoidBackward>)"
      ]
     },
     "execution_count": 122,
     "metadata": {},
     "output_type": "execute_result"
    }
   ],
   "source": [
    "words_labels"
   ]
  },
  {
   "cell_type": "code",
   "execution_count": 123,
   "metadata": {},
   "outputs": [
    {
     "data": {
      "text/plain": [
       "torch.Size([11350, 10])"
      ]
     },
     "execution_count": 123,
     "metadata": {},
     "output_type": "execute_result"
    }
   ],
   "source": [
    "words_labels.size()"
   ]
  },
  {
   "cell_type": "code",
   "execution_count": 136,
   "metadata": {},
   "outputs": [],
   "source": [
    "y = []\n",
    "\n",
    "for p in words_labels:\n",
    "    i = 0\n",
    "    m = 0\n",
    "    for index, e in enumerate(p):\n",
    "        if float(e) > m:\n",
    "            i = index\n",
    "            m = e\n",
    "    y.append(i+1)"
   ]
  },
  {
   "cell_type": "code",
   "execution_count": 137,
   "metadata": {},
   "outputs": [
    {
     "data": {
      "text/plain": [
       "{2, 10}"
      ]
     },
     "execution_count": 137,
     "metadata": {},
     "output_type": "execute_result"
    }
   ],
   "source": [
    "set(y)"
   ]
  },
  {
   "cell_type": "code",
   "execution_count": 134,
   "metadata": {},
   "outputs": [
    {
     "data": {
      "text/plain": [
       "array([10, 10, 10, ..., 10, 7, 10], dtype=object)"
      ]
     },
     "execution_count": 134,
     "metadata": {},
     "output_type": "execute_result"
    }
   ],
   "source": [
    "y_train"
   ]
  },
  {
   "cell_type": "markdown",
   "metadata": {},
   "source": [
    "y = []\n",
    "\n",
    "for p in words_labels:\n",
    "    i = 0\n",
    "    m = 0\n",
    "    for index, e in enumerate(p):\n",
    "        if float(e) > m:\n",
    "            i = index\n",
    "            m = e\n",
    "    y.append(i)"
   ]
  },
  {
   "cell_type": "code",
   "execution_count": 138,
   "metadata": {},
   "outputs": [
    {
     "data": {
      "text/plain": [
       "0.76784140969163"
      ]
     },
     "execution_count": 138,
     "metadata": {},
     "output_type": "execute_result"
    }
   ],
   "source": [
    "accuracy(y_test, y)"
   ]
  },
  {
   "cell_type": "code",
   "execution_count": 146,
   "metadata": {},
   "outputs": [],
   "source": [
    "def precision_of(labels, y, of):\n",
    "    n = 0\n",
    "    precision = 0\n",
    "    c = 0\n",
    "    for label, p in zip(labels, y):\n",
    "        if (label == p) and (p == of):\n",
    "            c += 1\n",
    "        if (p == of):\n",
    "            n+=1\n",
    "            \n",
    "    precision = 0 if n==0 else c / n\n",
    "    return precision"
   ]
  },
  {
   "cell_type": "code",
   "execution_count": 156,
   "metadata": {},
   "outputs": [],
   "source": [
    "p0 = precision_of(y_test, y, 0)\n",
    "p1 = precision_of(y_test, y, 1)\n",
    "p2 = precision_of(y_test, y, 2)\n",
    "p3 = precision_of(y_test, y, 3)\n",
    "p4 = precision_of(y_test, y, 4)\n",
    "p5 = precision_of(y_test, y, 5)\n",
    "p6 = precision_of(y_test, y, 6)\n",
    "p7 = precision_of(y_test, y, 7)\n",
    "p8 = precision_of(y_test, y, 8)\n",
    "p9 = precision_of(y_test, y, 9)\n",
    "p10 = precision_of(y_test, y, 10)\n",
    "\n",
    "precision = (p0+p1+p2+p3+p4+p5+p6+p8+p9+p7+p10) / 10"
   ]
  },
  {
   "cell_type": "code",
   "execution_count": 157,
   "metadata": {},
   "outputs": [
    {
     "name": "stdout",
     "output_type": "stream",
     "text": [
      "0.07684507539017724\n"
     ]
    }
   ],
   "source": [
    "print(precision)"
   ]
  },
  {
   "cell_type": "code",
   "execution_count": 154,
   "metadata": {},
   "outputs": [],
   "source": [
    "def recall_of(labels, y, of):\n",
    "    n = 0\n",
    "    recall = 0\n",
    "    c = 0\n",
    "    for label, p in zip(labels, y):\n",
    "        if (label == p) and (p == of):\n",
    "            c += 1\n",
    "        if (label == of):\n",
    "            n+=1\n",
    "            \n",
    "    recall = 0 if n==0 else c / n\n",
    "    return recall"
   ]
  },
  {
   "cell_type": "code",
   "execution_count": 158,
   "metadata": {},
   "outputs": [],
   "source": [
    "p0 = recall_of(y_test, y, 0)\n",
    "p1 = recall_of(y_test, y, 1)\n",
    "p2 = recall_of(y_test, y, 2)\n",
    "p3 = recall_of(y_test, y, 3)\n",
    "p4 = recall_of(y_test, y, 4)\n",
    "p5 = recall_of(y_test, y, 5)\n",
    "p6 = recall_of(y_test, y, 6)\n",
    "p7 = recall_of(y_test, y, 7)\n",
    "p8 = recall_of(y_test, y, 8)\n",
    "p9 = recall_of(y_test, y, 9)\n",
    "p10 = recall_of(y_test, y, 10)\n",
    "\n",
    "recall = (p0+p1+p2+p3+p4+p5+p6+p8+p9+p7+p10) / 10"
   ]
  },
  {
   "cell_type": "code",
   "execution_count": 159,
   "metadata": {},
   "outputs": [
    {
     "data": {
      "text/plain": [
       "0.09993120055039559"
      ]
     },
     "execution_count": 159,
     "metadata": {},
     "output_type": "execute_result"
    }
   ],
   "source": [
    "recall"
   ]
  }
 ],
 "metadata": {
  "kernelspec": {
   "display_name": "Python 3",
   "language": "python",
   "name": "python3"
  },
  "language_info": {
   "codemirror_mode": {
    "name": "ipython",
    "version": 3
   },
   "file_extension": ".py",
   "mimetype": "text/x-python",
   "name": "python",
   "nbconvert_exporter": "python",
   "pygments_lexer": "ipython3",
   "version": "3.7.4"
  }
 },
 "nbformat": 4,
 "nbformat_minor": 4
}
