{
 "cells": [
  {
   "cell_type": "code",
   "execution_count": 112,
   "source": [
    "import torch\n",
    "import torch.nn as nn\n",
    "import torch.nn.functional as F\n",
    "import torch.optim as optim\n",
    "from sklearn.model_selection import train_test_split\n",
    "from torch.nn.utils.rnn import pack_padded_sequence, pad_packed_sequence\n",
    "from torch.utils.data import Dataset, DataLoader\n",
    "\n",
    "import matplotlib.pyplot as plt\n",
    "import numpy as np\n",
    "import pandas as pd\n",
    "import pickle\n",
    "import random\n",
    "import os\n",
    "\n",
    "torch.manual_seed(10)\n",
    "#device = 'cuda' if torch.cuda.is_available() else 'cpu'\n",
    "\n",
    "device = 'cpu'"
   ],
   "outputs": [],
   "metadata": {}
  },
  {
   "cell_type": "code",
   "execution_count": null,
   "source": [],
   "outputs": [],
   "metadata": {}
  },
  {
   "cell_type": "code",
   "execution_count": 4,
   "source": [
    "# A common headache in this competition is the lack of determinism in the results due to cudnn, the following solves the issue\n",
    "def seed_everything(seed=10):\n",
    "    random.seed(seed)\n",
    "    os.environ['PYTHONHASHSEED'] = str(seed)\n",
    "    np.random.seed(seed)\n",
    "    torch.manual_seed(seed)\n",
    "    torch.cuda.manual_seed(seed)\n",
    "    torch.backends.cudnn.deterministic = True\n",
    "seed_everything()"
   ],
   "outputs": [],
   "metadata": {}
  },
  {
   "cell_type": "markdown",
   "source": [
    "# Here i have to get the ELMO vector in a form, in a format of numpy array.\n",
    "with open('document_vector.pickle', 'rb') as file:\n",
    "    vectors = pickle.load(file)\n",
    "    file.close()\n",
    "\n",
    "vectors = np.delete(vectors, 1, 1)\n",
    "vectors = np.delete(vectors, 0, 1)\n",
    "\n",
    "vectors = torch.from_numpy(np.array(vectors, dtype=np.float64)).view(521, 1, -1).float()\n",
    "vectors.size()"
   ],
   "metadata": {}
  },
  {
   "cell_type": "code",
   "execution_count": 6,
   "source": [
    "vectors = np.array([])\n",
    "labels = np.array([])"
   ],
   "outputs": [],
   "metadata": {}
  },
  {
   "cell_type": "code",
   "execution_count": null,
   "source": [
    "# Reading the features NOTE: Do not run this it is already saved under vectors.pickle\n",
    "i = 0\n",
    "vectors = np.array([])\n",
    "labels = np.array([])\n",
    "for file in os.scandir('../../feature_extraction/features/'):\n",
    "    if file.name.endswith('csv'):\n",
    "        try:\n",
    "            vector = pd.read_csv(file)\n",
    "            if (vector.shape[1] == 1044 or vector.shape[1] == 1047):\n",
    "                # Some files have issues\n",
    "                continue\n",
    "            elif (vector.shape[1] == 1046):\n",
    "                # Some files have an unnecessary column\n",
    "                vector.drop([vector.columns[0]], axis=1, inplace=True)\n",
    "            if i == 0:\n",
    "                vectors = vector.to_numpy()\n",
    "            else: \n",
    "                vectors = np.concatenate((vectors, vector.to_numpy()))\n",
    "            i+=1\n",
    "            print(i, end=\"\\r\")\n",
    "        except:\n",
    "            continue"
   ],
   "outputs": [
    {
     "output_type": "stream",
     "name": "stdout",
     "text": [
      "179\r"
     ]
    },
    {
     "output_type": "stream",
     "name": "stderr",
     "text": [
      "/usr/local/lib/python3.8/dist-packages/IPython/core/interactiveshell.py:3165: DtypeWarning: Columns (3) have mixed types.Specify dtype option on import or set low_memory=False.\n",
      "  has_raised = await self.run_ast_nodes(code_ast.body, cell_name,\n"
     ]
    },
    {
     "output_type": "stream",
     "name": "stdout",
     "text": [
      "3877\r"
     ]
    }
   ],
   "metadata": {}
  },
  {
   "cell_type": "code",
   "execution_count": 7,
   "source": [
    "with open(\"./vectors.pickle\", \"wb\") as f:\n",
    "    pickle.dump(vectors, f)"
   ],
   "outputs": [],
   "metadata": {}
  },
  {
   "cell_type": "code",
   "execution_count": 43,
   "source": [
    "with open(\"./model_inputs/batch1.pickle\", 'rb') as f:\n",
    "    vectors = pickle.load(f)\n",
    "\n",
    "t = np.array(vectors)\n",
    "print(t.shape)\n",
    "\n",
    "rm_indexes = np.isnan(t[:, -1].astype(np.float))\n",
    "\n",
    "vectors = np.delete(t, rm_indexes, 0)\n",
    "\n",
    "print(vectors[1])\n",
    "print(vectors.shape)\n",
    "\n",
    "\n",
    "labels_list = vectors[:, [2, -1]]\n",
    "vectors = vectors[:, 3:-1]\n",
    "\n",
    "labels = labels_list[:, -1].astype(np.float)\n",
    "\n",
    "print(labels_list.shape)\n",
    "print(labels.shape)"
   ],
   "outputs": [
    {
     "output_type": "stream",
     "name": "stdout",
     "text": [
      "(30361, 1045)\n",
      "[1 1 'Chrysinas,' ... 0.0602333582937717 0.1984460353851318 1.0]\n",
      "(23976, 1045)\n",
      "(23976, 2)\n",
      "(23976,)\n"
     ]
    }
   ],
   "metadata": {}
  },
  {
   "cell_type": "code",
   "execution_count": 44,
   "source": [
    "unique, counts = np.unique(labels, return_counts=True)\n",
    "dict(zip(unique, counts))"
   ],
   "outputs": [
    {
     "output_type": "execute_result",
     "data": {
      "text/plain": [
       "{1.0: 993,\n",
       " 2.0: 1210,\n",
       " 3.0: 255,\n",
       " 4.0: 32,\n",
       " 5.0: 297,\n",
       " 6.0: 77,\n",
       " 7.0: 10695,\n",
       " 8.0: 9,\n",
       " 9.0: 11,\n",
       " 10.0: 10397}"
      ]
     },
     "metadata": {},
     "execution_count": 44
    }
   ],
   "metadata": {}
  },
  {
   "cell_type": "code",
   "execution_count": 45,
   "source": [
    "print(vectors.shape)\n",
    "print(labels.shape)"
   ],
   "outputs": [
    {
     "output_type": "stream",
     "name": "stdout",
     "text": [
      "(23976, 1041)\n",
      "(23976,)\n"
     ]
    }
   ],
   "metadata": {}
  },
  {
   "cell_type": "code",
   "execution_count": 46,
   "source": [
    "# Split the data\n",
    "x_train, x_test, y_train, y_test = train_test_split(vectors, labels, test_size=0.2, random_state=42,stratify=labels)"
   ],
   "outputs": [],
   "metadata": {}
  },
  {
   "cell_type": "code",
   "execution_count": 47,
   "source": [
    "x_train.shape"
   ],
   "outputs": [
    {
     "output_type": "execute_result",
     "data": {
      "text/plain": [
       "(19180, 1041)"
      ]
     },
     "metadata": {},
     "execution_count": 47
    }
   ],
   "metadata": {}
  },
  {
   "cell_type": "code",
   "execution_count": 48,
   "source": [
    "x_test.shape"
   ],
   "outputs": [
    {
     "output_type": "execute_result",
     "data": {
      "text/plain": [
       "(4796, 1041)"
      ]
     },
     "metadata": {},
     "execution_count": 48
    }
   ],
   "metadata": {}
  },
  {
   "cell_type": "code",
   "execution_count": 49,
   "source": [
    "y_train.shape"
   ],
   "outputs": [
    {
     "output_type": "execute_result",
     "data": {
      "text/plain": [
       "(19180,)"
      ]
     },
     "metadata": {},
     "execution_count": 49
    }
   ],
   "metadata": {}
  },
  {
   "cell_type": "code",
   "execution_count": 104,
   "source": [
    "labels = torch.from_numpy(np.array(y_train, dtype=np.int64)).to(device)\n",
    "labels = labels -1\n",
    "print(labels.size())\n",
    "v = torch.from_numpy(np.array(x_train, dtype=np.float64)).view(-1, 1, 1041).float().to(device)\n",
    "print(v.size())\n",
    "\n",
    "v2 = torch.from_numpy(np.array(x_test, dtype=np.float64)).view(-1, 1, 1041).float().to(device)\n",
    "l2 = torch.from_numpy(np.array(y_test, dtype=np.int64)).to(device)\n",
    "l2 = l2 -1\n",
    "print(v2.size())\n",
    "print(l2.size())"
   ],
   "outputs": [
    {
     "output_type": "stream",
     "name": "stdout",
     "text": [
      "torch.Size([19180])\n",
      "torch.Size([19180, 1, 1041])\n",
      "torch.Size([4796, 1, 1041])\n",
      "torch.Size([4796])\n"
     ]
    }
   ],
   "metadata": {}
  },
  {
   "cell_type": "code",
   "execution_count": 105,
   "source": [
    "# Normalize the vectors\n",
    "train_mean = v.mean(dim=0, keepdim=True)\n",
    "train_std = v.std(dim=0, keepdim=True)\n",
    "normalized_v = (v - train_mean)/train_std\n",
    "\n",
    "test_mean = v2.mean(dim=0, keepdim=True)\n",
    "test_std = v2.std(dim=0, keepdim=True)\n",
    "normalized_v2 = (v2 - test_mean)/test_std"
   ],
   "outputs": [],
   "metadata": {}
  },
  {
   "cell_type": "code",
   "execution_count": 107,
   "source": [
    "print(normalized_v.size())\n",
    "print(normalized_v2.size())"
   ],
   "outputs": [
    {
     "output_type": "stream",
     "name": "stdout",
     "text": [
      "torch.Size([19180, 1, 1041])\n",
      "torch.Size([4796, 1, 1041])\n"
     ]
    }
   ],
   "metadata": {}
  },
  {
   "cell_type": "code",
   "execution_count": 108,
   "source": [
    "v.size()"
   ],
   "outputs": [
    {
     "output_type": "execute_result",
     "data": {
      "text/plain": [
       "torch.Size([19180, 1, 1041])"
      ]
     },
     "metadata": {},
     "execution_count": 108
    }
   ],
   "metadata": {}
  },
  {
   "cell_type": "code",
   "execution_count": 109,
   "source": [
    "normalized_v[torch.isnan(normalized_v)] = 0\n",
    "print(normalized_v.size())\n",
    "normalized_v2[torch.isnan(normalized_v2)] = 0\n",
    "print(normalized_v2.size())"
   ],
   "outputs": [
    {
     "output_type": "stream",
     "name": "stdout",
     "text": [
      "torch.Size([19180, 1, 1041])\n",
      "torch.Size([4796, 1, 1041])\n"
     ]
    }
   ],
   "metadata": {}
  },
  {
   "cell_type": "code",
   "execution_count": 110,
   "source": [
    "print(train_mean)\n",
    "print(train_std)"
   ],
   "outputs": [
    {
     "output_type": "stream",
     "name": "stdout",
     "text": [
      "tensor([[[ 0.0535,  0.2796,  0.0000,  ..., -0.0324,  0.1566, -0.1341]]])\n",
      "tensor([[[0.1270, 0.4488, 0.0000,  ..., 0.2853, 0.3057, 0.3370]]])\n"
     ]
    }
   ],
   "metadata": {}
  },
  {
   "cell_type": "code",
   "execution_count": 115,
   "source": [
    "class MyDataset(Dataset):\n",
    "    def __init__(self,dataset):\n",
    "        self.dataset = dataset\n",
    "    def __getitem__(self,index):\n",
    "        data,target = self.dataset[index]\n",
    "        return data,target,index\n",
    "    def __len__(self):\n",
    "        return len(self.dataset)"
   ],
   "outputs": [],
   "metadata": {}
  },
  {
   "cell_type": "code",
   "execution_count": 128,
   "source": [
    "train = MyDataset(torch.utils.data.TensorDataset(normalized_v, labels))\n",
    "train_loader = torch.utils.data.DataLoader(train, batch_size = 128, shuffle=True)\n",
    "print(train_loader)\n",
    "\n",
    "validation = MyDataset(torch.utils.data.TensorDataset(normalized_v2, l2))\n",
    "validation_loader = torch.utils.data.DataLoader(validation, batch_size = 128, shuffle=True)\n",
    "print(train_loader)\n",
    "for x, y, i in validation_loader:\n",
    "    print(x)\n",
    "    print(y)\n",
    "    print(i)\n",
    "    break"
   ],
   "outputs": [
    {
     "output_type": "stream",
     "name": "stdout",
     "text": [
      "<torch.utils.data.dataloader.DataLoader object at 0x7ff3e3ebda30>\n",
      "<torch.utils.data.dataloader.DataLoader object at 0x7ff3e3ebda30>\n",
      "tensor([[[-0.4326, -0.6365,  0.0000,  ...,  1.5858, -2.4075,  0.6017]],\n",
      "\n",
      "        [[-0.4326, -0.6365,  0.0000,  ...,  1.4890, -1.6941,  0.3707]],\n",
      "\n",
      "        [[-0.4326, -0.6365,  0.0000,  ..., -0.0131, -0.6066,  1.7695]],\n",
      "\n",
      "        ...,\n",
      "\n",
      "        [[ 0.4697,  1.5708,  0.0000,  ...,  0.0290,  0.2364,  0.7139]],\n",
      "\n",
      "        [[-0.4326, -0.6365,  0.0000,  ..., -0.2750, -0.6404,  2.0389]],\n",
      "\n",
      "        [[ 0.9209,  1.5708,  0.0000,  ...,  0.3798,  0.0090, -0.1510]]])\n",
      "tensor([6, 9, 9, 9, 6, 6, 9, 9, 9, 9, 9, 9, 6, 6, 6, 0, 6, 6, 9, 9, 1, 0, 6, 9,\n",
      "        6, 6, 6, 6, 9, 6, 9, 6, 6, 6, 6, 1, 9, 9, 9, 6, 0, 9, 9, 6, 6, 9, 6, 9,\n",
      "        9, 0, 6, 9, 6, 9, 9, 6, 9, 9, 6, 6, 1, 9, 9, 6, 1, 9, 6, 6, 2, 6, 6, 9,\n",
      "        6, 6, 0, 6, 9, 0, 9, 6, 9, 9, 9, 1, 9, 9, 9, 6, 6, 9, 6, 9, 6, 9, 9, 6,\n",
      "        9, 6, 5, 6, 9, 9, 6, 6, 6, 6, 9, 9, 9, 9, 1, 1, 9, 9, 9, 6, 9, 1, 9, 6,\n",
      "        6, 6, 6, 9, 6, 0, 6, 1])\n",
      "tensor([ 800,  893, 4777, 3938, 4725, 4427, 3449, 1856, 4178, 1724,   50,   57,\n",
      "        4606, 1128, 2136, 1101, 3279,  536, 3992, 4388, 1490, 1416,  623, 2876,\n",
      "        3464, 1234, 3220, 4395, 2252,  323, 4556, 4651, 2779, 2359,  463, 4333,\n",
      "        2704, 3287, 3506,   85, 2587, 3190, 3353, 3710,  199, 4017, 4710, 4220,\n",
      "        4788,   66,  253, 1439,   49, 2211, 3027, 1682, 3281, 1748,  328,  941,\n",
      "        2843, 4114, 1679, 3738, 2502, 2055, 2385, 2467, 3625, 4542, 3680,  131,\n",
      "        1223, 1524,  926, 1240,  305, 2464, 1595, 1976, 1489, 1380, 3164, 1452,\n",
      "        4335, 3407, 1274,  519, 1571, 1040,  864, 3746, 1453, 1197,  870, 3010,\n",
      "          72, 2541,  824, 2666, 3692,  309,   45, 2167, 2758, 4125, 4579, 4147,\n",
      "        1825, 3206, 3066,  414, 2409, 2584, 2089, 1053, 2302, 2460, 1906, 3697,\n",
      "          56,  747, 4298, 1413, 4574,  506, 1359, 2735])\n"
     ]
    }
   ],
   "metadata": {}
  },
  {
   "cell_type": "code",
   "execution_count": 75,
   "source": [
    "class BiLSTM(nn.Module): \n",
    "    # This NLP part Will consist of two bidirectional lstm layers and it's output is \n",
    "    # determined by the LSTM's last hidden states or output vectors.\n",
    "\n",
    "    # This will take as an input a sequence of words and output the last hidden layer\n",
    "    # the last hidden states of 2-layer bidirectional LSTM will be the input of the last multimodel network \n",
    "\n",
    "    def __init__(self, input_size, hidden_dim = 256, layer_dim =2, output_dim = 10):\n",
    "        super(BiLSTM, self).__init__()\n",
    "        \n",
    "        \n",
    "        #self.device = 'cuda' if torch.cuda.is_available() else 'cpu'\n",
    "        self.device = 'cpu'\n",
    "        self.input_size = input_size\n",
    "        \n",
    "        #Hidden dimensions\n",
    "        self.hidden_dim = hidden_dim # maybe set this to 256\n",
    "\n",
    "        # Number of hidden layers\n",
    "        self.layer_dim = layer_dim\n",
    "\n",
    "        # Building the LSTM \n",
    "        # batch_first = True causes the input/output to be of shape 3D (batch_dim, seq_dim, feature_dim) \n",
    "        # output will be the same dim as the hidden dim\n",
    "        self.lstm1 = nn.LSTM(input_size, hidden_dim, layer_dim, batch_first=True, bidirectional=True)\n",
    "        \n",
    "        self.dropout = nn.Dropout2d(p=0.2)\n",
    "        \n",
    "        self.fc = nn.Linear(hidden_dim * 2, output_dim)\n",
    "        \n",
    "\n",
    "    def forward(self, x):\n",
    "        \n",
    "        # Initialize hidden state with zeros\n",
    "        # self.layer_dim * 2. because we have one going forwards and another going backwards\n",
    "        h0 = torch.randn(self.layer_dim * 2, x.size(0), self.hidden_dim, device=self.device)\n",
    "        \n",
    "        \n",
    "        \n",
    "        # Initialize cell state\n",
    "        c0 =  torch.randn(self.layer_dim * 2, x.size(0), self.hidden_dim, device=self.device)\n",
    "        \n",
    "        # We suppose we are conducting a 28 time steps In case of using \n",
    "        # We need to detach as we are doing truncated backpropagation through time (BPTT)\n",
    "        # If we don't, we'll backprop all the way to the start even after going through another batch\n",
    "        out, (hn, cn) = self.lstm1(x, (h0.detach(), c0.detach()))\n",
    "\n",
    "        #out = self.fc(out.view(out.size(0), -1))\n",
    "          \n",
    "        # Without the activation function, out will contain the last hidden layer.\n",
    "        # This could be obtianed from hn[-1] as well.\n",
    "        out = out[:, -1, :]\n",
    "        out = self.dropout(self.fc(out))\n",
    "        return out\n",
    "        \n",
    "        # Index hidden state of last time step\n",
    "        # out.size() --> 256, 100, 256 if we have (input dim = 100 and hidden dim = 100)\n",
    "        # out[:, -1, :] => 256, 256 --> because we just want the last time step hidden states\n",
    "        #out = out[:, -1, :] # without an activation function\n",
    "\n",
    "        # now our: out.size() --> 256, 10 (if output dimension is equal to 10)\n",
    "        #return out"
   ],
   "outputs": [],
   "metadata": {}
  },
  {
   "cell_type": "code",
   "execution_count": 134,
   "source": [
    "# Training the model\n",
    "batch_loss = 0\n",
    "batch_size = 128\n",
    "epochs = 300\n",
    "\n",
    "# 1041 embedding size\n",
    "model = BiLSTM(1041)\n",
    "model.to(device)\n",
    "#model = BiLSTM(17)\n",
    "\n",
    "\n",
    "# Class weights (1, 2, 3, 4, 5, 6, 7, 8, 9, 10)\n",
    "weights = torch.tensor([0.69,2.95,0.08,0.02,0.77,0.017,18.59,0 ,0.007,76.83], dtype=torch.float32)\n",
    "weights = weights / weights.sum()\n",
    "weights = 1.0 / weights\n",
    "weights = weights / weights.sum()\n",
    "\n",
    "\n",
    "#loss_function = nn.NLLLoss()\n",
    "#criterion = nn.CrossEntropyLoss(weight=weights.to(device))\n",
    "criterion = nn.CrossEntropyLoss()\n",
    "\n",
    "#loss_function = nn.BCEWithLogitsLoss(reduction='sum')\n",
    "optimizer = optim.Adam(model.parameters(), lr = 0.0003)\n",
    "\n",
    "train = MyDataset(torch.utils.data.TensorDataset(normalized_v, labels))\n",
    "train_loader = torch.utils.data.DataLoader(train, batch_size = batch_size, shuffle=True)\n",
    "\n",
    "losses = list()\n",
    "validation_losses = list()\n",
    "print_every = 100\n",
    "min_loss = np.Inf\n",
    "\n",
    "for epoch in range(epochs):\n",
    "    \n",
    "    running_loss = 0.0\n",
    "    model.train()\n",
    "    \n",
    "    for i, (x_batch, y_batch, index) in enumerate(train_loader):\n",
    "        # clear gradients\n",
    "        optimizer.zero_grad()\n",
    "        # feed forward\n",
    "        label_scores = model(x_batch)\n",
    "        \n",
    "        # calculate loss\n",
    "        loss = criterion(label_scores, y_batch)\n",
    "        \n",
    "        # backpropagate and update weights\n",
    "        loss.backward()\n",
    "        optimizer.step()\n",
    "        \n",
    "        # calculate loss\n",
    "        running_loss += loss.item()*x_batch.size(0)\n",
    "    \n",
    "    train_loss = running_loss/len(train_loader.sampler)\n",
    "    losses.append(train_loss)\n",
    "    \n",
    "    with torch.no_grad():\n",
    "        val_loss = 0\n",
    "        accuracy = 0\n",
    "        model.eval()\n",
    "        for x, y, i in validation_loader:\n",
    "            out = model(x)\n",
    "            loss = criterion(out, y)\n",
    "            val_loss += loss.item()*x.size(0)\n",
    "            \n",
    "            scores, classes = F.softmax(out, dim=1).topk(1, dim=1)\n",
    "            equals = classes == y.view(*classes.shape)\n",
    "            \n",
    "            accuracy += torch.mean(equals.type(torch.FloatTensor))\n",
    "            \n",
    "        val_loss = val_loss/len(validation_loader.sampler)\n",
    "        accuracy = accuracy/len(validation_loader)\n",
    "            \n",
    "    validation_losses.append(val_loss)\n",
    "    print(\"Epoch: {0} | Training loss: {1} | Validation loss: {2} | Accuracy: \\t{3:.2f}\".format(epoch, train_loss, val_loss, accuracy))\n",
    "    \n",
    "    if (val_loss < min_loss):\n",
    "        torch.save(model.state_dict(), \"model_fixed_v1.pt\")\n",
    "        print(\"Loss decreased: {0} ==> {1}\".format(min_loss, val_loss))\n",
    "        min_loss = val_loss\n",
    "        \n",
    "print(\"Bi-LSTM model training is done!                           \", end='\\r')\n",
    "print(\"final labels {0}\".format(label_scores))"
   ],
   "outputs": [
    {
     "output_type": "stream",
     "name": "stdout",
     "text": [
      "Epoch: 0 | Training loss: 1.3924040461978773 | Validation loss: 0.7267836484439777 | Accuracy: \t0.73\n",
      "Loss decreased: inf ==> 0.7267836484439777\n",
      "Epoch: 1 | Training loss: 0.852650199928423 | Validation loss: 0.551864980458219 | Accuracy: \t0.80\n",
      "Loss decreased: 0.7267836484439777 ==> 0.551864980458219\n",
      "Epoch: 2 | Training loss: 0.7084449698455142 | Validation loss: 0.4589355192003497 | Accuracy: \t0.83\n",
      "Loss decreased: 0.551864980458219 ==> 0.4589355192003497\n",
      "Epoch: 3 | Training loss: 0.6269594432290826 | Validation loss: 0.4121852202451259 | Accuracy: \t0.85\n",
      "Loss decreased: 0.4589355192003497 ==> 0.4121852202451259\n",
      "Epoch: 4 | Training loss: 0.5784308826339133 | Validation loss: 0.3862876021384795 | Accuracy: \t0.87\n",
      "Loss decreased: 0.4121852202451259 ==> 0.3862876021384795\n",
      "Epoch: 5 | Training loss: 0.5449871791664577 | Validation loss: 0.3746173700210549 | Accuracy: \t0.86\n",
      "Loss decreased: 0.3862876021384795 ==> 0.3746173700210549\n",
      "Epoch: 6 | Training loss: 0.5152480081422983 | Validation loss: 0.3644063741938088 | Accuracy: \t0.87\n",
      "Loss decreased: 0.3746173700210549 ==> 0.3644063741938088\n",
      "Epoch: 7 | Training loss: 0.49958812304781175 | Validation loss: 0.35435467242598034 | Accuracy: \t0.87\n",
      "Loss decreased: 0.3644063741938088 ==> 0.35435467242598034\n",
      "Epoch: 8 | Training loss: 0.47991913553944965 | Validation loss: 0.35098805794922683 | Accuracy: \t0.88\n",
      "Loss decreased: 0.35435467242598034 ==> 0.35098805794922683\n",
      "Epoch: 9 | Training loss: 0.4712261355519916 | Validation loss: 0.3525005568306679 | Accuracy: \t0.87\n",
      "Epoch: 10 | Training loss: 0.4603622793281165 | Validation loss: 0.3414606325471272 | Accuracy: \t0.88\n",
      "Loss decreased: 0.35098805794922683 ==> 0.3414606325471272\n",
      "Epoch: 11 | Training loss: 0.44561561176376624 | Validation loss: 0.3386165218317479 | Accuracy: \t0.88\n",
      "Loss decreased: 0.3414606325471272 ==> 0.3386165218317479\n",
      "Epoch: 12 | Training loss: 0.44229513736163983 | Validation loss: 0.33258346446461234 | Accuracy: \t0.88\n",
      "Loss decreased: 0.3386165218317479 ==> 0.33258346446461234\n",
      "Epoch: 13 | Training loss: 0.42764592311802446 | Validation loss: 0.3458082379153413 | Accuracy: \t0.88\n",
      "Epoch: 14 | Training loss: 0.4248547400001192 | Validation loss: 0.34303329625260937 | Accuracy: \t0.88\n",
      "Epoch: 15 | Training loss: 0.4245014423995868 | Validation loss: 0.33677022329363054 | Accuracy: \t0.88\n",
      "Epoch: 16 | Training loss: 0.41271979755977395 | Validation loss: 0.3415959744377868 | Accuracy: \t0.89\n",
      "Epoch: 17 | Training loss: 0.41639509577074935 | Validation loss: 0.34213043171430846 | Accuracy: \t0.88\n",
      "Epoch: 18 | Training loss: 0.40166305152542026 | Validation loss: 0.34612141496146887 | Accuracy: \t0.88\n",
      "Epoch: 19 | Training loss: 0.39589659621369977 | Validation loss: 0.3515327818151113 | Accuracy: \t0.88\n",
      "Epoch: 20 | Training loss: 0.39368520380309524 | Validation loss: 0.3491875775114907 | Accuracy: \t0.88\n",
      "Epoch: 21 | Training loss: 0.3984800129911325 | Validation loss: 0.3613025112585588 | Accuracy: \t0.88\n",
      "Epoch: 22 | Training loss: 0.3914273087249931 | Validation loss: 0.3551180961979141 | Accuracy: \t0.88\n",
      "Epoch: 23 | Training loss: 0.3899134862099748 | Validation loss: 0.356721426841117 | Accuracy: \t0.88\n",
      "Epoch: 24 | Training loss: 0.3816764408343776 | Validation loss: 0.35067538464685793 | Accuracy: \t0.89\n",
      "Epoch: 25 | Training loss: 0.38177205887278376 | Validation loss: 0.3564422420902586 | Accuracy: \t0.89\n",
      "Epoch: 26 | Training loss: 0.3798425329987026 | Validation loss: 0.35685938348165647 | Accuracy: \t0.89\n",
      "Epoch: 27 | Training loss: 0.3785996877115387 | Validation loss: 0.3546971436388001 | Accuracy: \t0.88\n",
      "Epoch: 28 | Training loss: 0.3775405577126584 | Validation loss: 0.36540768057530476 | Accuracy: \t0.89\n",
      "Epoch: 29 | Training loss: 0.36983575142834557 | Validation loss: 0.35612320077230375 | Accuracy: \t0.89\n",
      "Epoch: 30 | Training loss: 0.37104568981154745 | Validation loss: 0.3590674590726412 | Accuracy: \t0.88\n",
      "Epoch: 31 | Training loss: 0.36908937800788283 | Validation loss: 0.35126074353191034 | Accuracy: \t0.89\n",
      "Epoch: 32 | Training loss: 0.36227081427981883 | Validation loss: 0.3770962594150006 | Accuracy: \t0.89\n",
      "Epoch: 33 | Training loss: 0.36659191411777137 | Validation loss: 0.37398644362120353 | Accuracy: \t0.89\n",
      "Epoch: 34 | Training loss: 0.3690097018998656 | Validation loss: 0.3694188810319479 | Accuracy: \t0.89\n",
      "Epoch: 35 | Training loss: 0.3669362785483053 | Validation loss: 0.38929614854713995 | Accuracy: \t0.89\n",
      "Epoch: 36 | Training loss: 0.3703187108412773 | Validation loss: 0.38506812309602384 | Accuracy: \t0.88\n",
      "Epoch: 37 | Training loss: 0.36430971119649963 | Validation loss: 0.3704358735762605 | Accuracy: \t0.89\n",
      "Epoch: 38 | Training loss: 0.3611570939779033 | Validation loss: 0.37230397151896516 | Accuracy: \t0.89\n",
      "Epoch: 39 | Training loss: 0.36242296742323915 | Validation loss: 0.3701923821149417 | Accuracy: \t0.89\n",
      "Epoch: 40 | Training loss: 0.3579264285013748 | Validation loss: 0.3837622399251594 | Accuracy: \t0.89\n",
      "Epoch: 41 | Training loss: 0.3523448008131061 | Validation loss: 0.3766756835482934 | Accuracy: \t0.89\n",
      "Epoch: 42 | Training loss: 0.3554223373361375 | Validation loss: 0.37944272237583637 | Accuracy: \t0.89\n",
      "Epoch: 43 | Training loss: 0.3442313872114585 | Validation loss: 0.3954161365296664 | Accuracy: \t0.89\n",
      "Epoch: 44 | Training loss: 0.35605609604041943 | Validation loss: 0.39686546793473176 | Accuracy: \t0.89\n",
      "Epoch: 45 | Training loss: 0.3522954358609551 | Validation loss: 0.3939850639809759 | Accuracy: \t0.89\n",
      "Epoch: 46 | Training loss: 0.3569838478928189 | Validation loss: 0.39368059234483926 | Accuracy: \t0.89\n",
      "Epoch: 47 | Training loss: 0.34778990229053713 | Validation loss: 0.39024820434142393 | Accuracy: \t0.89\n",
      "Epoch: 48 | Training loss: 0.3498513282650579 | Validation loss: 0.407131398290868 | Accuracy: \t0.89\n",
      "Epoch: 49 | Training loss: 0.34873877020399313 | Validation loss: 0.39098817167230404 | Accuracy: \t0.89\n",
      "Epoch: 50 | Training loss: 0.34587279532077536 | Validation loss: 0.41069894141709434 | Accuracy: \t0.89\n",
      "Epoch: 51 | Training loss: 0.34147714094896886 | Validation loss: 0.4001822766659158 | Accuracy: \t0.89\n",
      "Epoch: 52 | Training loss: 0.3427678273728543 | Validation loss: 0.39664879366693345 | Accuracy: \t0.89\n",
      "Epoch: 53 | Training loss: 0.3467283589685796 | Validation loss: 0.4033995660719422 | Accuracy: \t0.89\n",
      "Epoch: 54 | Training loss: 0.3478820528924403 | Validation loss: 0.41460657078738605 | Accuracy: \t0.89\n",
      "Epoch: 55 | Training loss: 0.333896417706055 | Validation loss: 0.4128392889561307 | Accuracy: \t0.89\n",
      "Epoch: 56 | Training loss: 0.3415240914655055 | Validation loss: 0.4157584713984769 | Accuracy: \t0.89\n",
      "Epoch: 57 | Training loss: 0.34309978499402594 | Validation loss: 0.40300761432922116 | Accuracy: \t0.89\n",
      "Epoch: 58 | Training loss: 0.34332578832339944 | Validation loss: 0.40748547340702074 | Accuracy: \t0.89\n",
      "Epoch: 59 | Training loss: 0.33893064205788226 | Validation loss: 0.4156673888150009 | Accuracy: \t0.89\n",
      "Epoch: 60 | Training loss: 0.340877627493567 | Validation loss: 0.42669806934526505 | Accuracy: \t0.89\n",
      "Epoch: 61 | Training loss: 0.3341682746897649 | Validation loss: 0.41868055522988695 | Accuracy: \t0.89\n",
      "Epoch: 62 | Training loss: 0.33813741457599045 | Validation loss: 0.4104038276356195 | Accuracy: \t0.89\n",
      "Epoch: 63 | Training loss: 0.334370690546891 | Validation loss: 0.42857056378920544 | Accuracy: \t0.89\n",
      "Epoch: 64 | Training loss: 0.3345704349971787 | Validation loss: 0.4205166627905387 | Accuracy: \t0.89\n",
      "Epoch: 65 | Training loss: 0.33833967497624745 | Validation loss: 0.44594044967230606 | Accuracy: \t0.89\n",
      "Epoch: 66 | Training loss: 0.33688643138401203 | Validation loss: 0.40989705142227184 | Accuracy: \t0.89\n",
      "Epoch: 67 | Training loss: 0.32911125250603535 | Validation loss: 0.42584985579123985 | Accuracy: \t0.89\n",
      "Epoch: 68 | Training loss: 0.32739181481884466 | Validation loss: 0.4203269543301771 | Accuracy: \t0.89\n",
      "Epoch: 69 | Training loss: 0.33061591522288397 | Validation loss: 0.4097550172821694 | Accuracy: \t0.90\n",
      "Epoch: 70 | Training loss: 0.32971329361480023 | Validation loss: 0.4326253822189853 | Accuracy: \t0.89\n",
      "Epoch: 71 | Training loss: 0.3228309293733026 | Validation loss: 0.4264844972158691 | Accuracy: \t0.89\n",
      "Epoch: 72 | Training loss: 0.3286754970940857 | Validation loss: 0.43159233939657615 | Accuracy: \t0.89\n",
      "Epoch: 73 | Training loss: 0.3244232508885102 | Validation loss: 0.42822233312223434 | Accuracy: \t0.89\n"
     ]
    },
    {
     "output_type": "stream",
     "name": "stdout",
     "text": [
      "Epoch: 74 | Training loss: 0.3261596673782973 | Validation loss: 0.423675883204068 | Accuracy: \t0.89\n",
      "Epoch: 75 | Training loss: 0.32654647813474796 | Validation loss: 0.42604000107062867 | Accuracy: \t0.90\n",
      "Epoch: 76 | Training loss: 0.3237015668990341 | Validation loss: 0.42945584431104206 | Accuracy: \t0.89\n",
      "Epoch: 77 | Training loss: 0.32100739685412616 | Validation loss: 0.43971555023217224 | Accuracy: \t0.89\n",
      "Epoch: 78 | Training loss: 0.32425144742067213 | Validation loss: 0.447355089956169 | Accuracy: \t0.89\n",
      "Epoch: 79 | Training loss: 0.32963172064956214 | Validation loss: 0.45652972411572484 | Accuracy: \t0.89\n",
      "Epoch: 80 | Training loss: 0.3232514643258919 | Validation loss: 0.4282747718371184 | Accuracy: \t0.89\n",
      "Epoch: 81 | Training loss: 0.3272208320647012 | Validation loss: 0.4181611699000113 | Accuracy: \t0.90\n",
      "Epoch: 82 | Training loss: 0.3244254025291725 | Validation loss: 0.4530197417268761 | Accuracy: \t0.89\n",
      "Epoch: 83 | Training loss: 0.32865271703791693 | Validation loss: 0.4446643666862149 | Accuracy: \t0.89\n",
      "Epoch: 84 | Training loss: 0.32097755671790545 | Validation loss: 0.4266599501367407 | Accuracy: \t0.90\n",
      "Epoch: 85 | Training loss: 0.3155868577385347 | Validation loss: 0.46127048845684854 | Accuracy: \t0.89\n",
      "Epoch: 86 | Training loss: 0.31688701222972154 | Validation loss: 0.4347286770948278 | Accuracy: \t0.89\n",
      "Epoch: 87 | Training loss: 0.3202178821200748 | Validation loss: 0.4702453873771941 | Accuracy: \t0.89\n",
      "Epoch: 88 | Training loss: 0.3211939007012762 | Validation loss: 0.43940027411079485 | Accuracy: \t0.89\n",
      "Epoch: 89 | Training loss: 0.3178802519321939 | Validation loss: 0.45621506291891356 | Accuracy: \t0.89\n",
      "Epoch: 90 | Training loss: 0.31693621373524633 | Validation loss: 0.46530404456388563 | Accuracy: \t0.89\n",
      "Epoch: 91 | Training loss: 0.318897635316451 | Validation loss: 0.45676714358377496 | Accuracy: \t0.89\n",
      "Epoch: 92 | Training loss: 0.3102827116955806 | Validation loss: 0.4722267122841359 | Accuracy: \t0.89\n",
      "Epoch: 93 | Training loss: 0.3123566531445112 | Validation loss: 0.4400131201326499 | Accuracy: \t0.90\n",
      "Epoch: 94 | Training loss: 0.32094460258394386 | Validation loss: 0.42328048050652156 | Accuracy: \t0.90\n",
      "Epoch: 95 | Training loss: 0.3162161423901447 | Validation loss: 0.4573240921932822 | Accuracy: \t0.89\n",
      "Epoch: 96 | Training loss: 0.3171316183147888 | Validation loss: 0.4478907608757226 | Accuracy: \t0.89\n",
      "Epoch: 97 | Training loss: 0.317282697312899 | Validation loss: 0.44976181129896214 | Accuracy: \t0.90\n",
      "Epoch: 98 | Training loss: 0.313622029121029 | Validation loss: 0.45752475923354474 | Accuracy: \t0.89\n",
      "Epoch: 99 | Training loss: 0.3090605141969866 | Validation loss: 0.4599907184710992 | Accuracy: \t0.90\n",
      "Epoch: 100 | Training loss: 0.3117331085413912 | Validation loss: 0.4776843580432093 | Accuracy: \t0.90\n",
      "Epoch: 101 | Training loss: 0.30999622200775945 | Validation loss: 0.47321389313535556 | Accuracy: \t0.89\n",
      "Epoch: 102 | Training loss: 0.3118132702501275 | Validation loss: 0.4540456517027059 | Accuracy: \t0.90\n",
      "Epoch: 103 | Training loss: 0.31458847190839034 | Validation loss: 0.47407445338887905 | Accuracy: \t0.89\n",
      "Epoch: 104 | Training loss: 0.31298179733367854 | Validation loss: 0.4659325029076488 | Accuracy: \t0.89\n",
      "Epoch: 105 | Training loss: 0.30657108338458444 | Validation loss: 0.4895334176352563 | Accuracy: \t0.89\n",
      "Epoch: 106 | Training loss: 0.30671275905697637 | Validation loss: 0.4546196619180762 | Accuracy: \t0.90\n",
      "Epoch: 107 | Training loss: 0.3104852425231675 | Validation loss: 0.4708346338123953 | Accuracy: \t0.90\n",
      "Epoch: 108 | Training loss: 0.3151540569145314 | Validation loss: 0.47683688553300274 | Accuracy: \t0.90\n",
      "Epoch: 109 | Training loss: 0.30535153888313565 | Validation loss: 0.4698884401647522 | Accuracy: \t0.90\n",
      "Epoch: 110 | Training loss: 0.3082320969905296 | Validation loss: 0.4439209762143532 | Accuracy: \t0.90\n",
      "Epoch: 111 | Training loss: 0.3050523571227216 | Validation loss: 0.4560539175113904 | Accuracy: \t0.90\n",
      "Epoch: 112 | Training loss: 0.3104546137410483 | Validation loss: 0.4812601104788824 | Accuracy: \t0.90\n",
      "Epoch: 113 | Training loss: 0.3092798929269172 | Validation loss: 0.4780000038227506 | Accuracy: \t0.90\n",
      "Epoch: 114 | Training loss: 0.31221230423177 | Validation loss: 0.4710984752514245 | Accuracy: \t0.90\n",
      "Epoch: 115 | Training loss: 0.29839391799738807 | Validation loss: 0.476305821943124 | Accuracy: \t0.90\n",
      "Epoch: 116 | Training loss: 0.30664209894703875 | Validation loss: 0.5033014518604167 | Accuracy: \t0.90\n",
      "Epoch: 117 | Training loss: 0.30975209180580315 | Validation loss: 0.48731094387494295 | Accuracy: \t0.90\n",
      "Epoch: 118 | Training loss: 0.3062718525047223 | Validation loss: 0.4862451554090406 | Accuracy: \t0.90\n",
      "Epoch: 119 | Training loss: 0.3046548490541695 | Validation loss: 0.5024520370043547 | Accuracy: \t0.89\n",
      "Epoch: 120 | Training loss: 0.31034737530167333 | Validation loss: 0.46238651570923833 | Accuracy: \t0.89\n",
      "Epoch: 121 | Training loss: 0.2977559911446477 | Validation loss: 0.4798162072971525 | Accuracy: \t0.90\n",
      "Epoch: 122 | Training loss: 0.2975451435858813 | Validation loss: 0.4701129549537926 | Accuracy: \t0.90\n",
      "Epoch: 123 | Training loss: 0.3073959539655103 | Validation loss: 0.45973353949161844 | Accuracy: \t0.90\n",
      "Epoch: 124 | Training loss: 0.305096704376875 | Validation loss: 0.48032821144433296 | Accuracy: \t0.90\n",
      "Epoch: 125 | Training loss: 0.30279778918334915 | Validation loss: 0.4787717769800175 | Accuracy: \t0.89\n",
      "Epoch: 126 | Training loss: 0.30909348047562757 | Validation loss: 0.48758888392522 | Accuracy: \t0.90\n",
      "Epoch: 127 | Training loss: 0.3041066492933924 | Validation loss: 0.4965055887901952 | Accuracy: \t0.89\n",
      "Epoch: 128 | Training loss: 0.29483534179091825 | Validation loss: 0.4954800169302882 | Accuracy: \t0.90\n",
      "Epoch: 129 | Training loss: 0.29956065105260726 | Validation loss: 0.48384926120771576 | Accuracy: \t0.90\n",
      "Epoch: 130 | Training loss: 0.3022924217957774 | Validation loss: 0.48041461300014754 | Accuracy: \t0.90\n",
      "Epoch: 131 | Training loss: 0.29942165486382494 | Validation loss: 0.4772284305821467 | Accuracy: \t0.90\n",
      "Epoch: 132 | Training loss: 0.29481811629718985 | Validation loss: 0.4935113558727468 | Accuracy: \t0.90\n",
      "Epoch: 133 | Training loss: 0.302759831982186 | Validation loss: 0.46813130776418854 | Accuracy: \t0.90\n",
      "Epoch: 134 | Training loss: 0.29594114534051874 | Validation loss: 0.5094781971107034 | Accuracy: \t0.90\n",
      "Epoch: 135 | Training loss: 0.2985338821960565 | Validation loss: 0.49552512188769066 | Accuracy: \t0.90\n",
      "Epoch: 136 | Training loss: 0.3018574372819616 | Validation loss: 0.5120015392659405 | Accuracy: \t0.89\n",
      "Epoch: 137 | Training loss: 0.3002738914288371 | Validation loss: 0.5058928198174102 | Accuracy: \t0.90\n",
      "Epoch: 138 | Training loss: 0.2929142782101417 | Validation loss: 0.4950626507662454 | Accuracy: \t0.90\n",
      "Epoch: 139 | Training loss: 0.29703954054242754 | Validation loss: 0.48503711578545716 | Accuracy: \t0.90\n",
      "Epoch: 140 | Training loss: 0.2983128218693082 | Validation loss: 0.4984713987671802 | Accuracy: \t0.90\n",
      "Epoch: 141 | Training loss: 0.3043210757288371 | Validation loss: 0.4947932199501216 | Accuracy: \t0.90\n",
      "Epoch: 142 | Training loss: 0.2888703347992723 | Validation loss: 0.4962420426775158 | Accuracy: \t0.89\n",
      "Epoch: 143 | Training loss: 0.29205739941910236 | Validation loss: 0.5027626172714774 | Accuracy: \t0.90\n",
      "Epoch: 144 | Training loss: 0.30390669657490427 | Validation loss: 0.4916325598035483 | Accuracy: \t0.90\n",
      "Epoch: 145 | Training loss: 0.29595486800787474 | Validation loss: 0.4812967363897217 | Accuracy: \t0.90\n",
      "Epoch: 146 | Training loss: 0.28718122756642767 | Validation loss: 0.5165060884361967 | Accuracy: \t0.90\n",
      "Epoch: 147 | Training loss: 0.29281544378949903 | Validation loss: 0.4885471051836929 | Accuracy: \t0.90\n",
      "Epoch: 148 | Training loss: 0.2938398969248015 | Validation loss: 0.49488282867329036 | Accuracy: \t0.90\n",
      "Epoch: 149 | Training loss: 0.3046136343876935 | Validation loss: 0.5081528829623502 | Accuracy: \t0.90\n",
      "Epoch: 150 | Training loss: 0.29668970026611907 | Validation loss: 0.4943787391927463 | Accuracy: \t0.90\n",
      "Epoch: 151 | Training loss: 0.296923807309989 | Validation loss: 0.491926828506492 | Accuracy: \t0.91\n",
      "Epoch: 152 | Training loss: 0.2945508094910412 | Validation loss: 0.49715189716535574 | Accuracy: \t0.90\n",
      "Epoch: 153 | Training loss: 0.29973397258983786 | Validation loss: 0.5167504987486011 | Accuracy: \t0.90\n"
     ]
    },
    {
     "output_type": "stream",
     "name": "stdout",
     "text": [
      "Epoch: 154 | Training loss: 0.2913617508130476 | Validation loss: 0.5148970357470953 | Accuracy: \t0.90\n",
      "Epoch: 155 | Training loss: 0.294282112995452 | Validation loss: 0.5017424007571668 | Accuracy: \t0.90\n",
      "Epoch: 156 | Training loss: 0.2946350965186627 | Validation loss: 0.4927419950258145 | Accuracy: \t0.90\n"
     ]
    },
    {
     "output_type": "error",
     "ename": "KeyboardInterrupt",
     "evalue": "",
     "traceback": [
      "\u001b[0;31m---------------------------------------------------------------------------\u001b[0m",
      "\u001b[0;31mKeyboardInterrupt\u001b[0m                         Traceback (most recent call last)",
      "\u001b[0;32m<ipython-input-134-26366830ab8a>\u001b[0m in \u001b[0;36m<module>\u001b[0;34m\u001b[0m\n\u001b[1;32m     37\u001b[0m     \u001b[0mmodel\u001b[0m\u001b[0;34m.\u001b[0m\u001b[0mtrain\u001b[0m\u001b[0;34m(\u001b[0m\u001b[0;34m)\u001b[0m\u001b[0;34m\u001b[0m\u001b[0;34m\u001b[0m\u001b[0m\n\u001b[1;32m     38\u001b[0m \u001b[0;34m\u001b[0m\u001b[0m\n\u001b[0;32m---> 39\u001b[0;31m     \u001b[0;32mfor\u001b[0m \u001b[0mi\u001b[0m\u001b[0;34m,\u001b[0m \u001b[0;34m(\u001b[0m\u001b[0mx_batch\u001b[0m\u001b[0;34m,\u001b[0m \u001b[0my_batch\u001b[0m\u001b[0;34m,\u001b[0m \u001b[0mindex\u001b[0m\u001b[0;34m)\u001b[0m \u001b[0;32min\u001b[0m \u001b[0menumerate\u001b[0m\u001b[0;34m(\u001b[0m\u001b[0mtrain_loader\u001b[0m\u001b[0;34m)\u001b[0m\u001b[0;34m:\u001b[0m\u001b[0;34m\u001b[0m\u001b[0;34m\u001b[0m\u001b[0m\n\u001b[0m\u001b[1;32m     40\u001b[0m         \u001b[0;31m# clear gradients\u001b[0m\u001b[0;34m\u001b[0m\u001b[0;34m\u001b[0m\u001b[0;34m\u001b[0m\u001b[0m\n\u001b[1;32m     41\u001b[0m         \u001b[0moptimizer\u001b[0m\u001b[0;34m.\u001b[0m\u001b[0mzero_grad\u001b[0m\u001b[0;34m(\u001b[0m\u001b[0;34m)\u001b[0m\u001b[0;34m\u001b[0m\u001b[0;34m\u001b[0m\u001b[0m\n",
      "\u001b[0;32m/usr/local/lib/python3.8/dist-packages/torch/utils/data/dataloader.py\u001b[0m in \u001b[0;36m__next__\u001b[0;34m(self)\u001b[0m\n\u001b[1;32m    515\u001b[0m             \u001b[0;32mif\u001b[0m \u001b[0mself\u001b[0m\u001b[0;34m.\u001b[0m\u001b[0m_sampler_iter\u001b[0m \u001b[0;32mis\u001b[0m \u001b[0;32mNone\u001b[0m\u001b[0;34m:\u001b[0m\u001b[0;34m\u001b[0m\u001b[0;34m\u001b[0m\u001b[0m\n\u001b[1;32m    516\u001b[0m                 \u001b[0mself\u001b[0m\u001b[0;34m.\u001b[0m\u001b[0m_reset\u001b[0m\u001b[0;34m(\u001b[0m\u001b[0;34m)\u001b[0m\u001b[0;34m\u001b[0m\u001b[0;34m\u001b[0m\u001b[0m\n\u001b[0;32m--> 517\u001b[0;31m             \u001b[0mdata\u001b[0m \u001b[0;34m=\u001b[0m \u001b[0mself\u001b[0m\u001b[0;34m.\u001b[0m\u001b[0m_next_data\u001b[0m\u001b[0;34m(\u001b[0m\u001b[0;34m)\u001b[0m\u001b[0;34m\u001b[0m\u001b[0;34m\u001b[0m\u001b[0m\n\u001b[0m\u001b[1;32m    518\u001b[0m             \u001b[0mself\u001b[0m\u001b[0;34m.\u001b[0m\u001b[0m_num_yielded\u001b[0m \u001b[0;34m+=\u001b[0m \u001b[0;36m1\u001b[0m\u001b[0;34m\u001b[0m\u001b[0;34m\u001b[0m\u001b[0m\n\u001b[1;32m    519\u001b[0m             \u001b[0;32mif\u001b[0m \u001b[0mself\u001b[0m\u001b[0;34m.\u001b[0m\u001b[0m_dataset_kind\u001b[0m \u001b[0;34m==\u001b[0m \u001b[0m_DatasetKind\u001b[0m\u001b[0;34m.\u001b[0m\u001b[0mIterable\u001b[0m \u001b[0;32mand\u001b[0m\u001b[0;31m \u001b[0m\u001b[0;31m\\\u001b[0m\u001b[0;34m\u001b[0m\u001b[0;34m\u001b[0m\u001b[0m\n",
      "\u001b[0;32m/usr/local/lib/python3.8/dist-packages/torch/utils/data/dataloader.py\u001b[0m in \u001b[0;36m_next_data\u001b[0;34m(self)\u001b[0m\n\u001b[1;32m    555\u001b[0m     \u001b[0;32mdef\u001b[0m \u001b[0m_next_data\u001b[0m\u001b[0;34m(\u001b[0m\u001b[0mself\u001b[0m\u001b[0;34m)\u001b[0m\u001b[0;34m:\u001b[0m\u001b[0;34m\u001b[0m\u001b[0;34m\u001b[0m\u001b[0m\n\u001b[1;32m    556\u001b[0m         \u001b[0mindex\u001b[0m \u001b[0;34m=\u001b[0m \u001b[0mself\u001b[0m\u001b[0;34m.\u001b[0m\u001b[0m_next_index\u001b[0m\u001b[0;34m(\u001b[0m\u001b[0;34m)\u001b[0m  \u001b[0;31m# may raise StopIteration\u001b[0m\u001b[0;34m\u001b[0m\u001b[0;34m\u001b[0m\u001b[0m\n\u001b[0;32m--> 557\u001b[0;31m         \u001b[0mdata\u001b[0m \u001b[0;34m=\u001b[0m \u001b[0mself\u001b[0m\u001b[0;34m.\u001b[0m\u001b[0m_dataset_fetcher\u001b[0m\u001b[0;34m.\u001b[0m\u001b[0mfetch\u001b[0m\u001b[0;34m(\u001b[0m\u001b[0mindex\u001b[0m\u001b[0;34m)\u001b[0m  \u001b[0;31m# may raise StopIteration\u001b[0m\u001b[0;34m\u001b[0m\u001b[0;34m\u001b[0m\u001b[0m\n\u001b[0m\u001b[1;32m    558\u001b[0m         \u001b[0;32mif\u001b[0m \u001b[0mself\u001b[0m\u001b[0;34m.\u001b[0m\u001b[0m_pin_memory\u001b[0m\u001b[0;34m:\u001b[0m\u001b[0;34m\u001b[0m\u001b[0;34m\u001b[0m\u001b[0m\n\u001b[1;32m    559\u001b[0m             \u001b[0mdata\u001b[0m \u001b[0;34m=\u001b[0m \u001b[0m_utils\u001b[0m\u001b[0;34m.\u001b[0m\u001b[0mpin_memory\u001b[0m\u001b[0;34m.\u001b[0m\u001b[0mpin_memory\u001b[0m\u001b[0;34m(\u001b[0m\u001b[0mdata\u001b[0m\u001b[0;34m)\u001b[0m\u001b[0;34m\u001b[0m\u001b[0;34m\u001b[0m\u001b[0m\n",
      "\u001b[0;32m/usr/local/lib/python3.8/dist-packages/torch/utils/data/_utils/fetch.py\u001b[0m in \u001b[0;36mfetch\u001b[0;34m(self, possibly_batched_index)\u001b[0m\n\u001b[1;32m     42\u001b[0m     \u001b[0;32mdef\u001b[0m \u001b[0mfetch\u001b[0m\u001b[0;34m(\u001b[0m\u001b[0mself\u001b[0m\u001b[0;34m,\u001b[0m \u001b[0mpossibly_batched_index\u001b[0m\u001b[0;34m)\u001b[0m\u001b[0;34m:\u001b[0m\u001b[0;34m\u001b[0m\u001b[0;34m\u001b[0m\u001b[0m\n\u001b[1;32m     43\u001b[0m         \u001b[0;32mif\u001b[0m \u001b[0mself\u001b[0m\u001b[0;34m.\u001b[0m\u001b[0mauto_collation\u001b[0m\u001b[0;34m:\u001b[0m\u001b[0;34m\u001b[0m\u001b[0;34m\u001b[0m\u001b[0m\n\u001b[0;32m---> 44\u001b[0;31m             \u001b[0mdata\u001b[0m \u001b[0;34m=\u001b[0m \u001b[0;34m[\u001b[0m\u001b[0mself\u001b[0m\u001b[0;34m.\u001b[0m\u001b[0mdataset\u001b[0m\u001b[0;34m[\u001b[0m\u001b[0midx\u001b[0m\u001b[0;34m]\u001b[0m \u001b[0;32mfor\u001b[0m \u001b[0midx\u001b[0m \u001b[0;32min\u001b[0m \u001b[0mpossibly_batched_index\u001b[0m\u001b[0;34m]\u001b[0m\u001b[0;34m\u001b[0m\u001b[0;34m\u001b[0m\u001b[0m\n\u001b[0m\u001b[1;32m     45\u001b[0m         \u001b[0;32melse\u001b[0m\u001b[0;34m:\u001b[0m\u001b[0;34m\u001b[0m\u001b[0;34m\u001b[0m\u001b[0m\n\u001b[1;32m     46\u001b[0m             \u001b[0mdata\u001b[0m \u001b[0;34m=\u001b[0m \u001b[0mself\u001b[0m\u001b[0;34m.\u001b[0m\u001b[0mdataset\u001b[0m\u001b[0;34m[\u001b[0m\u001b[0mpossibly_batched_index\u001b[0m\u001b[0;34m]\u001b[0m\u001b[0;34m\u001b[0m\u001b[0;34m\u001b[0m\u001b[0m\n",
      "\u001b[0;32m/usr/local/lib/python3.8/dist-packages/torch/utils/data/_utils/fetch.py\u001b[0m in \u001b[0;36m<listcomp>\u001b[0;34m(.0)\u001b[0m\n\u001b[1;32m     42\u001b[0m     \u001b[0;32mdef\u001b[0m \u001b[0mfetch\u001b[0m\u001b[0;34m(\u001b[0m\u001b[0mself\u001b[0m\u001b[0;34m,\u001b[0m \u001b[0mpossibly_batched_index\u001b[0m\u001b[0;34m)\u001b[0m\u001b[0;34m:\u001b[0m\u001b[0;34m\u001b[0m\u001b[0;34m\u001b[0m\u001b[0m\n\u001b[1;32m     43\u001b[0m         \u001b[0;32mif\u001b[0m \u001b[0mself\u001b[0m\u001b[0;34m.\u001b[0m\u001b[0mauto_collation\u001b[0m\u001b[0;34m:\u001b[0m\u001b[0;34m\u001b[0m\u001b[0;34m\u001b[0m\u001b[0m\n\u001b[0;32m---> 44\u001b[0;31m             \u001b[0mdata\u001b[0m \u001b[0;34m=\u001b[0m \u001b[0;34m[\u001b[0m\u001b[0mself\u001b[0m\u001b[0;34m.\u001b[0m\u001b[0mdataset\u001b[0m\u001b[0;34m[\u001b[0m\u001b[0midx\u001b[0m\u001b[0;34m]\u001b[0m \u001b[0;32mfor\u001b[0m \u001b[0midx\u001b[0m \u001b[0;32min\u001b[0m \u001b[0mpossibly_batched_index\u001b[0m\u001b[0;34m]\u001b[0m\u001b[0;34m\u001b[0m\u001b[0;34m\u001b[0m\u001b[0m\n\u001b[0m\u001b[1;32m     45\u001b[0m         \u001b[0;32melse\u001b[0m\u001b[0;34m:\u001b[0m\u001b[0;34m\u001b[0m\u001b[0;34m\u001b[0m\u001b[0m\n\u001b[1;32m     46\u001b[0m             \u001b[0mdata\u001b[0m \u001b[0;34m=\u001b[0m \u001b[0mself\u001b[0m\u001b[0;34m.\u001b[0m\u001b[0mdataset\u001b[0m\u001b[0;34m[\u001b[0m\u001b[0mpossibly_batched_index\u001b[0m\u001b[0;34m]\u001b[0m\u001b[0;34m\u001b[0m\u001b[0;34m\u001b[0m\u001b[0m\n",
      "\u001b[0;32m<ipython-input-115-efec21e8f48a>\u001b[0m in \u001b[0;36m__getitem__\u001b[0;34m(self, index)\u001b[0m\n\u001b[1;32m      3\u001b[0m         \u001b[0mself\u001b[0m\u001b[0;34m.\u001b[0m\u001b[0mdataset\u001b[0m \u001b[0;34m=\u001b[0m \u001b[0mdataset\u001b[0m\u001b[0;34m\u001b[0m\u001b[0;34m\u001b[0m\u001b[0m\n\u001b[1;32m      4\u001b[0m     \u001b[0;32mdef\u001b[0m \u001b[0m__getitem__\u001b[0m\u001b[0;34m(\u001b[0m\u001b[0mself\u001b[0m\u001b[0;34m,\u001b[0m\u001b[0mindex\u001b[0m\u001b[0;34m)\u001b[0m\u001b[0;34m:\u001b[0m\u001b[0;34m\u001b[0m\u001b[0;34m\u001b[0m\u001b[0m\n\u001b[0;32m----> 5\u001b[0;31m         \u001b[0mdata\u001b[0m\u001b[0;34m,\u001b[0m\u001b[0mtarget\u001b[0m \u001b[0;34m=\u001b[0m \u001b[0mself\u001b[0m\u001b[0;34m.\u001b[0m\u001b[0mdataset\u001b[0m\u001b[0;34m[\u001b[0m\u001b[0mindex\u001b[0m\u001b[0;34m]\u001b[0m\u001b[0;34m\u001b[0m\u001b[0;34m\u001b[0m\u001b[0m\n\u001b[0m\u001b[1;32m      6\u001b[0m         \u001b[0;32mreturn\u001b[0m \u001b[0mdata\u001b[0m\u001b[0;34m,\u001b[0m\u001b[0mtarget\u001b[0m\u001b[0;34m,\u001b[0m\u001b[0mindex\u001b[0m\u001b[0;34m\u001b[0m\u001b[0;34m\u001b[0m\u001b[0m\n\u001b[1;32m      7\u001b[0m     \u001b[0;32mdef\u001b[0m \u001b[0m__len__\u001b[0m\u001b[0;34m(\u001b[0m\u001b[0mself\u001b[0m\u001b[0;34m)\u001b[0m\u001b[0;34m:\u001b[0m\u001b[0;34m\u001b[0m\u001b[0;34m\u001b[0m\u001b[0m\n",
      "\u001b[0;32m/usr/local/lib/python3.8/dist-packages/torch/utils/data/dataset.py\u001b[0m in \u001b[0;36m__getitem__\u001b[0;34m(self, index)\u001b[0m\n\u001b[1;32m    169\u001b[0m \u001b[0;34m\u001b[0m\u001b[0m\n\u001b[1;32m    170\u001b[0m     \u001b[0;32mdef\u001b[0m \u001b[0m__getitem__\u001b[0m\u001b[0;34m(\u001b[0m\u001b[0mself\u001b[0m\u001b[0;34m,\u001b[0m \u001b[0mindex\u001b[0m\u001b[0;34m)\u001b[0m\u001b[0;34m:\u001b[0m\u001b[0;34m\u001b[0m\u001b[0;34m\u001b[0m\u001b[0m\n\u001b[0;32m--> 171\u001b[0;31m         \u001b[0;32mreturn\u001b[0m \u001b[0mtuple\u001b[0m\u001b[0;34m(\u001b[0m\u001b[0mtensor\u001b[0m\u001b[0;34m[\u001b[0m\u001b[0mindex\u001b[0m\u001b[0;34m]\u001b[0m \u001b[0;32mfor\u001b[0m \u001b[0mtensor\u001b[0m \u001b[0;32min\u001b[0m \u001b[0mself\u001b[0m\u001b[0;34m.\u001b[0m\u001b[0mtensors\u001b[0m\u001b[0;34m)\u001b[0m\u001b[0;34m\u001b[0m\u001b[0;34m\u001b[0m\u001b[0m\n\u001b[0m\u001b[1;32m    172\u001b[0m \u001b[0;34m\u001b[0m\u001b[0m\n\u001b[1;32m    173\u001b[0m     \u001b[0;32mdef\u001b[0m \u001b[0m__len__\u001b[0m\u001b[0;34m(\u001b[0m\u001b[0mself\u001b[0m\u001b[0;34m)\u001b[0m\u001b[0;34m:\u001b[0m\u001b[0;34m\u001b[0m\u001b[0;34m\u001b[0m\u001b[0m\n",
      "\u001b[0;32m/usr/local/lib/python3.8/dist-packages/torch/utils/data/dataset.py\u001b[0m in \u001b[0;36m<genexpr>\u001b[0;34m(.0)\u001b[0m\n\u001b[1;32m    169\u001b[0m \u001b[0;34m\u001b[0m\u001b[0m\n\u001b[1;32m    170\u001b[0m     \u001b[0;32mdef\u001b[0m \u001b[0m__getitem__\u001b[0m\u001b[0;34m(\u001b[0m\u001b[0mself\u001b[0m\u001b[0;34m,\u001b[0m \u001b[0mindex\u001b[0m\u001b[0;34m)\u001b[0m\u001b[0;34m:\u001b[0m\u001b[0;34m\u001b[0m\u001b[0;34m\u001b[0m\u001b[0m\n\u001b[0;32m--> 171\u001b[0;31m         \u001b[0;32mreturn\u001b[0m \u001b[0mtuple\u001b[0m\u001b[0;34m(\u001b[0m\u001b[0mtensor\u001b[0m\u001b[0;34m[\u001b[0m\u001b[0mindex\u001b[0m\u001b[0;34m]\u001b[0m \u001b[0;32mfor\u001b[0m \u001b[0mtensor\u001b[0m \u001b[0;32min\u001b[0m \u001b[0mself\u001b[0m\u001b[0;34m.\u001b[0m\u001b[0mtensors\u001b[0m\u001b[0;34m)\u001b[0m\u001b[0;34m\u001b[0m\u001b[0;34m\u001b[0m\u001b[0m\n\u001b[0m\u001b[1;32m    172\u001b[0m \u001b[0;34m\u001b[0m\u001b[0m\n\u001b[1;32m    173\u001b[0m     \u001b[0;32mdef\u001b[0m \u001b[0m__len__\u001b[0m\u001b[0;34m(\u001b[0m\u001b[0mself\u001b[0m\u001b[0;34m)\u001b[0m\u001b[0;34m:\u001b[0m\u001b[0;34m\u001b[0m\u001b[0;34m\u001b[0m\u001b[0m\n",
      "\u001b[0;31mKeyboardInterrupt\u001b[0m: "
     ]
    }
   ],
   "metadata": {}
  },
  {
   "cell_type": "code",
   "execution_count": 145,
   "source": [
    "label_scores.size()"
   ],
   "outputs": [
    {
     "output_type": "execute_result",
     "data": {
      "text/plain": [
       "torch.Size([128, 10])"
      ]
     },
     "metadata": {},
     "execution_count": 145
    }
   ],
   "metadata": {}
  },
  {
   "cell_type": "code",
   "execution_count": 149,
   "source": [
    "t = F.softmax(label_scores, dim=1)\n",
    "top_p, top_c = t.topk(1, dim=1)\n",
    "print(top_c.flatten())"
   ],
   "outputs": [
    {
     "output_type": "stream",
     "name": "stdout",
     "text": [
      "tensor([6, 9, 9, 9, 6, 9, 9, 6, 9, 5, 9, 6, 6, 0, 6, 0, 9, 1, 6, 9, 9, 6, 6, 9,\n",
      "        6, 6, 6, 9, 1, 9, 0, 9, 6, 0, 9, 9, 6, 6, 9, 9, 5, 9, 6, 9, 7, 9, 6, 9,\n",
      "        9, 9, 6, 6, 6, 9, 8, 9, 9, 6, 9, 9, 9, 9, 6, 9, 9, 6, 9, 6, 6, 9, 9, 0,\n",
      "        6, 6, 9, 6, 9, 1, 0, 9, 9, 6, 1, 9, 6, 6, 9, 6, 9, 9, 9, 6, 9, 9, 6, 9,\n",
      "        2, 6, 4, 7, 6, 1, 9, 9, 9, 9, 7, 9, 6, 9, 9, 1, 9, 6, 6, 6, 8, 6, 9, 9,\n",
      "        6, 6, 2, 6, 9, 9, 6, 6])\n"
     ]
    }
   ],
   "metadata": {}
  },
  {
   "cell_type": "code",
   "execution_count": 143,
   "source": [
    "y"
   ],
   "outputs": [
    {
     "output_type": "execute_result",
     "data": {
      "text/plain": [
       "tensor([9, 9, 6, 6, 9, 6, 9, 9, 6, 9, 1, 9, 9, 6, 6, 6, 6, 6, 9, 9, 1, 6, 9, 0,\n",
       "        1, 1, 6, 6, 9, 6, 6, 6, 6, 6, 9, 6, 6, 1, 9, 6, 6, 9, 9, 9, 9, 6, 6, 9,\n",
       "        9, 1, 9, 9, 0, 9, 9, 9, 6, 9, 1, 6])"
      ]
     },
     "metadata": {},
     "execution_count": 143
    }
   ],
   "metadata": {}
  },
  {
   "cell_type": "code",
   "execution_count": 151,
   "source": [
    "top_c == y"
   ],
   "outputs": [
    {
     "output_type": "execute_result",
     "data": {
      "text/plain": [
       "tensor([[False, False,  True,  ..., False, False,  True],\n",
       "        [ True,  True, False,  ...,  True, False, False],\n",
       "        [ True,  True, False,  ...,  True, False, False],\n",
       "        ...,\n",
       "        [ True,  True, False,  ...,  True, False, False],\n",
       "        [False, False,  True,  ..., False, False,  True],\n",
       "        [False, False,  True,  ..., False, False,  True]])"
      ]
     },
     "metadata": {},
     "execution_count": 151
    }
   ],
   "metadata": {}
  },
  {
   "cell_type": "code",
   "execution_count": 162,
   "source": [
    "torch.unique((top_c == y).type(torch.FloatTensor), return_counts=True)"
   ],
   "outputs": [
    {
     "output_type": "execute_result",
     "data": {
      "text/plain": [
       "(tensor([0., 1.]), tensor([4916, 2764]))"
      ]
     },
     "metadata": {},
     "execution_count": 162
    }
   ],
   "metadata": {}
  },
  {
   "cell_type": "code",
   "execution_count": 136,
   "source": [
    "len(losses)"
   ],
   "outputs": [
    {
     "output_type": "execute_result",
     "data": {
      "text/plain": [
       "157"
      ]
     },
     "metadata": {},
     "execution_count": 136
    }
   ],
   "metadata": {}
  },
  {
   "cell_type": "code",
   "execution_count": 139,
   "source": [
    "figure = plt.figure(figsize=(10, 6))\n",
    "plt.plot(np.arange(len(losses)), losses, label='Training loss')\n",
    "plt.plot(np.arange(len(losses)), validation_losses, label=\"Validation loss\")\n",
    "plt.xlabel(\"Epochs\")\n",
    "plt.ylabel(\"Cross Entropy Loss\")"
   ],
   "outputs": [
    {
     "output_type": "execute_result",
     "data": {
      "text/plain": [
       "Text(0, 0.5, 'Cross Entropy Loss')"
      ]
     },
     "metadata": {},
     "execution_count": 139
    },
    {
     "output_type": "display_data",
     "data": {
      "text/plain": [
       "<Figure size 720x432 with 1 Axes>"
      ],
      "image/png": "[encoded data removed]"
     },
     "metadata": {
      "needs_background": "light"
     }
    }
   ],
   "metadata": {}
  },
  {
   "cell_type": "code",
   "execution_count": 140,
   "source": [
    "torch.save(model.state_dict(), \"NLPModel_Overfitting\")"
   ],
   "outputs": [],
   "metadata": {}
  },
  {
   "cell_type": "markdown",
   "source": [
    "sigmoid = nn.Sigmoid()\n",
    "testing = sigmoid(label_scores)"
   ],
   "metadata": {}
  },
  {
   "cell_type": "code",
   "execution_count": 163,
   "source": [
    "def accuracy(labels, predicted):\n",
    "    total_accuracy = 0\n",
    "    n = len(predicted)\n",
    "    for y, p in zip(labels, predicted):\n",
    "        if (y == p):\n",
    "            total_accuracy +=1\n",
    "    return total_accuracy/n"
   ],
   "outputs": [],
   "metadata": {}
  },
  {
   "cell_type": "markdown",
   "source": [
    "Model v1 = Feature vector standarized and without class weights\n",
    "\n",
    "Model v2 = Feature vector standarized and with class weights"
   ],
   "metadata": {}
  },
  {
   "cell_type": "code",
   "execution_count": 164,
   "source": [
    "model.eval()"
   ],
   "outputs": [
    {
     "output_type": "execute_result",
     "data": {
      "text/plain": [
       "BiLSTM(\n",
       "  (lstm1): LSTM(1041, 256, num_layers=2, batch_first=True, bidirectional=True)\n",
       "  (fc): Linear(in_features=512, out_features=10, bias=True)\n",
       "  (Sigmoid): Sigmoid()\n",
       ")"
      ]
     },
     "metadata": {},
     "execution_count": 164
    }
   ],
   "metadata": {}
  },
  {
   "cell_type": "code",
   "execution_count": 165,
   "source": [
    "v_test = torch.from_numpy(np.array(x_test, dtype=np.float64)).view(-1, 1, 1041).float().to(device)\n",
    "\n",
    "words_labels = model(v_test) "
   ],
   "outputs": [],
   "metadata": {}
  },
  {
   "cell_type": "code",
   "execution_count": 168,
   "source": [
    "words_labels"
   ],
   "outputs": [
    {
     "output_type": "execute_result",
     "data": {
      "text/plain": [
       "tensor([[0.4900, 0.4985, 0.5334,  ..., 0.5728, 0.4702, 0.5405],\n",
       "        [0.5072, 0.4691, 0.5011,  ..., 0.5110, 0.5229, 0.5445],\n",
       "        [0.4387, 0.5019, 0.4730,  ..., 0.4885, 0.4629, 0.5447],\n",
       "        ...,\n",
       "        [0.5095, 0.4933, 0.4889,  ..., 0.5466, 0.5255, 0.4523],\n",
       "        [0.5278, 0.4745, 0.4873,  ..., 0.5408, 0.5146, 0.5460],\n",
       "        [0.5235, 0.4721, 0.5073,  ..., 0.5313, 0.4698, 0.5294]],\n",
       "       device='cuda:0', grad_fn=<SigmoidBackward>)"
      ]
     },
     "metadata": {},
     "execution_count": 168
    }
   ],
   "metadata": {}
  },
  {
   "cell_type": "code",
   "execution_count": 125,
   "source": [
    "words_labels.size()"
   ],
   "outputs": [
    {
     "output_type": "execute_result",
     "data": {
      "text/plain": [
       "torch.Size([11350, 10])"
      ]
     },
     "metadata": {},
     "execution_count": 125
    }
   ],
   "metadata": {}
  },
  {
   "cell_type": "code",
   "execution_count": 169,
   "source": [
    "y = []\n",
    "\n",
    "for p in words_labels:\n",
    "    i = 0\n",
    "    m = 0\n",
    "    for index, e in enumerate(p):\n",
    "        if float(e) > m:\n",
    "            i = index\n",
    "            m = e\n",
    "    y.append(i+1)"
   ],
   "outputs": [],
   "metadata": {}
  },
  {
   "cell_type": "code",
   "execution_count": 170,
   "source": [
    "set(y)"
   ],
   "outputs": [
    {
     "output_type": "execute_result",
     "data": {
      "text/plain": [
       "{1, 2, 3, 4, 5, 6, 7, 8, 9, 10}"
      ]
     },
     "metadata": {},
     "execution_count": 170
    }
   ],
   "metadata": {}
  },
  {
   "cell_type": "code",
   "execution_count": 183,
   "source": [
    "print(np.array(y))\n",
    "print(y_test)"
   ],
   "outputs": [
    {
     "output_type": "stream",
     "name": "stdout",
     "text": [
      "[ 8 10 10 ...  8 10  8]\n",
      "[10 7 7 ... 10 7 10]\n"
     ]
    }
   ],
   "metadata": {}
  },
  {
   "cell_type": "code",
   "execution_count": 172,
   "source": [
    "set(y_test)"
   ],
   "outputs": [
    {
     "output_type": "execute_result",
     "data": {
      "text/plain": [
       "{1, 2, 3, 4, 5, 6, 7, 9, 10}"
      ]
     },
     "metadata": {},
     "execution_count": 172
    }
   ],
   "metadata": {}
  },
  {
   "cell_type": "markdown",
   "source": [
    "y = []\n",
    "\n",
    "for p in words_labels:\n",
    "    i = 0\n",
    "    m = 0\n",
    "    for index, e in enumerate(p):\n",
    "        if float(e) > m:\n",
    "            i = index\n",
    "            m = e\n",
    "    y.append(i)"
   ],
   "metadata": {}
  },
  {
   "cell_type": "code",
   "execution_count": 173,
   "source": [
    "accuracy(y_test, y)"
   ],
   "outputs": [
    {
     "output_type": "execute_result",
     "data": {
      "text/plain": [
       "0.12140969162995595"
      ]
     },
     "metadata": {},
     "execution_count": 173
    }
   ],
   "metadata": {}
  },
  {
   "cell_type": "code",
   "execution_count": 174,
   "source": [
    "def precision_of(labels, y, of):\n",
    "    n = 0\n",
    "    precision = 0\n",
    "    c = 0\n",
    "    for label, p in zip(labels, y):\n",
    "        if (label == p) and (p == of):\n",
    "            c += 1\n",
    "        if (p == of):\n",
    "            n+=1\n",
    "            \n",
    "    precision = 0 if n==0 else c / n\n",
    "    return precision"
   ],
   "outputs": [],
   "metadata": {}
  },
  {
   "cell_type": "code",
   "execution_count": 175,
   "source": [
    "p0 = precision_of(y_test, y, 0)\n",
    "p1 = precision_of(y_test, y, 1)\n",
    "p2 = precision_of(y_test, y, 2)\n",
    "p3 = precision_of(y_test, y, 3)\n",
    "p4 = precision_of(y_test, y, 4)\n",
    "p5 = precision_of(y_test, y, 5)\n",
    "p6 = precision_of(y_test, y, 6)\n",
    "p7 = precision_of(y_test, y, 7)\n",
    "p8 = precision_of(y_test, y, 8)\n",
    "p9 = precision_of(y_test, y, 9)\n",
    "p10 = precision_of(y_test, y, 10)\n",
    "\n",
    "precision = (p0+p1+p2+p3+p4+p5+p6+p8+p9+p7+p10) / 10"
   ],
   "outputs": [],
   "metadata": {}
  },
  {
   "cell_type": "code",
   "execution_count": 176,
   "source": [
    "print(precision)"
   ],
   "outputs": [
    {
     "output_type": "stream",
     "name": "stdout",
     "text": [
      "0.09914015347161295\n"
     ]
    }
   ],
   "metadata": {}
  },
  {
   "cell_type": "code",
   "execution_count": 177,
   "source": [
    "def recall_of(labels, y, of):\n",
    "    n = 0\n",
    "    recall = 0\n",
    "    c = 0\n",
    "    for label, p in zip(labels, y):\n",
    "        if (label == p) and (p == of):\n",
    "            c += 1\n",
    "        if (label == of):\n",
    "            n+=1\n",
    "            \n",
    "    recall = 0 if n==0 else c / n\n",
    "    return recall"
   ],
   "outputs": [],
   "metadata": {}
  },
  {
   "cell_type": "code",
   "execution_count": 178,
   "source": [
    "p0 = recall_of(y_test, y, 0)\n",
    "p1 = recall_of(y_test, y, 1)\n",
    "p2 = recall_of(y_test, y, 2)\n",
    "p3 = recall_of(y_test, y, 3)\n",
    "p4 = recall_of(y_test, y, 4)\n",
    "p5 = recall_of(y_test, y, 5)\n",
    "p6 = recall_of(y_test, y, 6)\n",
    "p7 = recall_of(y_test, y, 7)\n",
    "p8 = recall_of(y_test, y, 8)\n",
    "p9 = recall_of(y_test, y, 9)\n",
    "p10 = recall_of(y_test, y, 10)\n",
    "\n",
    "recall = (p0+p1+p2+p3+p4+p5+p6+p8+p9+p7+p10) / 10"
   ],
   "outputs": [],
   "metadata": {}
  },
  {
   "cell_type": "code",
   "execution_count": 179,
   "source": [
    "recall"
   ],
   "outputs": [
    {
     "output_type": "execute_result",
     "data": {
      "text/plain": [
       "0.05875414636642144"
      ]
     },
     "metadata": {},
     "execution_count": 179
    }
   ],
   "metadata": {}
  }
 ],
 "metadata": {
  "kernelspec": {
   "display_name": "Python 3",
   "language": "python",
   "name": "python3"
  },
  "language_info": {
   "codemirror_mode": {
    "name": "ipython",
    "version": 3
   },
   "file_extension": ".py",
   "mimetype": "text/x-python",
   "name": "python",
   "nbconvert_exporter": "python",
   "pygments_lexer": "ipython3",
   "version": "3.8.10"
  }
 },
 "nbformat": 4,
 "nbformat_minor": 4
}