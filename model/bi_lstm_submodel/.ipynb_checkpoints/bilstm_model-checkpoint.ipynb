{
 "cells": [
  {
   "cell_type": "code",
   "execution_count": 36,
   "metadata": {},
   "outputs": [
    {
     "data": {
      "text/plain": [
       "<torch._C.Generator at 0x7f6faf3e5c70>"
      ]
     },
     "execution_count": 36,
     "metadata": {},
     "output_type": "execute_result"
    }
   ],
   "source": [
    "import torch\n",
    "import torch.nn as nn\n",
    "import torch.nn.functional as F\n",
    "import torch.optim as optim\n",
    "from torch.nn.utils.rnn import pack_padded_sequence, pad_packed_sequence\n",
    "\n",
    "import numpy as np\n",
    "import pandas as pd\n",
    "import pickle\n",
    "\n",
    "import os\n",
    "\n",
    "torch.manual_seed(1)"
   ]
  },
  {
   "cell_type": "code",
   "execution_count": 37,
   "metadata": {},
   "outputs": [],
   "source": [
    "class BiLSTM(nn.Module): \n",
    "    # This NLP part Will consist of two bidirectional lstm layers and it's output is \n",
    "    # determined by the LSTM's last hidden states or output vectors.\n",
    "\n",
    "    # This will take as an input a sequence of words and output the last hidden layer\n",
    "    # the last hidden states of 2-layer bidirectional LSTM will be the input of the last multimodel network \n",
    "\n",
    "    def __init__(self, embedding_dim, hidden_dim = 256, layer_dim =2, output_dim = 7):\n",
    "        super(BiLSTM, self).__init__()\n",
    "        \n",
    "        self.embedding_dim = embedding_dim\n",
    "        \n",
    "        #Hidden dimensions\n",
    "        self.hidden_dim = hidden_dim # maybe set this to 256\n",
    "\n",
    "        # Number of hidden layers\n",
    "        self.layer_dim = layer_dim\n",
    "\n",
    "        # Building the LSTM \n",
    "        # batch_first = True causes the input/output to be of shape 3D (batch_dim, seq_dim, feature_dim) \n",
    "        # output will be the same dim as the hidden dim\n",
    "        self.lstm1 = nn.LSTM(embedding_dim, hidden_dim, layer_dim, batch_first=True, bidirectional=True)\n",
    "        \n",
    "        self.fc = nn.Linear(hidden_dim * 2, output_dim)\n",
    "        self.sigmoid = nn.Sigmoid()\n",
    "        \n",
    "    def forward(self, x):\n",
    "        # Initialize hidden state with zeros\n",
    "        # self.layer_dim * 2. because we have one going forwards and another going backwards\n",
    "        h0 = torch.zeros(self.layer_dim * 2, x.size(0), self.hidden_dim)\n",
    "        \n",
    "        \n",
    "        # Initialize cell state\n",
    "        c0 =  torch.zeros(self.layer_dim * 2, x.size(0), self.hidden_dim)\n",
    "\n",
    "        # We suppose we are conducting a 28 time steps In case of using \n",
    "        # We need to detach as we are doing truncated backpropagation through time (BPTT)\n",
    "        # If we don't, we'll backprop all the way to the start even after going through another batch\n",
    "        out, (hn, cn) = self.lstm1(x, (h0.detach(), c0.detach()))\n",
    "                \n",
    "        # out = self.fc(out.view(out.size(0), -1))\n",
    "          \n",
    "        # Without the activation function, out will contain the last hidden layer.\n",
    "        # This could be obtianed from hn[-1] as well.\n",
    "        out = out[:, -1, :]\n",
    "        \n",
    "        out = self.fc(out)\n",
    "        \n",
    "        out = self.sigmoid(out)\n",
    "        \n",
    "        return out\n",
    "        \n",
    "        # Index hidden state of last time step\n",
    "        # out.size() --> 256, 100, 256 if we have (input dim = 100 and hidden dim = 100)\n",
    "        # out[:, -1, :] => 256, 256 --> because we just want the last time step hidden states\n",
    "        #out = out[:, -1, :] # without an activation function\n",
    "\n",
    "        # now our: out.size() --> 256, 10 (if output dimension is equal to 10)\n",
    "        #return out"
   ]
  },
  {
   "cell_type": "code",
   "execution_count": 38,
   "metadata": {},
   "outputs": [],
   "source": [
    "# 1041 embedding size\n",
    "#model = BiLSTM(1041)\n",
    "model = BiLSTM(17)\n",
    "\n",
    "\n",
    "#loss_function = nn.NLLLoss()\n",
    "loss_function = nn.CrossEntropyLoss()\n",
    "optimizer = optim.SGD(model.parameters(), lr = 0.1)"
   ]
  },
  {
   "cell_type": "markdown",
   "metadata": {},
   "source": [
    "# Here i have to get the ELMO vector in a form, in a format of numpy array.\n",
    "with open('document_vector.pickle', 'rb') as file:\n",
    "    vectors = pickle.load(file)\n",
    "    file.close()\n",
    "\n",
    "vectors = np.delete(vectors, 1, 1)\n",
    "vectors = np.delete(vectors, 0, 1)\n",
    "\n",
    "vectors = torch.from_numpy(np.array(vectors, dtype=np.float64)).view(521, 1, -1).float()\n",
    "vectors.size()"
   ]
  },
  {
   "cell_type": "code",
   "execution_count": 39,
   "metadata": {},
   "outputs": [],
   "source": [
    "i = 0\n",
    "for file in os.scandir('../../feature_extraction/annotated_features_Jenny/'):\n",
    "    if file.name.endswith('csv'):\n",
    "        if (file.name == 'ssoar_datasetssoar-journpsycho-1993-3-leithauser-geh_nicht_nach_haus_laudatio.csv'):\n",
    "            continue\n",
    "        dataframe = pd.read_csv(file)\n",
    "        vector = dataframe.to_numpy()\n",
    "        if (vector.shape[1] != 1046):\n",
    "            continue\n",
    "        target = vector[:, -1]        \n",
    "        vector = vector[:, 4:21]\n",
    "        if(i == 0):\n",
    "            vectors = vector\n",
    "            targets = target\n",
    "            i+=1\n",
    "        else:\n",
    "            targets = np.concatenate((targets, target))\n",
    "            vectors = np.concatenate((vectors, vector))\n",
    "        "
   ]
  },
  {
   "cell_type": "code",
   "execution_count": 40,
   "metadata": {},
   "outputs": [],
   "source": [
    "for file in os.scandir('../../feature_extraction/annotated_features_225-301/'):\n",
    "    if file.name.endswith('csv'):\n",
    "\n",
    "        dataframe = pd.read_csv(file)\n",
    "        vector = dataframe.to_numpy()\n",
    "        if (vector.shape[1] != 1046):\n",
    "            continue\n",
    "        target = vector[:, -1]        \n",
    "        vector = vector[:, 4:21]\n",
    "        targets = np.concatenate((targets, target))\n",
    "        vectors = np.concatenate((vectors, vector))\n",
    "        "
   ]
  },
  {
   "cell_type": "code",
   "execution_count": 41,
   "metadata": {},
   "outputs": [],
   "source": [
    "for file in os.scandir('../../feature_extraction/annotated_features_151-225/'):\n",
    "    if file.name.endswith('csv'):\n",
    "\n",
    "        dataframe = pd.read_csv(file)\n",
    "        vector = dataframe.to_numpy()\n",
    "        if (vector.shape[1] != 1046):\n",
    "            continue\n",
    "        target = vector[:, -1]        \n",
    "        vector = vector[:, 4:21]\n",
    "        targets = np.concatenate((targets, target))\n",
    "        vectors = np.concatenate((vectors, vector))\n",
    "        "
   ]
  },
  {
   "cell_type": "raw",
   "metadata": {},
   "source": [
    "# 1: title, 2: journal, 3: author, 4: asbtract\n",
    "# This is a labeling for document 0\n",
    "journal = [1] * 3\n",
    "title = [0] * 10\n",
    "author = [2] * 5\n",
    "abstract = [3] * 503\n",
    "\n",
    "labels =  torch.from_numpy(np.concatenate((journal, title, author, abstract)))"
   ]
  },
  {
   "cell_type": "code",
   "execution_count": 42,
   "metadata": {},
   "outputs": [
    {
     "data": {
      "text/plain": [
       "array([2, 2, 2, ..., 5, 5, 10], dtype=object)"
      ]
     },
     "execution_count": 42,
     "metadata": {},
     "output_type": "execute_result"
    }
   ],
   "source": [
    "targets"
   ]
  },
  {
   "cell_type": "code",
   "execution_count": 43,
   "metadata": {},
   "outputs": [],
   "source": [
    "set(targets)\n",
    "t= targets"
   ]
  },
  {
   "cell_type": "code",
   "execution_count": 44,
   "metadata": {},
   "outputs": [
    {
     "data": {
      "text/plain": [
       "array([2, 2, 2, ..., 4, 4, 7], dtype=object)"
      ]
     },
     "execution_count": 44,
     "metadata": {},
     "output_type": "execute_result"
    }
   ],
   "source": [
    "# 1, 2, 4=>3, 5=>4, 6=>5, 7=>6, 10=>7\n",
    "\n",
    "for i in range(len(t)):\n",
    "    if t[i] == 4:\n",
    "        t[i] = 3\n",
    "    elif t[i] == 5:\n",
    "        t[i] = 4\n",
    "    elif t[i] == 6:\n",
    "        t[i] = 5\n",
    "    elif t[i] == 7:\n",
    "        t[i] = 6\n",
    "    elif t[i] == 10:\n",
    "        t[i] = 7\n",
    "        \n",
    "t"
   ]
  },
  {
   "cell_type": "code",
   "execution_count": 45,
   "metadata": {},
   "outputs": [],
   "source": [
    "v = vectors\n",
    "t = t-1"
   ]
  },
  {
   "cell_type": "code",
   "execution_count": 46,
   "metadata": {},
   "outputs": [
    {
     "data": {
      "text/plain": [
       "{0, 1, 2, 3, 4, 5, 6}"
      ]
     },
     "execution_count": 46,
     "metadata": {},
     "output_type": "execute_result"
    }
   ],
   "source": [
    "set(t)"
   ]
  },
  {
   "cell_type": "code",
   "execution_count": 47,
   "metadata": {},
   "outputs": [
    {
     "name": "stdout",
     "output_type": "stream",
     "text": [
      "(45438, 17)\n"
     ]
    },
    {
     "data": {
      "text/plain": [
       "torch.Size([45438, 1, 17])"
      ]
     },
     "execution_count": 47,
     "metadata": {},
     "output_type": "execute_result"
    }
   ],
   "source": [
    "# PLEASE if you want to run this block you have to run the previous one first\n",
    "labels = torch.from_numpy(np.array(t, dtype=np.int64))\n",
    "\n",
    "print(v.shape)\n",
    "\n",
    "v = torch.from_numpy(np.array(v, dtype=np.float64)).view(v.shape[0], 1, -1).float()\n",
    "v.size()"
   ]
  },
  {
   "cell_type": "code",
   "execution_count": 48,
   "metadata": {},
   "outputs": [
    {
     "name": "stdout",
     "output_type": "stream",
     "text": [
      "final labels tensor([[0.0096, 0.0135, 0.0085,  ..., 0.0091, 0.1191, 0.9994],\n",
      "        [0.0099, 0.0145, 0.0089,  ..., 0.0092, 0.1214, 0.9993],\n",
      "        [0.0099, 0.0145, 0.0088,  ..., 0.0092, 0.1212, 0.9993],\n",
      "        ...,\n",
      "        [0.0101, 0.0147, 0.0090,  ..., 0.0093, 0.1227, 0.9993],\n",
      "        [0.0101, 0.0147, 0.0091,  ..., 0.0094, 0.1226, 0.9993],\n",
      "        [0.0098, 0.0139, 0.0086,  ..., 0.0092, 0.1196, 0.9994]],\n",
      "       grad_fn=<SigmoidBackward>)\n"
     ]
    }
   ],
   "source": [
    "# Training the model\n",
    "batch_loss = 0\n",
    "for epoch in range(300):\n",
    "    \n",
    "    running_loss = 0.0\n",
    "    \n",
    "    # Clear for the gradients.\n",
    "    model.zero_grad()\n",
    "        \n",
    "    # here prepare the inputs and targets\n",
    "    # target = array of labels [0, 1, ] where the label i stands for the class of the word i\n",
    "    training_input = v\n",
    "    target = labels\n",
    "        \n",
    "    # run a forward pass\n",
    "    label_scores = model(training_input)\n",
    "    # Calculate loss, backpropagate, and update weights/parameters by calling opt.step()\n",
    "    loss = loss_function(label_scores, target)\n",
    "    loss.backward()\n",
    "    optimizer.step()\n",
    "    \n",
    "    \n",
    "    running_loss += loss.item()\n",
    "        \n",
    "    print(\"Epoch: {0}/300. Loss: {2:.2f} Progress: {1}%\".format(epoch, int((epoch * 100)/300), running_loss / (epoch+1)) , end=\"\\r\")\n",
    "        \n",
    "\n",
    "print(\"Bi-LSTM model training is done!                           \", end='\\r')\n",
    "print(\"final labels {0}\".format(label_scores))"
   ]
  },
  {
   "cell_type": "code",
   "execution_count": 49,
   "metadata": {},
   "outputs": [
    {
     "data": {
      "text/plain": [
       "torch.Size([45438, 7])"
      ]
     },
     "execution_count": 49,
     "metadata": {},
     "output_type": "execute_result"
    }
   ],
   "source": [
    "label_scores.size()"
   ]
  },
  {
   "cell_type": "code",
   "execution_count": 50,
   "metadata": {},
   "outputs": [],
   "source": [
    "y = []\n",
    "\n",
    "for p in label_scores:\n",
    "    i = 0\n",
    "    m = 0\n",
    "    for index, e in enumerate(p):\n",
    "        if float(e) > m:\n",
    "            i = index\n",
    "            m = e\n",
    "    y.append(i)"
   ]
  },
  {
   "cell_type": "code",
   "execution_count": null,
   "metadata": {},
   "outputs": [],
   "source": []
  },
  {
   "cell_type": "markdown",
   "metadata": {},
   "source": [
    "sigmoid = nn.Sigmoid()\n",
    "testing = sigmoid(label_scores)"
   ]
  },
  {
   "cell_type": "code",
   "execution_count": 51,
   "metadata": {},
   "outputs": [],
   "source": [
    "def accuracy(labels, predicted):\n",
    "    total_accuracy = 0\n",
    "    n = 0\n",
    "    for y, p in zip(labels, predicted):\n",
    "        if (y == p):\n",
    "            total_accuracy +=1\n",
    "        n+=1\n",
    "    return total_accuracy/n"
   ]
  },
  {
   "cell_type": "code",
   "execution_count": 52,
   "metadata": {},
   "outputs": [
    {
     "data": {
      "text/plain": [
       "0.8399357366081254"
      ]
     },
     "execution_count": 52,
     "metadata": {},
     "output_type": "execute_result"
    }
   ],
   "source": [
    "accuracy(labels, y)"
   ]
  },
  {
   "cell_type": "markdown",
   "metadata": {},
   "source": [
    "Model v1 = Feature vector all\n",
    "\n",
    "Model v2 = Feature vector only layout\n",
    "\n",
    "Model v3 = Feature vector all + sigmoid on training\n",
    "\n",
    "Model v4 = Feature vector layout + sigmoid on training"
   ]
  },
  {
   "cell_type": "code",
   "execution_count": 53,
   "metadata": {},
   "outputs": [
    {
     "name": "stderr",
     "output_type": "stream",
     "text": [
      "/home/azeddine/anaconda3/lib/python3.7/site-packages/torch/serialization.py:292: UserWarning: Couldn't retrieve source code for container of type BiLSTM. It won't be checked for correctness upon loading.\n",
      "  \"type \" + obj.__name__ + \". It won't be checked \"\n",
      "/home/azeddine/anaconda3/lib/python3.7/site-packages/torch/serialization.py:292: UserWarning: Couldn't retrieve source code for container of type LSTM. It won't be checked for correctness upon loading.\n",
      "  \"type \" + obj.__name__ + \". It won't be checked \"\n",
      "/home/azeddine/anaconda3/lib/python3.7/site-packages/torch/serialization.py:292: UserWarning: Couldn't retrieve source code for container of type Linear. It won't be checked for correctness upon loading.\n",
      "  \"type \" + obj.__name__ + \". It won't be checked \"\n",
      "/home/azeddine/anaconda3/lib/python3.7/site-packages/torch/serialization.py:292: UserWarning: Couldn't retrieve source code for container of type Sigmoid. It won't be checked for correctness upon loading.\n",
      "  \"type \" + obj.__name__ + \". It won't be checked \"\n"
     ]
    }
   ],
   "source": [
    "torch.save(model, \"modelv4\")"
   ]
  },
  {
   "cell_type": "code",
   "execution_count": null,
   "metadata": {},
   "outputs": [],
   "source": []
  },
  {
   "cell_type": "code",
   "execution_count": null,
   "metadata": {},
   "outputs": [],
   "source": []
  }
 ],
 "metadata": {
  "kernelspec": {
   "display_name": "Python 3",
   "language": "python",
   "name": "python3"
  },
  "language_info": {
   "codemirror_mode": {
    "name": "ipython",
    "version": 3
   },
   "file_extension": ".py",
   "mimetype": "text/x-python",
   "name": "python",
   "nbconvert_exporter": "python",
   "pygments_lexer": "ipython3",
   "version": "3.7.4"
  }
 },
 "nbformat": 4,
 "nbformat_minor": 4
}
