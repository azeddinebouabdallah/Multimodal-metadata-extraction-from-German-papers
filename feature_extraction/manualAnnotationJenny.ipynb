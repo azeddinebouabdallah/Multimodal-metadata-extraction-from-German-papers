{
 "metadata": {
  "language_info": {
   "codemirror_mode": {
    "name": "ipython",
    "version": 3
   },
   "file_extension": ".py",
   "mimetype": "text/x-python",
   "name": "python",
   "nbconvert_exporter": "python",
   "pygments_lexer": "ipython3",
   "version": "3.8.5-final"
  },
  "orig_nbformat": 2,
  "kernelspec": {
   "name": "python3",
   "display_name": "Python 3",
   "language": "python"
  }
 },
 "nbformat": 4,
 "nbformat_minor": 2,
 "cells": [
  {
   "cell_type": "code",
   "execution_count": 4,
   "metadata": {},
   "outputs": [
    {
     "output_type": "stream",
     "name": "stdout",
     "text": [
      "i = 76: ssoar_datasetssoar-journpsycho-1993-2-seel-erfahrungen_aus_der_praxis_der.csv\ni = 77: ssoar_datasetssoar-journpsycho-1993-2-wir_brauchen_eine_andere_psychologische.csv\ni = 78: ssoar_datasetssoar-journpsycho-1993-3-benthe_et_al-von_den_moglichkeiten_des_praxisbezuges.csv\ni = 79: ssoar_datasetssoar-journpsycho-1993-3-busch-zur_politisch-psychologischen_bestimmung_einer_spatmodernen.csv\ni = 80: ssoar_datasetssoar-journpsycho-1993-3-felten-praxis-forschung_wurde_tat-sache.csv\ni = 81: ssoar_datasetssoar-journpsycho-1993-3-fischer-dialektische_psychologie_und_psychoanalyse.csv\ni = 82: ssoar_datasetssoar-journpsycho-1993-3-ist_psychoanalyse_an_der_universitat.csv\ni = 83: ssoar_datasetssoar-journpsycho-1993-3-jenal_et_al-psychoanalyse_im_grundstudium_-_ihre.csv\ni = 84: ssoar_datasetssoar-journpsycho-1993-3-juelich-die_wiederkehr_des_verdrangten.csv\ni = 85: ssoar_datasetssoar-journpsycho-1993-3-leithauser-geh_nicht_nach_haus_laudatio.csv\ni = 86: ssoar_datasetssoar-journpsycho-1993-3-rez-galliker.csv\ni = 87: ssoar_datasetssoar-journpsycho-1993-3-rez-sichler.csv\ni = 88: ssoar_datasetssoar-journpsycho-1993-3-schutt-der_psychoanalytiker_als_homo_faber.csv\ni = 89: ssoar_datasetssoar-journpsycho-1993-3-vinnai-was_kann_die_psychoanalyse_zur.csv\ni = 90: ssoar_datasetssoar-journpsycho-1993-3-vogt-psychoanalyse_an_der_universitat.csv\ni = 91: ssoar_datasetssoar-journpsycho-1993-4-bohme_et_al-im_gesprach_gernot_bohme_mit.csv\ni = 92: ssoar_datasetssoar-journpsycho-1993-4-buchholz-die_rolle_der_prozephantasie_in.csv\ni = 93: ssoar_datasetssoar-journpsycho-1993-4-hemmati-weber-zivilisierung_zum_corpus.csv\ni = 94: ssoar_datasetssoar-journpsycho-1993-4-herzog-phanomenologie_und_experiment_in_der.csv\ni = 95: ssoar_datasetssoar-journpsycho-1993-4-kramer-badoni-okologische_krise_und_stadtische_mobilitat.csv\ni = 96: ssoar_datasetssoar-journpsycho-1993-4-rez-krau.csv\ni = 97: ssoar_datasetssoar-journpsycho-1993-4-rez-sichler.csv\ni = 98: ssoar_datasetssoar-journpsycho-1993-4-schachtner-jugendlichkeit_-_anleitung_zur_normalitat.csv\ni = 99: ssoar_datasetssoar-journpsycho-1993-4-sichler_et_al-von_der_umweltkrise_zum_menschlichen.csv\ni = 100: ssoar_datasetssoar-journpsycho-1994-1-buchholz-zur_symbolik_und_metaphorik_der.csv\ni = 101: ssoar_datasetssoar-journpsycho-1994-1-das_psychologiestudium_der_zukunft_oder.csv\ni = 102: ssoar_datasetssoar-journpsycho-1994-1-gleiss-freud-lose_psychoanalyse.csv\ni = 103: ssoar_datasetssoar-journpsycho-1994-1-jaeggi-das_flimmern_auf_der_leinwand.csv\ni = 104: ssoar_datasetssoar-journpsycho-1994-1-krau_et_al-im_gesprach_anna_rosmus_mit.csv\ni = 105: ssoar_datasetssoar-journpsycho-1994-1-mehler-zum_verhalten_jugendlicher_neonazis.csv\ni = 106: ssoar_datasetssoar-journpsycho-1994-1-niewiarra-und_dann_is_gewalt_eben.csv\ni = 107: ssoar_datasetssoar-journpsycho-1994-1-ottomeyer_et_al-die_haider-inszenierung_als_schiefheilung_und.csv\ni = 108: ssoar_datasetssoar-journpsycho-1994-2-bialas-das_heroische_subjekt_in_der.csv\ni = 109: ssoar_datasetssoar-journpsycho-1994-2-hegener-der_gestrauchelte_souveran.csv\ni = 110: ssoar_datasetssoar-journpsycho-1994-2-mattes-kritische_psychologie_am_grabmal_des.csv\ni = 111: ssoar_datasetssoar-journpsycho-1994-2-rauschenbach-die_wiederkehr_des_behemoth.csv\ni = 112: ssoar_datasetssoar-journpsycho-1994-2-reijen-authentizitat_und_selbsterhaltung.csv\ni = 113: ssoar_datasetssoar-journpsycho-1994-2-rez-krau.csv\ni = 114: ssoar_datasetssoar-journpsycho-1994-2-rez-leithauser.csv\ni = 115: ssoar_datasetssoar-journpsycho-1994-2-schurig-um-welt_-_ein_schlusselbegriff_der.csv\ni = 116: ssoar_datasetssoar-journpsycho-1994-2-waldenfels-response_und_responsivitat_in_der.csv\ni = 117: ssoar_datasetssoar-journpsycho-1994-3-muhlen_achs-korperpolitik_zur_rolle_der_korpersprache.csv\ni = 118: ssoar_datasetssoar-journpsycho-1994-3-rez-werthmann.csv\ni = 119: ssoar_datasetssoar-journpsycho-1994-4-borsi-das_gespenst_der_postmoderne_im.csv\ni = 120: ssoar_datasetssoar-journpsycho-1994-4-bruder-postmoderne_als_jugendkultur.csv\ni = 121: ssoar_datasetssoar-journpsycho-1994-4-geiger-pladoyer_fur_das_narrenamt.csv\ni = 122: ssoar_datasetssoar-journpsycho-1994-4-gold_et_al-moglichkeiten_der_gestaltung_von_kongressen.csv\ni = 123: ssoar_datasetssoar-journpsycho-1994-4-katzenstein-gute_grunde.csv\ni = 124: ssoar_datasetssoar-journpsycho-1994-4-keupp_et_al-zygmunt_bauman_vorgestellt_von_heiner.csv\ni = 125: ssoar_datasetssoar-journpsycho-1994-4-sichler-pluralisierung_und_perspektivitat.csv\ni = 126: ssoar_datasetssoar-journpsycho-1994-4-vaassen-epistemologische_aspekte_einer_narrativen_sozialwissenschaft.csv\ni = 127: ssoar_datasetssoar-journpsycho-1995-2-antoch-die_lust_am_sicheren_untergang.csv\ni = 128: ssoar_datasetssoar-journpsycho-1995-2-bruder-bezzel_et_al-peter_bruckner_vorgestellt_von_almuth.csv\ni = 129: ssoar_datasetssoar-journpsycho-1995-2-keupp-gemeinsinn_aus_eigennutz.csv\ni = 130: ssoar_datasetssoar-journpsycho-1995-2-rez-jaeggi.csv\ni = 131: ssoar_datasetssoar-journpsycho-1995-2-rez-witt.csv\ni = 132: ssoar_datasetssoar-journpsycho-1995-2-schachtner-hubert_l_dreyfus_im_gesprach.csv\ni = 133: ssoar_datasetssoar-journpsycho-1995-2-sonntag-herrschaft_und_genossenschaft.csv\ni = 134: ssoar_datasetssoar-journpsycho-1995-2-stipper_et_al-sexueller_mibrauch_-_zwei_konzepte.csv\ni = 135: ssoar_datasetssoar-journpsycho-1996-2-bartmann-der_beitrag_der_allgemeinen_psychologie.csv\ni = 136: ssoar_datasetssoar-journpsycho-1996-2-haack-wegner-ansatze_zu_einer_selbstreflexiven_dimension.csv\ni = 137: ssoar_datasetssoar-journpsycho-1996-2-hegener-kz_-_system_-_normalitat.csv\ni = 138: ssoar_datasetssoar-journpsycho-1996-2-hermsen-didaktische_und_methodische_uberlegungen_zu.csv\ni = 139: ssoar_datasetssoar-journpsycho-1996-2-krampen-angewandte_forschung_und_anwendungspraxis_in.csv\ni = 140: ssoar_datasetssoar-journpsycho-1996-2-rez-schmitt.csv\ni = 141: ssoar_datasetssoar-journpsycho-1996-2-seel_et_al-im_gesprach_heiko_ernst.csv\ni = 142: ssoar_datasetssoar-journpsycho-1996-2-wegner-lern-_und_lehrmotivation.csv\ni = 143: ssoar_datasetssoar-journpsycho-1996-2-winter-forschend_lernen_-_lernend_forschen.csv\ni = 144: ssoar_datasetssoar-journpsycho-2003-1-brockmeier-die_zeit_meines_lebens.csv\ni = 145: ssoar_datasetssoar-journpsycho-2003-1-kolbl_et_al-geschichtsbewusstsein_als_psychologischer_begriff.csv\ni = 146: ssoar_datasetssoar-journpsycho-2003-1-kraus-das_regime_des_engen_blickes.csv\ni = 147: ssoar_datasetssoar-journpsycho-2003-2-diese_welt_bedarf_unserer_aufmerksamkeit.csv\ni = 148: ssoar_datasetssoar-journpsycho-2003-2-haug-erinnerung_an_lernen.csv\ni = 149: ssoar_datasetssoar-journpsycho-2003-2-laucken-uber_die_semantische_blindheit_einer.csv\ni = 150: ssoar_datasetssoar-journpsycho-2003-2-osterkamp-kritische_psychologie_als_wissenschaft_der.csv\n"
     ]
    }
   ],
   "source": [
    "import os, fnmatch\n",
    "import pandas as pd\n",
    "\n",
    "# change document range\n",
    "\n",
    "startingDocument = 76\n",
    "endDocument = 150\n",
    "\n",
    "# get all file names in that range\n",
    "listOfFiles = os.listdir('./features/')\n",
    "pattern = \"*.csv\"\n",
    "\n",
    "fileNames = []\n",
    "i = 0\n",
    "for entry in listOfFiles:\n",
    "    if fnmatch.fnmatch(entry, pattern):\n",
    "        i = i + 1\n",
    "        if i >= startingDocument and i <= endDocument:\n",
    "            print(\"i = \" + str(i) + \": \" + entry)\n",
    "            fileNames.append(entry)\n",
    "        "
   ]
  },
  {
   "cell_type": "code",
   "execution_count": 5,
   "metadata": {},
   "outputs": [],
   "source": [
    "# number = 0 for first; number = 74 for last in document range\n",
    "def getDocumentByNumber(number):\n",
    "   df = pd.read_csv('./features/'+fileNames[number])\n",
    "   return df"
   ]
  },
  {
   "cell_type": "code",
   "execution_count": 131,
   "metadata": {},
   "outputs": [
    {
     "output_type": "stream",
     "name": "stdout",
     "text": [
      "ssoar_datasetssoar-journpsycho-1996-2-seel_et_al-im_gesprach_heiko_ernst.csv\nNo label column. Will add it.\n414\n"
     ]
    },
    {
     "output_type": "execute_result",
     "data": {
      "text/plain": [
       "   Unnamed: 0  0              1         2  3  4   5  6  7  8  ...      1034  \\\n",
       "0           0  0             1m  0.000000  0  0   2  1  0  0  ...  0.473445   \n",
       "1           1  1      Gesprich:  0.111111  1  0   9  0  0  1  ...  0.093156   \n",
       "2           2  2          Heiko  0.200000  1  0   5  0  0  0  ... -0.068846   \n",
       "3           3  3         Ernst,  0.166667  1  0   6  0  0  0  ...  0.192572   \n",
       "4           4  4  Chefredakteur  0.076923  1  0  13  0  0  0  ...  0.086131   \n",
       "\n",
       "       1035      1036      1037      1038      1039      1040      1041  \\\n",
       "0 -0.392712 -0.240282 -0.063541  0.179832 -0.292793  0.220208  0.530089   \n",
       "1  0.316893  0.019087 -0.051087  0.101100 -0.094752 -0.025138  0.387636   \n",
       "2 -0.281726 -0.124464 -0.466750 -0.243976 -0.574813  0.182594  0.318582   \n",
       "3  0.067427 -0.269080  0.222778  0.282133  0.033176  0.101834  0.050845   \n",
       "4 -0.238435 -0.880150 -0.520613  0.197087 -0.271716  0.265624  0.144365   \n",
       "\n",
       "       1042  label  \n",
       "0  0.098775     10  \n",
       "1 -0.284090     10  \n",
       "2  0.028438     10  \n",
       "3 -0.281793     10  \n",
       "4 -0.859220     10  \n",
       "\n",
       "[5 rows x 1045 columns]"
      ],
      "text/html": "<div>\n<style scoped>\n    .dataframe tbody tr th:only-of-type {\n        vertical-align: middle;\n    }\n\n    .dataframe tbody tr th {\n        vertical-align: top;\n    }\n\n    .dataframe thead th {\n        text-align: right;\n    }\n</style>\n<table border=\"1\" class=\"dataframe\">\n  <thead>\n    <tr style=\"text-align: right;\">\n      <th></th>\n      <th>Unnamed: 0</th>\n      <th>0</th>\n      <th>1</th>\n      <th>2</th>\n      <th>3</th>\n      <th>4</th>\n      <th>5</th>\n      <th>6</th>\n      <th>7</th>\n      <th>8</th>\n      <th>...</th>\n      <th>1034</th>\n      <th>1035</th>\n      <th>1036</th>\n      <th>1037</th>\n      <th>1038</th>\n      <th>1039</th>\n      <th>1040</th>\n      <th>1041</th>\n      <th>1042</th>\n      <th>label</th>\n    </tr>\n  </thead>\n  <tbody>\n    <tr>\n      <th>0</th>\n      <td>0</td>\n      <td>0</td>\n      <td>1m</td>\n      <td>0.000000</td>\n      <td>0</td>\n      <td>0</td>\n      <td>2</td>\n      <td>1</td>\n      <td>0</td>\n      <td>0</td>\n      <td>...</td>\n      <td>0.473445</td>\n      <td>-0.392712</td>\n      <td>-0.240282</td>\n      <td>-0.063541</td>\n      <td>0.179832</td>\n      <td>-0.292793</td>\n      <td>0.220208</td>\n      <td>0.530089</td>\n      <td>0.098775</td>\n      <td>10</td>\n    </tr>\n    <tr>\n      <th>1</th>\n      <td>1</td>\n      <td>1</td>\n      <td>Gesprich:</td>\n      <td>0.111111</td>\n      <td>1</td>\n      <td>0</td>\n      <td>9</td>\n      <td>0</td>\n      <td>0</td>\n      <td>1</td>\n      <td>...</td>\n      <td>0.093156</td>\n      <td>0.316893</td>\n      <td>0.019087</td>\n      <td>-0.051087</td>\n      <td>0.101100</td>\n      <td>-0.094752</td>\n      <td>-0.025138</td>\n      <td>0.387636</td>\n      <td>-0.284090</td>\n      <td>10</td>\n    </tr>\n    <tr>\n      <th>2</th>\n      <td>2</td>\n      <td>2</td>\n      <td>Heiko</td>\n      <td>0.200000</td>\n      <td>1</td>\n      <td>0</td>\n      <td>5</td>\n      <td>0</td>\n      <td>0</td>\n      <td>0</td>\n      <td>...</td>\n      <td>-0.068846</td>\n      <td>-0.281726</td>\n      <td>-0.124464</td>\n      <td>-0.466750</td>\n      <td>-0.243976</td>\n      <td>-0.574813</td>\n      <td>0.182594</td>\n      <td>0.318582</td>\n      <td>0.028438</td>\n      <td>10</td>\n    </tr>\n    <tr>\n      <th>3</th>\n      <td>3</td>\n      <td>3</td>\n      <td>Ernst,</td>\n      <td>0.166667</td>\n      <td>1</td>\n      <td>0</td>\n      <td>6</td>\n      <td>0</td>\n      <td>0</td>\n      <td>0</td>\n      <td>...</td>\n      <td>0.192572</td>\n      <td>0.067427</td>\n      <td>-0.269080</td>\n      <td>0.222778</td>\n      <td>0.282133</td>\n      <td>0.033176</td>\n      <td>0.101834</td>\n      <td>0.050845</td>\n      <td>-0.281793</td>\n      <td>10</td>\n    </tr>\n    <tr>\n      <th>4</th>\n      <td>4</td>\n      <td>4</td>\n      <td>Chefredakteur</td>\n      <td>0.076923</td>\n      <td>1</td>\n      <td>0</td>\n      <td>13</td>\n      <td>0</td>\n      <td>0</td>\n      <td>0</td>\n      <td>...</td>\n      <td>0.086131</td>\n      <td>-0.238435</td>\n      <td>-0.880150</td>\n      <td>-0.520613</td>\n      <td>0.197087</td>\n      <td>-0.271716</td>\n      <td>0.265624</td>\n      <td>0.144365</td>\n      <td>-0.859220</td>\n      <td>10</td>\n    </tr>\n  </tbody>\n</table>\n<p>5 rows × 1045 columns</p>\n</div>"
     },
     "metadata": {},
     "execution_count": 131
    }
   ],
   "source": [
    "import numpy as np\n",
    "\n",
    "numberOfDocument = 65\n",
    "\n",
    "df = getDocumentByNumber(numberOfDocument)\n",
    "filenameOfVector = fileNames[numberOfDocument]\n",
    "print(filenameOfVector)\n",
    "\n",
    "#Add Column if not exists and fill it with default value of 10 = other\n",
    "if not {'label'}.issubset(df.columns):\n",
    "    print(\"No label column. Will add it.\")\n",
    "    df['label'] = 10\n",
    "\n",
    "maxWords = len(df)\n",
    "print(len(df))\n",
    "\n",
    "df.head()"
   ]
  },
  {
   "cell_type": "code",
   "execution_count": 134,
   "metadata": {},
   "outputs": [
    {
     "output_type": "execute_result",
     "data": {
      "text/plain": [
       "    Unnamed: 0   0              1         2  3  4   5  6  7  8  ...      1034  \\\n",
       "0            0   0             1m  0.000000  0  0   2  1  0  0  ...  0.473445   \n",
       "1            1   1      Gesprich:  0.111111  1  0   9  0  0  1  ...  0.093156   \n",
       "2            2   2          Heiko  0.200000  1  0   5  0  0  0  ... -0.068846   \n",
       "3            3   3         Ernst,  0.166667  1  0   6  0  0  0  ...  0.192572   \n",
       "4            4   4  Chefredakteur  0.076923  1  0  13  0  0  0  ...  0.086131   \n",
       "5            5   5            der  0.000000  0  0   3  0  0  0  ... -0.403546   \n",
       "6            6   6    Zeitschrift  0.090909  1  0  11  0  0  0  ... -0.592824   \n",
       "7            7   7  ))Psychologie  0.076923  0  0  13  0  0  0  ... -0.501188   \n",
       "8            8   8       heutecc,  0.000000  0  0   8  0  0  0  ...  0.114951   \n",
       "9            9   9            mit  0.000000  0  0   3  0  0  0  ...  0.044909   \n",
       "10          10  10    Hans-Jurgen  0.181818  1  0  11  0  0  0  ... -0.151103   \n",
       "11          11  11           Seel  0.250000  1  0   4  0  0  0  ...  0.582138   \n",
       "12          12  12            und  0.000000  0  0   3  0  0  0  ...  0.227903   \n",
       "13          13  13          Ralph  0.200000  1  0   5  0  0  0  ... -0.229807   \n",
       "14          14  14        Sichler  0.142857  1  0   7  0  0  0  ...  0.317077   \n",
       "15          15  15             J.  0.500000  1  0   2  0  0  0  ... -0.216471   \n",
       "16          16  16          SEEL:  0.800000  1  0   5  0  0  1  ...  0.193914   \n",
       "17          17  17          Thema  0.200000  1  0   5  0  0  0  ... -0.139900   \n",
       "18          18  18            fUr  0.333333  0  0   3  0  0  0  ... -0.034418   \n",
       "19          19  19          unser  0.000000  0  0   5  0  0  0  ... -0.064038   \n",
       "20          20  20       Gesprach  0.125000  1  0   8  0  0  0  ...  0.087071   \n",
       "21          21  21            ist  0.000000  0  0   3  0  0  0  ...  0.091201   \n",
       "22          22  22            der  0.000000  0  0   3  0  0  0  ... -0.444153   \n",
       "23          23  23   Zusammenhang  0.083333  1  0  12  0  0  0  ...  0.212459   \n",
       "24          24  24       zwischen  0.000000  0  0   8  0  0  0  ... -0.041171   \n",
       "25          25  25         Person  0.166667  1  0   6  0  0  0  ...  0.223579   \n",
       "26          26  26            und  0.000000  0  0   3  0  0  0  ...  0.233749   \n",
       "27          27  27            der  0.000000  0  0   3  0  0  0  ... -0.393409   \n",
       "28          28  28         Arbeit  0.166667  1  0   6  0  0  0  ...  0.597639   \n",
       "29          29  29            fUr  0.333333  0  0   3  0  0  0  ... -0.124057   \n",
       "30          30  30          unser  0.000000  0  0   5  0  0  0  ... -0.086383   \n",
       "31          31  31          Fach.  0.200000  1  0   5  0  0  0  ...  0.139047   \n",
       "32          32  32        Deshalb  0.142857  1  0   7  0  0  0  ... -0.340773   \n",
       "33          33  33         unsere  0.000000  0  0   6  0  0  0  ...  0.149078   \n",
       "34          34  34            er­  0.000000  0  0   3  0  0  0  ... -0.043623   \n",
       "35          35  35            ste  0.000000  0  0   3  0  0  0  ... -0.191443   \n",
       "36          36  36         Frage:  0.166667  1  0   6  0  0  1  ...  0.189985   \n",
       "37          37  37            Wie  0.333333  1  0   3  0  0  0  ...  0.107471   \n",
       "38          38  38           sind  0.000000  0  0   4  0  0  0  ...  0.243480   \n",
       "39          39  39            Sie  0.333333  1  0   3  0  0  0  ...  0.325007   \n",
       "\n",
       "        1035      1036      1037      1038      1039      1040      1041  \\\n",
       "0  -0.392712 -0.240282 -0.063541  0.179832 -0.292793  0.220208  0.530089   \n",
       "1   0.316893  0.019087 -0.051087  0.101100 -0.094752 -0.025138  0.387636   \n",
       "2  -0.281726 -0.124464 -0.466750 -0.243976 -0.574813  0.182594  0.318582   \n",
       "3   0.067427 -0.269080  0.222778  0.282133  0.033176  0.101834  0.050845   \n",
       "4  -0.238435 -0.880150 -0.520613  0.197087 -0.271716  0.265624  0.144365   \n",
       "5  -0.244380  0.086432 -0.167180 -0.087715 -0.499027 -0.062801 -0.302371   \n",
       "6  -0.167500 -0.361690 -0.356178 -0.385876  0.152538 -0.150098  0.587598   \n",
       "7  -0.090914 -0.180594 -0.379629  0.108214  0.670537  0.433021 -0.253027   \n",
       "8   0.238300  0.182403  0.118103  0.148365  0.168192  0.294094  0.058510   \n",
       "9   0.044889 -0.217946 -0.276106 -0.213421 -0.002294  0.070079  0.115445   \n",
       "10  0.196160 -0.155233 -0.413188 -0.302399  0.011033 -0.050398  0.233633   \n",
       "11 -0.152969 -0.289719  0.193728  0.438213  0.041429 -0.021504  0.339486   \n",
       "12  0.202806  0.088628 -0.294343 -0.150856  0.134256 -0.214519 -0.148762   \n",
       "13 -0.283594 -0.000539 -0.615382 -0.195799 -0.068746 -0.152569  0.219785   \n",
       "14 -0.365701 -0.039871  0.210927  0.232756  0.125848  0.061085  0.081609   \n",
       "15  0.318670 -0.290582 -0.324647 -0.021940  0.034257 -0.165521  0.440526   \n",
       "16 -0.182076 -0.066774  0.140374  0.242840  0.130411  0.021977 -0.210050   \n",
       "17  0.209824 -0.770563 -0.337224 -0.027723  0.252152  0.264535  0.876700   \n",
       "18  0.021859  0.177685  0.146176  0.139140 -0.005398  0.216456 -0.107467   \n",
       "19 -0.623466 -0.054577  0.065453 -0.173272 -0.858790 -0.136680  0.202683   \n",
       "20 -0.192990 -0.058319 -0.086303  0.163493  0.136834  0.027092  0.387221   \n",
       "21 -0.086076 -0.175580 -0.488357 -0.340887 -0.280651 -0.110916 -0.163928   \n",
       "22 -0.293858  0.126392 -0.137491 -0.065976 -0.438586 -0.133806 -0.298850   \n",
       "23 -0.065782 -0.825122 -0.325907 -0.476331  0.310915 -0.405081 -0.226699   \n",
       "24 -0.097616 -0.380936  0.168394 -0.431240  0.397760 -0.193226 -0.049604   \n",
       "25 -0.200357  0.242834 -0.031881 -0.187846  0.021165 -0.032168  0.070286   \n",
       "26  0.180553  0.093664 -0.276049 -0.151688  0.127819 -0.211343 -0.139566   \n",
       "27 -0.220896  0.108076 -0.170839 -0.116761 -0.518632 -0.067165 -0.278728   \n",
       "28 -0.006249  0.218212 -0.101376  0.061305  0.145059 -0.452291  0.216027   \n",
       "29  0.022880  0.169674  0.214946  0.107544 -0.063997  0.224276 -0.052943   \n",
       "30 -0.611175 -0.036651  0.068887 -0.146299 -0.829001 -0.144484  0.184155   \n",
       "31  0.035437 -0.013391 -0.252102 -0.296695  0.056733 -0.291655 -0.139743   \n",
       "32  0.092558  0.511247 -0.207718  0.051962 -0.095456 -0.016122  0.055519   \n",
       "33 -0.262057 -0.314190 -0.271745 -0.050411 -0.376202 -0.283558  0.440217   \n",
       "34  0.367868  0.048502  0.266473  0.247152  0.113039  0.242109  0.041108   \n",
       "35  0.561076  0.362362  0.127325  0.436396 -0.012486 -0.079306  0.273426   \n",
       "36  0.177715  0.410973  0.178954  0.082021 -0.087156 -0.043096  0.059892   \n",
       "37  0.488168 -0.477310 -0.868272 -0.100944 -0.229966  0.483826  0.220658   \n",
       "38 -0.307952  0.022091 -0.249455 -0.359919 -0.435847 -0.176366 -0.262679   \n",
       "39 -0.206383  0.220510 -0.428834 -0.001804 -0.250533  0.225207 -0.135645   \n",
       "\n",
       "        1042  label  \n",
       "0   0.098775      2  \n",
       "1  -0.284090      2  \n",
       "2   0.028438      2  \n",
       "3  -0.281793      2  \n",
       "4  -0.859220      2  \n",
       "5  -0.000014      2  \n",
       "6   0.065511      2  \n",
       "7   0.337988      2  \n",
       "8  -0.082287      2  \n",
       "9  -0.297309     10  \n",
       "10  0.069159      1  \n",
       "11 -0.541343      1  \n",
       "12 -0.645280      1  \n",
       "13  0.118501      1  \n",
       "14 -0.165451      1  \n",
       "15  0.131235      1  \n",
       "16 -0.019523     10  \n",
       "17 -0.376706     10  \n",
       "18 -0.212452     10  \n",
       "19 -0.243414     10  \n",
       "20 -0.274466     10  \n",
       "21 -0.233805     10  \n",
       "22  0.018805     10  \n",
       "23 -0.138163     10  \n",
       "24  0.224432     10  \n",
       "25  0.442409     10  \n",
       "26 -0.640357     10  \n",
       "27  0.007592     10  \n",
       "28  0.141726     10  \n",
       "29 -0.208083     10  \n",
       "30 -0.261416     10  \n",
       "31 -0.074762     10  \n",
       "32 -0.193133     10  \n",
       "33 -0.441266     10  \n",
       "34 -0.210004     10  \n",
       "35 -0.892240     10  \n",
       "36 -0.075274     10  \n",
       "37  0.262141     10  \n",
       "38 -0.525346     10  \n",
       "39 -0.490578     10  \n",
       "\n",
       "[40 rows x 1045 columns]"
      ],
      "text/html": "<div>\n<style scoped>\n    .dataframe tbody tr th:only-of-type {\n        vertical-align: middle;\n    }\n\n    .dataframe tbody tr th {\n        vertical-align: top;\n    }\n\n    .dataframe thead th {\n        text-align: right;\n    }\n</style>\n<table border=\"1\" class=\"dataframe\">\n  <thead>\n    <tr style=\"text-align: right;\">\n      <th></th>\n      <th>Unnamed: 0</th>\n      <th>0</th>\n      <th>1</th>\n      <th>2</th>\n      <th>3</th>\n      <th>4</th>\n      <th>5</th>\n      <th>6</th>\n      <th>7</th>\n      <th>8</th>\n      <th>...</th>\n      <th>1034</th>\n      <th>1035</th>\n      <th>1036</th>\n      <th>1037</th>\n      <th>1038</th>\n      <th>1039</th>\n      <th>1040</th>\n      <th>1041</th>\n      <th>1042</th>\n      <th>label</th>\n    </tr>\n  </thead>\n  <tbody>\n    <tr>\n      <th>0</th>\n      <td>0</td>\n      <td>0</td>\n      <td>1m</td>\n      <td>0.000000</td>\n      <td>0</td>\n      <td>0</td>\n      <td>2</td>\n      <td>1</td>\n      <td>0</td>\n      <td>0</td>\n      <td>...</td>\n      <td>0.473445</td>\n      <td>-0.392712</td>\n      <td>-0.240282</td>\n      <td>-0.063541</td>\n      <td>0.179832</td>\n      <td>-0.292793</td>\n      <td>0.220208</td>\n      <td>0.530089</td>\n      <td>0.098775</td>\n      <td>2</td>\n    </tr>\n    <tr>\n      <th>1</th>\n      <td>1</td>\n      <td>1</td>\n      <td>Gesprich:</td>\n      <td>0.111111</td>\n      <td>1</td>\n      <td>0</td>\n      <td>9</td>\n      <td>0</td>\n      <td>0</td>\n      <td>1</td>\n      <td>...</td>\n      <td>0.093156</td>\n      <td>0.316893</td>\n      <td>0.019087</td>\n      <td>-0.051087</td>\n      <td>0.101100</td>\n      <td>-0.094752</td>\n      <td>-0.025138</td>\n      <td>0.387636</td>\n      <td>-0.284090</td>\n      <td>2</td>\n    </tr>\n    <tr>\n      <th>2</th>\n      <td>2</td>\n      <td>2</td>\n      <td>Heiko</td>\n      <td>0.200000</td>\n      <td>1</td>\n      <td>0</td>\n      <td>5</td>\n      <td>0</td>\n      <td>0</td>\n      <td>0</td>\n      <td>...</td>\n      <td>-0.068846</td>\n      <td>-0.281726</td>\n      <td>-0.124464</td>\n      <td>-0.466750</td>\n      <td>-0.243976</td>\n      <td>-0.574813</td>\n      <td>0.182594</td>\n      <td>0.318582</td>\n      <td>0.028438</td>\n      <td>2</td>\n    </tr>\n    <tr>\n      <th>3</th>\n      <td>3</td>\n      <td>3</td>\n      <td>Ernst,</td>\n      <td>0.166667</td>\n      <td>1</td>\n      <td>0</td>\n      <td>6</td>\n      <td>0</td>\n      <td>0</td>\n      <td>0</td>\n      <td>...</td>\n      <td>0.192572</td>\n      <td>0.067427</td>\n      <td>-0.269080</td>\n      <td>0.222778</td>\n      <td>0.282133</td>\n      <td>0.033176</td>\n      <td>0.101834</td>\n      <td>0.050845</td>\n      <td>-0.281793</td>\n      <td>2</td>\n    </tr>\n    <tr>\n      <th>4</th>\n      <td>4</td>\n      <td>4</td>\n      <td>Chefredakteur</td>\n      <td>0.076923</td>\n      <td>1</td>\n      <td>0</td>\n      <td>13</td>\n      <td>0</td>\n      <td>0</td>\n      <td>0</td>\n      <td>...</td>\n      <td>0.086131</td>\n      <td>-0.238435</td>\n      <td>-0.880150</td>\n      <td>-0.520613</td>\n      <td>0.197087</td>\n      <td>-0.271716</td>\n      <td>0.265624</td>\n      <td>0.144365</td>\n      <td>-0.859220</td>\n      <td>2</td>\n    </tr>\n    <tr>\n      <th>5</th>\n      <td>5</td>\n      <td>5</td>\n      <td>der</td>\n      <td>0.000000</td>\n      <td>0</td>\n      <td>0</td>\n      <td>3</td>\n      <td>0</td>\n      <td>0</td>\n      <td>0</td>\n      <td>...</td>\n      <td>-0.403546</td>\n      <td>-0.244380</td>\n      <td>0.086432</td>\n      <td>-0.167180</td>\n      <td>-0.087715</td>\n      <td>-0.499027</td>\n      <td>-0.062801</td>\n      <td>-0.302371</td>\n      <td>-0.000014</td>\n      <td>2</td>\n    </tr>\n    <tr>\n      <th>6</th>\n      <td>6</td>\n      <td>6</td>\n      <td>Zeitschrift</td>\n      <td>0.090909</td>\n      <td>1</td>\n      <td>0</td>\n      <td>11</td>\n      <td>0</td>\n      <td>0</td>\n      <td>0</td>\n      <td>...</td>\n      <td>-0.592824</td>\n      <td>-0.167500</td>\n      <td>-0.361690</td>\n      <td>-0.356178</td>\n      <td>-0.385876</td>\n      <td>0.152538</td>\n      <td>-0.150098</td>\n      <td>0.587598</td>\n      <td>0.065511</td>\n      <td>2</td>\n    </tr>\n    <tr>\n      <th>7</th>\n      <td>7</td>\n      <td>7</td>\n      <td>))Psychologie</td>\n      <td>0.076923</td>\n      <td>0</td>\n      <td>0</td>\n      <td>13</td>\n      <td>0</td>\n      <td>0</td>\n      <td>0</td>\n      <td>...</td>\n      <td>-0.501188</td>\n      <td>-0.090914</td>\n      <td>-0.180594</td>\n      <td>-0.379629</td>\n      <td>0.108214</td>\n      <td>0.670537</td>\n      <td>0.433021</td>\n      <td>-0.253027</td>\n      <td>0.337988</td>\n      <td>2</td>\n    </tr>\n    <tr>\n      <th>8</th>\n      <td>8</td>\n      <td>8</td>\n      <td>heutecc,</td>\n      <td>0.000000</td>\n      <td>0</td>\n      <td>0</td>\n      <td>8</td>\n      <td>0</td>\n      <td>0</td>\n      <td>0</td>\n      <td>...</td>\n      <td>0.114951</td>\n      <td>0.238300</td>\n      <td>0.182403</td>\n      <td>0.118103</td>\n      <td>0.148365</td>\n      <td>0.168192</td>\n      <td>0.294094</td>\n      <td>0.058510</td>\n      <td>-0.082287</td>\n      <td>2</td>\n    </tr>\n    <tr>\n      <th>9</th>\n      <td>9</td>\n      <td>9</td>\n      <td>mit</td>\n      <td>0.000000</td>\n      <td>0</td>\n      <td>0</td>\n      <td>3</td>\n      <td>0</td>\n      <td>0</td>\n      <td>0</td>\n      <td>...</td>\n      <td>0.044909</td>\n      <td>0.044889</td>\n      <td>-0.217946</td>\n      <td>-0.276106</td>\n      <td>-0.213421</td>\n      <td>-0.002294</td>\n      <td>0.070079</td>\n      <td>0.115445</td>\n      <td>-0.297309</td>\n      <td>10</td>\n    </tr>\n    <tr>\n      <th>10</th>\n      <td>10</td>\n      <td>10</td>\n      <td>Hans-Jurgen</td>\n      <td>0.181818</td>\n      <td>1</td>\n      <td>0</td>\n      <td>11</td>\n      <td>0</td>\n      <td>0</td>\n      <td>0</td>\n      <td>...</td>\n      <td>-0.151103</td>\n      <td>0.196160</td>\n      <td>-0.155233</td>\n      <td>-0.413188</td>\n      <td>-0.302399</td>\n      <td>0.011033</td>\n      <td>-0.050398</td>\n      <td>0.233633</td>\n      <td>0.069159</td>\n      <td>1</td>\n    </tr>\n    <tr>\n      <th>11</th>\n      <td>11</td>\n      <td>11</td>\n      <td>Seel</td>\n      <td>0.250000</td>\n      <td>1</td>\n      <td>0</td>\n      <td>4</td>\n      <td>0</td>\n      <td>0</td>\n      <td>0</td>\n      <td>...</td>\n      <td>0.582138</td>\n      <td>-0.152969</td>\n      <td>-0.289719</td>\n      <td>0.193728</td>\n      <td>0.438213</td>\n      <td>0.041429</td>\n      <td>-0.021504</td>\n      <td>0.339486</td>\n      <td>-0.541343</td>\n      <td>1</td>\n    </tr>\n    <tr>\n      <th>12</th>\n      <td>12</td>\n      <td>12</td>\n      <td>und</td>\n      <td>0.000000</td>\n      <td>0</td>\n      <td>0</td>\n      <td>3</td>\n      <td>0</td>\n      <td>0</td>\n      <td>0</td>\n      <td>...</td>\n      <td>0.227903</td>\n      <td>0.202806</td>\n      <td>0.088628</td>\n      <td>-0.294343</td>\n      <td>-0.150856</td>\n      <td>0.134256</td>\n      <td>-0.214519</td>\n      <td>-0.148762</td>\n      <td>-0.645280</td>\n      <td>1</td>\n    </tr>\n    <tr>\n      <th>13</th>\n      <td>13</td>\n      <td>13</td>\n      <td>Ralph</td>\n      <td>0.200000</td>\n      <td>1</td>\n      <td>0</td>\n      <td>5</td>\n      <td>0</td>\n      <td>0</td>\n      <td>0</td>\n      <td>...</td>\n      <td>-0.229807</td>\n      <td>-0.283594</td>\n      <td>-0.000539</td>\n      <td>-0.615382</td>\n      <td>-0.195799</td>\n      <td>-0.068746</td>\n      <td>-0.152569</td>\n      <td>0.219785</td>\n      <td>0.118501</td>\n      <td>1</td>\n    </tr>\n    <tr>\n      <th>14</th>\n      <td>14</td>\n      <td>14</td>\n      <td>Sichler</td>\n      <td>0.142857</td>\n      <td>1</td>\n      <td>0</td>\n      <td>7</td>\n      <td>0</td>\n      <td>0</td>\n      <td>0</td>\n      <td>...</td>\n      <td>0.317077</td>\n      <td>-0.365701</td>\n      <td>-0.039871</td>\n      <td>0.210927</td>\n      <td>0.232756</td>\n      <td>0.125848</td>\n      <td>0.061085</td>\n      <td>0.081609</td>\n      <td>-0.165451</td>\n      <td>1</td>\n    </tr>\n    <tr>\n      <th>15</th>\n      <td>15</td>\n      <td>15</td>\n      <td>J.</td>\n      <td>0.500000</td>\n      <td>1</td>\n      <td>0</td>\n      <td>2</td>\n      <td>0</td>\n      <td>0</td>\n      <td>0</td>\n      <td>...</td>\n      <td>-0.216471</td>\n      <td>0.318670</td>\n      <td>-0.290582</td>\n      <td>-0.324647</td>\n      <td>-0.021940</td>\n      <td>0.034257</td>\n      <td>-0.165521</td>\n      <td>0.440526</td>\n      <td>0.131235</td>\n      <td>1</td>\n    </tr>\n    <tr>\n      <th>16</th>\n      <td>16</td>\n      <td>16</td>\n      <td>SEEL:</td>\n      <td>0.800000</td>\n      <td>1</td>\n      <td>0</td>\n      <td>5</td>\n      <td>0</td>\n      <td>0</td>\n      <td>1</td>\n      <td>...</td>\n      <td>0.193914</td>\n      <td>-0.182076</td>\n      <td>-0.066774</td>\n      <td>0.140374</td>\n      <td>0.242840</td>\n      <td>0.130411</td>\n      <td>0.021977</td>\n      <td>-0.210050</td>\n      <td>-0.019523</td>\n      <td>10</td>\n    </tr>\n    <tr>\n      <th>17</th>\n      <td>17</td>\n      <td>17</td>\n      <td>Thema</td>\n      <td>0.200000</td>\n      <td>1</td>\n      <td>0</td>\n      <td>5</td>\n      <td>0</td>\n      <td>0</td>\n      <td>0</td>\n      <td>...</td>\n      <td>-0.139900</td>\n      <td>0.209824</td>\n      <td>-0.770563</td>\n      <td>-0.337224</td>\n      <td>-0.027723</td>\n      <td>0.252152</td>\n      <td>0.264535</td>\n      <td>0.876700</td>\n      <td>-0.376706</td>\n      <td>10</td>\n    </tr>\n    <tr>\n      <th>18</th>\n      <td>18</td>\n      <td>18</td>\n      <td>fUr</td>\n      <td>0.333333</td>\n      <td>0</td>\n      <td>0</td>\n      <td>3</td>\n      <td>0</td>\n      <td>0</td>\n      <td>0</td>\n      <td>...</td>\n      <td>-0.034418</td>\n      <td>0.021859</td>\n      <td>0.177685</td>\n      <td>0.146176</td>\n      <td>0.139140</td>\n      <td>-0.005398</td>\n      <td>0.216456</td>\n      <td>-0.107467</td>\n      <td>-0.212452</td>\n      <td>10</td>\n    </tr>\n    <tr>\n      <th>19</th>\n      <td>19</td>\n      <td>19</td>\n      <td>unser</td>\n      <td>0.000000</td>\n      <td>0</td>\n      <td>0</td>\n      <td>5</td>\n      <td>0</td>\n      <td>0</td>\n      <td>0</td>\n      <td>...</td>\n      <td>-0.064038</td>\n      <td>-0.623466</td>\n      <td>-0.054577</td>\n      <td>0.065453</td>\n      <td>-0.173272</td>\n      <td>-0.858790</td>\n      <td>-0.136680</td>\n      <td>0.202683</td>\n      <td>-0.243414</td>\n      <td>10</td>\n    </tr>\n    <tr>\n      <th>20</th>\n      <td>20</td>\n      <td>20</td>\n      <td>Gesprach</td>\n      <td>0.125000</td>\n      <td>1</td>\n      <td>0</td>\n      <td>8</td>\n      <td>0</td>\n      <td>0</td>\n      <td>0</td>\n      <td>...</td>\n      <td>0.087071</td>\n      <td>-0.192990</td>\n      <td>-0.058319</td>\n      <td>-0.086303</td>\n      <td>0.163493</td>\n      <td>0.136834</td>\n      <td>0.027092</td>\n      <td>0.387221</td>\n      <td>-0.274466</td>\n      <td>10</td>\n    </tr>\n    <tr>\n      <th>21</th>\n      <td>21</td>\n      <td>21</td>\n      <td>ist</td>\n      <td>0.000000</td>\n      <td>0</td>\n      <td>0</td>\n      <td>3</td>\n      <td>0</td>\n      <td>0</td>\n      <td>0</td>\n      <td>...</td>\n      <td>0.091201</td>\n      <td>-0.086076</td>\n      <td>-0.175580</td>\n      <td>-0.488357</td>\n      <td>-0.340887</td>\n      <td>-0.280651</td>\n      <td>-0.110916</td>\n      <td>-0.163928</td>\n      <td>-0.233805</td>\n      <td>10</td>\n    </tr>\n    <tr>\n      <th>22</th>\n      <td>22</td>\n      <td>22</td>\n      <td>der</td>\n      <td>0.000000</td>\n      <td>0</td>\n      <td>0</td>\n      <td>3</td>\n      <td>0</td>\n      <td>0</td>\n      <td>0</td>\n      <td>...</td>\n      <td>-0.444153</td>\n      <td>-0.293858</td>\n      <td>0.126392</td>\n      <td>-0.137491</td>\n      <td>-0.065976</td>\n      <td>-0.438586</td>\n      <td>-0.133806</td>\n      <td>-0.298850</td>\n      <td>0.018805</td>\n      <td>10</td>\n    </tr>\n    <tr>\n      <th>23</th>\n      <td>23</td>\n      <td>23</td>\n      <td>Zusammenhang</td>\n      <td>0.083333</td>\n      <td>1</td>\n      <td>0</td>\n      <td>12</td>\n      <td>0</td>\n      <td>0</td>\n      <td>0</td>\n      <td>...</td>\n      <td>0.212459</td>\n      <td>-0.065782</td>\n      <td>-0.825122</td>\n      <td>-0.325907</td>\n      <td>-0.476331</td>\n      <td>0.310915</td>\n      <td>-0.405081</td>\n      <td>-0.226699</td>\n      <td>-0.138163</td>\n      <td>10</td>\n    </tr>\n    <tr>\n      <th>24</th>\n      <td>24</td>\n      <td>24</td>\n      <td>zwischen</td>\n      <td>0.000000</td>\n      <td>0</td>\n      <td>0</td>\n      <td>8</td>\n      <td>0</td>\n      <td>0</td>\n      <td>0</td>\n      <td>...</td>\n      <td>-0.041171</td>\n      <td>-0.097616</td>\n      <td>-0.380936</td>\n      <td>0.168394</td>\n      <td>-0.431240</td>\n      <td>0.397760</td>\n      <td>-0.193226</td>\n      <td>-0.049604</td>\n      <td>0.224432</td>\n      <td>10</td>\n    </tr>\n    <tr>\n      <th>25</th>\n      <td>25</td>\n      <td>25</td>\n      <td>Person</td>\n      <td>0.166667</td>\n      <td>1</td>\n      <td>0</td>\n      <td>6</td>\n      <td>0</td>\n      <td>0</td>\n      <td>0</td>\n      <td>...</td>\n      <td>0.223579</td>\n      <td>-0.200357</td>\n      <td>0.242834</td>\n      <td>-0.031881</td>\n      <td>-0.187846</td>\n      <td>0.021165</td>\n      <td>-0.032168</td>\n      <td>0.070286</td>\n      <td>0.442409</td>\n      <td>10</td>\n    </tr>\n    <tr>\n      <th>26</th>\n      <td>26</td>\n      <td>26</td>\n      <td>und</td>\n      <td>0.000000</td>\n      <td>0</td>\n      <td>0</td>\n      <td>3</td>\n      <td>0</td>\n      <td>0</td>\n      <td>0</td>\n      <td>...</td>\n      <td>0.233749</td>\n      <td>0.180553</td>\n      <td>0.093664</td>\n      <td>-0.276049</td>\n      <td>-0.151688</td>\n      <td>0.127819</td>\n      <td>-0.211343</td>\n      <td>-0.139566</td>\n      <td>-0.640357</td>\n      <td>10</td>\n    </tr>\n    <tr>\n      <th>27</th>\n      <td>27</td>\n      <td>27</td>\n      <td>der</td>\n      <td>0.000000</td>\n      <td>0</td>\n      <td>0</td>\n      <td>3</td>\n      <td>0</td>\n      <td>0</td>\n      <td>0</td>\n      <td>...</td>\n      <td>-0.393409</td>\n      <td>-0.220896</td>\n      <td>0.108076</td>\n      <td>-0.170839</td>\n      <td>-0.116761</td>\n      <td>-0.518632</td>\n      <td>-0.067165</td>\n      <td>-0.278728</td>\n      <td>0.007592</td>\n      <td>10</td>\n    </tr>\n    <tr>\n      <th>28</th>\n      <td>28</td>\n      <td>28</td>\n      <td>Arbeit</td>\n      <td>0.166667</td>\n      <td>1</td>\n      <td>0</td>\n      <td>6</td>\n      <td>0</td>\n      <td>0</td>\n      <td>0</td>\n      <td>...</td>\n      <td>0.597639</td>\n      <td>-0.006249</td>\n      <td>0.218212</td>\n      <td>-0.101376</td>\n      <td>0.061305</td>\n      <td>0.145059</td>\n      <td>-0.452291</td>\n      <td>0.216027</td>\n      <td>0.141726</td>\n      <td>10</td>\n    </tr>\n    <tr>\n      <th>29</th>\n      <td>29</td>\n      <td>29</td>\n      <td>fUr</td>\n      <td>0.333333</td>\n      <td>0</td>\n      <td>0</td>\n      <td>3</td>\n      <td>0</td>\n      <td>0</td>\n      <td>0</td>\n      <td>...</td>\n      <td>-0.124057</td>\n      <td>0.022880</td>\n      <td>0.169674</td>\n      <td>0.214946</td>\n      <td>0.107544</td>\n      <td>-0.063997</td>\n      <td>0.224276</td>\n      <td>-0.052943</td>\n      <td>-0.208083</td>\n      <td>10</td>\n    </tr>\n    <tr>\n      <th>30</th>\n      <td>30</td>\n      <td>30</td>\n      <td>unser</td>\n      <td>0.000000</td>\n      <td>0</td>\n      <td>0</td>\n      <td>5</td>\n      <td>0</td>\n      <td>0</td>\n      <td>0</td>\n      <td>...</td>\n      <td>-0.086383</td>\n      <td>-0.611175</td>\n      <td>-0.036651</td>\n      <td>0.068887</td>\n      <td>-0.146299</td>\n      <td>-0.829001</td>\n      <td>-0.144484</td>\n      <td>0.184155</td>\n      <td>-0.261416</td>\n      <td>10</td>\n    </tr>\n    <tr>\n      <th>31</th>\n      <td>31</td>\n      <td>31</td>\n      <td>Fach.</td>\n      <td>0.200000</td>\n      <td>1</td>\n      <td>0</td>\n      <td>5</td>\n      <td>0</td>\n      <td>0</td>\n      <td>0</td>\n      <td>...</td>\n      <td>0.139047</td>\n      <td>0.035437</td>\n      <td>-0.013391</td>\n      <td>-0.252102</td>\n      <td>-0.296695</td>\n      <td>0.056733</td>\n      <td>-0.291655</td>\n      <td>-0.139743</td>\n      <td>-0.074762</td>\n      <td>10</td>\n    </tr>\n    <tr>\n      <th>32</th>\n      <td>32</td>\n      <td>32</td>\n      <td>Deshalb</td>\n      <td>0.142857</td>\n      <td>1</td>\n      <td>0</td>\n      <td>7</td>\n      <td>0</td>\n      <td>0</td>\n      <td>0</td>\n      <td>...</td>\n      <td>-0.340773</td>\n      <td>0.092558</td>\n      <td>0.511247</td>\n      <td>-0.207718</td>\n      <td>0.051962</td>\n      <td>-0.095456</td>\n      <td>-0.016122</td>\n      <td>0.055519</td>\n      <td>-0.193133</td>\n      <td>10</td>\n    </tr>\n    <tr>\n      <th>33</th>\n      <td>33</td>\n      <td>33</td>\n      <td>unsere</td>\n      <td>0.000000</td>\n      <td>0</td>\n      <td>0</td>\n      <td>6</td>\n      <td>0</td>\n      <td>0</td>\n      <td>0</td>\n      <td>...</td>\n      <td>0.149078</td>\n      <td>-0.262057</td>\n      <td>-0.314190</td>\n      <td>-0.271745</td>\n      <td>-0.050411</td>\n      <td>-0.376202</td>\n      <td>-0.283558</td>\n      <td>0.440217</td>\n      <td>-0.441266</td>\n      <td>10</td>\n    </tr>\n    <tr>\n      <th>34</th>\n      <td>34</td>\n      <td>34</td>\n      <td>er­</td>\n      <td>0.000000</td>\n      <td>0</td>\n      <td>0</td>\n      <td>3</td>\n      <td>0</td>\n      <td>0</td>\n      <td>0</td>\n      <td>...</td>\n      <td>-0.043623</td>\n      <td>0.367868</td>\n      <td>0.048502</td>\n      <td>0.266473</td>\n      <td>0.247152</td>\n      <td>0.113039</td>\n      <td>0.242109</td>\n      <td>0.041108</td>\n      <td>-0.210004</td>\n      <td>10</td>\n    </tr>\n    <tr>\n      <th>35</th>\n      <td>35</td>\n      <td>35</td>\n      <td>ste</td>\n      <td>0.000000</td>\n      <td>0</td>\n      <td>0</td>\n      <td>3</td>\n      <td>0</td>\n      <td>0</td>\n      <td>0</td>\n      <td>...</td>\n      <td>-0.191443</td>\n      <td>0.561076</td>\n      <td>0.362362</td>\n      <td>0.127325</td>\n      <td>0.436396</td>\n      <td>-0.012486</td>\n      <td>-0.079306</td>\n      <td>0.273426</td>\n      <td>-0.892240</td>\n      <td>10</td>\n    </tr>\n    <tr>\n      <th>36</th>\n      <td>36</td>\n      <td>36</td>\n      <td>Frage:</td>\n      <td>0.166667</td>\n      <td>1</td>\n      <td>0</td>\n      <td>6</td>\n      <td>0</td>\n      <td>0</td>\n      <td>1</td>\n      <td>...</td>\n      <td>0.189985</td>\n      <td>0.177715</td>\n      <td>0.410973</td>\n      <td>0.178954</td>\n      <td>0.082021</td>\n      <td>-0.087156</td>\n      <td>-0.043096</td>\n      <td>0.059892</td>\n      <td>-0.075274</td>\n      <td>10</td>\n    </tr>\n    <tr>\n      <th>37</th>\n      <td>37</td>\n      <td>37</td>\n      <td>Wie</td>\n      <td>0.333333</td>\n      <td>1</td>\n      <td>0</td>\n      <td>3</td>\n      <td>0</td>\n      <td>0</td>\n      <td>0</td>\n      <td>...</td>\n      <td>0.107471</td>\n      <td>0.488168</td>\n      <td>-0.477310</td>\n      <td>-0.868272</td>\n      <td>-0.100944</td>\n      <td>-0.229966</td>\n      <td>0.483826</td>\n      <td>0.220658</td>\n      <td>0.262141</td>\n      <td>10</td>\n    </tr>\n    <tr>\n      <th>38</th>\n      <td>38</td>\n      <td>38</td>\n      <td>sind</td>\n      <td>0.000000</td>\n      <td>0</td>\n      <td>0</td>\n      <td>4</td>\n      <td>0</td>\n      <td>0</td>\n      <td>0</td>\n      <td>...</td>\n      <td>0.243480</td>\n      <td>-0.307952</td>\n      <td>0.022091</td>\n      <td>-0.249455</td>\n      <td>-0.359919</td>\n      <td>-0.435847</td>\n      <td>-0.176366</td>\n      <td>-0.262679</td>\n      <td>-0.525346</td>\n      <td>10</td>\n    </tr>\n    <tr>\n      <th>39</th>\n      <td>39</td>\n      <td>39</td>\n      <td>Sie</td>\n      <td>0.333333</td>\n      <td>1</td>\n      <td>0</td>\n      <td>3</td>\n      <td>0</td>\n      <td>0</td>\n      <td>0</td>\n      <td>...</td>\n      <td>0.325007</td>\n      <td>-0.206383</td>\n      <td>0.220510</td>\n      <td>-0.428834</td>\n      <td>-0.001804</td>\n      <td>-0.250533</td>\n      <td>0.225207</td>\n      <td>-0.135645</td>\n      <td>-0.490578</td>\n      <td>10</td>\n    </tr>\n  </tbody>\n</table>\n<p>40 rows × 1045 columns</p>\n</div>"
     },
     "metadata": {},
     "execution_count": 134
    }
   ],
   "source": [
    "#1 = author   #2 = title    #3 = affiliation    #4 = date     #5 = journal\n",
    "#6 = address  #7 = abstract     #8 = doi    #9 = email    #10 = other\n",
    "\n",
    "#Add annotation (change 0 to acutal number of words) You may need to include more variables depending on the layout\n",
    "author1 = [1] * 0\n",
    "other1 = [10] * 0\n",
    "title = [2] * 0\n",
    "author = [1] * 0\n",
    "other2 = [10] * 0\n",
    "gerintroduction = [7] * 0\n",
    "journal = [5] * 0\n",
    "other3 = [10] * (maxWords-len(author1)-len(other1)-len(title)-len(author)-len(other2)-len(gerintroduction)-len(journal))\n",
    "\n",
    "\n",
    "# Check or change order before labeling\n",
    "labels = np.concatenate((author1, other1,title,author,other2,gerintroduction,other3,journal))\n",
    "\n",
    "\n",
    "df['label'] = pd.Series(labels, index=df.index).astype(int)\n",
    "\n",
    "# Here you can check if everything worked correctly\n",
    "#df.head()\n",
    "df[0:40]\n",
    "#df[len(gerintroduction):len(gerintroduction)+40]\n",
    "#df[maxWords-20:maxWords]"
   ]
  },
  {
   "cell_type": "code",
   "execution_count": 135,
   "metadata": {},
   "outputs": [
    {
     "output_type": "stream",
     "name": "stdout",
     "text": [
      "Saved!\n"
     ]
    }
   ],
   "source": [
    "# Save dataframe as csv with label column\n",
    "\n",
    "df.to_csv('annotated_features/'+filenameOfVector)\n",
    "print(\"Saved!\")"
   ]
  },
  {
   "cell_type": "code",
   "execution_count": null,
   "metadata": {},
   "outputs": [],
   "source": []
  }
 ]
}